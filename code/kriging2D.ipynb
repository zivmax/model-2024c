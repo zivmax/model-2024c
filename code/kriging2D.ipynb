{
 "cells": [
  {
   "cell_type": "markdown",
   "metadata": {},
   "source": [
    "# Load Data and Preprocessing"
   ]
  },
  {
   "cell_type": "code",
   "execution_count": null,
   "metadata": {},
   "outputs": [],
   "source": [
    "import pandas as pd\n",
    "import os\n",
    "import plotly.graph_objects as go\n",
    "import numpy as np\n",
    "import matplotlib.pyplot as plt\n",
    "\n",
    "# Set the default DPI\n",
    "plt.rcParams['figure.dpi'] = 100  \n",
    "\n",
    "well_info = pd.read_csv('well-loc.tsv', sep='\\t')\n",
    "\n",
    "# Path to the sensor data directory\n",
    "sensor_data_path = 'sensor-data'\n",
    "\n",
    "# List all TSV files in the directory\n",
    "sensor_data_files = [f for f in os.listdir(sensor_data_path) if f.endswith('.tsv')]\n",
    "\n",
    "# Sort the sensor_data_files list\n",
    "sensor_data_files.sort(key= lambda x: int(x.split('.')[0]))\n",
    "\n",
    "# Load and concatenate all sensor data files into one DataFrame\n",
    "sensor_data_list = [pd.read_csv(os.path.join(sensor_data_path, file), sep='\\t',\n",
    "                                na_values=\"-9999\") for file in sensor_data_files]\n",
    "\n",
    "# Remove the data point with NaN value\n",
    "well_info = well_info.dropna()\n",
    "for sensor_data in sensor_data_list:\n",
    "    sensor_data.dropna(inplace=True)\n",
    "\n",
    "# Reset the index of the well_loc DataFrame to Well, X, Y\n",
    "well_info.rename(columns={'井': 'Well'}, inplace=True)\n",
    "\n",
    "# Reset the index of the sensor data DataFrame to Depth, Porosity, Hydrate Saturation\n",
    "for idx, _ in enumerate(sensor_data_list):\n",
    "\tsensor_data_list[idx].columns = ['Depth', 'Porosity', 'Hydrate Saturation']\n",
    "\n",
    "print(well_info.head())  # Display the first few rows to verify it's loaded correctly\n",
    "print(sensor_data_list[0].head())  # Display the first few rows to verify it's loaded correctly"
   ]
  },
  {
   "cell_type": "code",
   "execution_count": null,
   "metadata": {},
   "outputs": [],
   "source": [
    "# Calculate the percentage of the data points contains the negative value in sensor data\n",
    "negative_data = []\n",
    "for idx, sensor_data in enumerate(sensor_data_list):\n",
    "    condition = (sensor_data['Porosity'] < 0) | (sensor_data['Hydrate Saturation'] < 0)\n",
    "    negative_data.append(len(sensor_data[condition]) / len(sensor_data))\n",
    "\n",
    "# Plot the number of negative data points\n",
    "fig = go.Figure(data=[go.Bar(x=sensor_data_files, y=negative_data)])\n",
    "fig.update_layout(title_text='Number of negative data points in each sensor data file')\n",
    "fig.show()\n"
   ]
  },
  {
   "cell_type": "code",
   "execution_count": null,
   "metadata": {},
   "outputs": [],
   "source": [
    "from sklearn.preprocessing import MinMaxScaler\n",
    "\n",
    "# Normalize the sensor data\n",
    "scaler = MinMaxScaler()\n",
    "for idx, sensor_data in enumerate(sensor_data_list):\n",
    "    sensor_data[['Porosity', 'Hydrate Saturation']] = scaler.fit_transform(sensor_data[['Porosity', 'Hydrate Saturation']])"
   ]
  },
  {
   "cell_type": "markdown",
   "metadata": {},
   "source": [
    "# Estimate Resource Distribution"
   ]
  },
  {
   "cell_type": "code",
   "execution_count": null,
   "metadata": {},
   "outputs": [],
   "source": [
    "def estimate_resource(sensor_data: pd.Series) -> float:\n",
    "\t\"\"\"Estimate the resource at a given location based on sensor data\"\"\"\n",
    "\t# Get the Porosity and the Hydrate saturation\n",
    "\tporosity = sensor_data['Porosity']\n",
    "\thydrate_saturation = sensor_data['Hydrate Saturation']\n",
    "\n",
    "\tvalid_volume = 1 # Assume the valid volume is 1 cubic meter\n",
    "\tfactor = 155 # Assume the factor is 155\n",
    "\n",
    "\t# Calculate the resource estimate\n",
    "\treturn valid_volume * porosity * hydrate_saturation * factor"
   ]
  },
  {
   "cell_type": "code",
   "execution_count": null,
   "metadata": {},
   "outputs": [],
   "source": [
    "esti_data_list: list[pd.DataFrame] = []\n",
    "\n",
    "# Calculate the resource estimate for each sensor data in each depth\n",
    "for sensor_data in sensor_data_list:\n",
    "    estimation = pd.DataFrame()\n",
    "    estimation['Estimated Resources'] = sensor_data.apply(estimate_resource, axis=1)\n",
    "    estimation['Depth'] = sensor_data['Depth']\n",
    "    esti_data_list.append(estimation)\n",
    "\n",
    "esti_data_list[0]"
   ]
  },
  {
   "cell_type": "markdown",
   "metadata": {},
   "source": [
    "# Kriging 2D Interpolation"
   ]
  },
  {
   "cell_type": "markdown",
   "metadata": {},
   "source": [
    "### Kriging Interpolation of Total Resources"
   ]
  },
  {
   "cell_type": "code",
   "execution_count": null,
   "metadata": {},
   "outputs": [],
   "source": [
    "from pykrige.ok import OrdinaryKriging\n",
    "\n",
    "# 假设 well_info 是一个包含井点信息的DataFrame，其中包含X坐标、Y坐标和资源总量\n",
    "X = well_info['X']\n",
    "Y = well_info['Y']\n",
    "values = np.log(well_info['Total Resources'])\n",
    "\n",
    "print(len(values))\n",
    "\n",
    "# 创建OrdinaryKriging对象，这里只是为了生成实验变异函数\n",
    "ok = OrdinaryKriging(\n",
    "    X,\n",
    "    Y,\n",
    "    values,\n",
    "    variogram_model='gaussian',\n",
    "    enable_plotting=True\n",
    ")"
   ]
  },
  {
   "cell_type": "code",
   "execution_count": null,
   "metadata": {},
   "outputs": [],
   "source": [
    "# Define grid points for interpolation\n",
    "grid_x = np.arange(min(X)-200, max(X)+200, 1.0)\n",
    "grid_y = np.arange(min(Y)-200, max(Y)+200, 1.0)\n",
    "\n",
    "# Perform the interpolation\n",
    "z, ss = ok.execute('grid', grid_x, grid_y)\n"
   ]
  },
  {
   "cell_type": "code",
   "execution_count": null,
   "metadata": {},
   "outputs": [],
   "source": [
    "# Create a figure with two subplots\n",
    "fig, axs = plt.subplots(1, 2, figsize=(12, 5))  # 1 row, 2 columns\n",
    "\n",
    "# Plot the first kriging result on the first subplot\n",
    "c1 = axs[0].pcolormesh(grid_x, grid_y, ss, shading='auto')\n",
    "fig.colorbar(c1, ax=axs[0], label='Estimated Resources')\n",
    "axs[0].set_xlabel('X Coordinate')\n",
    "axs[0].set_ylabel('Y Coordinate')\n",
    "axs[0].set_title('Kriging Varience')\n",
    "\n",
    "# Plot the second kriging result on the second subplot\n",
    "c2 = axs[1].pcolormesh(grid_x, grid_y, z, shading='auto')\n",
    "fig.colorbar(c2, ax=axs[1], label='Estimated Resources')\n",
    "axs[1].set_xlabel('X Coordinate')\n",
    "axs[1].set_ylabel('Y Coordinate')\n",
    "axs[1].set_title('Kriging Interpolation of Resource Distribution')\n",
    "\n",
    "# Show the plot\n",
    "plt.tight_layout()\n",
    "plt.show()\n"
   ]
  }
 ],
 "metadata": {
  "language_info": {
   "name": "python"
  }
 },
 "nbformat": 4,
 "nbformat_minor": 2
}
