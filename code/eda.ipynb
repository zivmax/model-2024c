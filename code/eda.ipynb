{
 "cells": [
  {
   "cell_type": "markdown",
   "metadata": {},
   "source": [
    "# Load Data and Preprocessing"
   ]
  },
  {
   "cell_type": "code",
   "execution_count": 8,
   "metadata": {},
   "outputs": [
    {
     "name": "stdout",
     "output_type": "stream",
     "text": [
      "  Well      X      Y\n",
      "0  w01  34500  45000\n",
      "1  w02  36000  45050\n",
      "2  w03  37050  45020\n",
      "3  w04  37880  46000\n",
      "4  w05  35000  46030\n",
      "       Depth  Porosity  Hydrate Saturation\n",
      "0  1814.9316       NaN                 NaN\n",
      "1  1815.0840       NaN                 NaN\n",
      "2  1815.2364       NaN                 NaN\n",
      "3  1815.3888       NaN                 NaN\n",
      "4  1815.5412       NaN                 NaN\n"
     ]
    }
   ],
   "source": [
    "import pandas as pd\n",
    "import os\n",
    "import plotly.graph_objects as go\n",
    "import numpy as np\n",
    "import matplotlib.pyplot as plt\n",
    "\n",
    "# Set the default DPI\n",
    "plt.rcParams['figure.dpi'] = 100  \n",
    "\n",
    "well_info = pd.read_csv('well-loc.tsv', sep='\\t')\n",
    "\n",
    "# Path to the sensor data directory\n",
    "sensor_data_path = 'sensor-data'\n",
    "\n",
    "# List all TSV files in the directory\n",
    "sensor_data_files = [f for f in os.listdir(sensor_data_path) if f.endswith('.tsv')]\n",
    "\n",
    "# Sort the sensor_data_files list\n",
    "sensor_data_files.sort(key= lambda x: int(x.split('.')[0]))\n",
    "\n",
    "# Load and concatenate all sensor data files into one DataFrame\n",
    "sensor_data_list = [pd.read_csv(os.path.join(sensor_data_path, file), sep='\\t',\n",
    "                                na_values=\"-9999\") for file in sensor_data_files]\n",
    "\n",
    "\n",
    "# Reset the index of the well_loc DataFrame to Well, X, Y\n",
    "well_info.rename(columns={'井': 'Well'}, inplace=True)\n",
    "\n",
    "# Reset the index of the sensor data DataFrame to Depth, Porosity, Hydrate Saturation\n",
    "for idx, _ in enumerate(sensor_data_list):\n",
    "\tsensor_data_list[idx].columns = ['Depth', 'Porosity', 'Hydrate Saturation']\n",
    "\n",
    "print(well_info.head())  # Display the first few rows to verify it's loaded correctly\n",
    "print(sensor_data_list[0].head())  # Display the first few rows to verify it's loaded correctly"
   ]
  },
  {
   "cell_type": "code",
   "execution_count": 9,
   "metadata": {},
   "outputs": [
    {
     "name": "stdout",
     "output_type": "stream",
     "text": [
      "Descriptive Statistics for Well Information:\n",
      "                  X             Y\n",
      "count     14.000000     14.000000\n",
      "mean   35729.285714  47391.428571\n",
      "std     1281.072053   1859.341724\n",
      "min    34000.000000  45000.000000\n",
      "25%    34670.000000  46007.500000\n",
      "50%    35750.000000  47215.000000\n",
      "75%    36150.000000  49107.500000\n",
      "max    38000.000000  50000.000000\n",
      "\n",
      "Descriptive Statistics for Sensor Data:\n",
      "\n",
      "Sensor Data File 1:\n",
      "            Depth     Porosity  Hydrate Saturation\n",
      "count  1923.00000  1801.000000         1609.000000\n",
      "mean   1961.38800     0.488843            0.001296\n",
      "std      84.62263     0.044011            0.006527\n",
      "min    1814.93160     0.391800            0.000000\n",
      "25%    1888.15980     0.457700            0.000000\n",
      "50%    1961.38800     0.488900            0.000000\n",
      "75%    2034.61620     0.517700            0.000000\n",
      "max    2107.84440     0.748600            0.088900\n",
      "\n",
      "Sensor Data File 2:\n",
      "             Depth     Porosity  Hydrate Saturation\n",
      "count  1787.000000  1655.000000         1408.000000\n",
      "mean   1604.300000     0.508038            0.172149\n",
      "std      51.600678     0.085347            0.242259\n",
      "min    1515.000000     0.372943           -0.095347\n",
      "25%    1559.650000     0.452836            0.017835\n",
      "50%    1604.300000     0.487566            0.073318\n",
      "75%    1648.950000     0.541292            0.216235\n",
      "max    1693.600000     0.900575            0.889902\n",
      "\n",
      "Sensor Data File 3:\n",
      "             Depth     Porosity  Hydrate Saturation\n",
      "count  1654.000000  1487.000000         1264.000000\n",
      "mean   1782.650000     0.456307            0.004407\n",
      "std      47.761299     0.103604            0.011378\n",
      "min    1700.000000     0.299100            0.000000\n",
      "25%    1741.325000     0.388400            0.000000\n",
      "50%    1782.650000     0.430400            0.000000\n",
      "75%    1823.975000     0.488900            0.000000\n",
      "max    1865.300000     0.926100            0.074600\n",
      "\n",
      "Sensor Data File 4:\n",
      "             Depth     Porosity  Hydrate Saturation\n",
      "count  1829.000000  1690.000000         1474.000000\n",
      "mean   1636.400000     0.510441            0.173410\n",
      "std      52.813114     0.099198            0.174286\n",
      "min    1545.000000     0.292291           -0.673800\n",
      "25%    1590.700000     0.429363            0.000000\n",
      "50%    1636.400000     0.509030            0.185950\n",
      "75%    1682.100000     0.585026            0.317739\n",
      "max    1727.800000     0.827095            0.651820\n",
      "\n",
      "Sensor Data File 5:\n",
      "           Depth     Porosity  Hydrate Saturation\n",
      "count  2048.0000  1835.000000         1599.000000\n",
      "mean   1658.3500     0.467805           -0.020579\n",
      "std      59.1351     0.094342            0.076715\n",
      "min    1556.0000     0.276610           -0.662127\n",
      "25%    1607.1750     0.396600           -0.019038\n",
      "50%    1658.3500     0.457644            0.000000\n",
      "75%    1709.5250     0.532162            0.000000\n",
      "max    1760.7000     0.820117            0.077287\n",
      "\n",
      "Sensor Data File 6:\n",
      "             Depth     Porosity  Hydrate Saturation\n",
      "count  1901.000000  1780.000000         1480.000000\n",
      "mean   1836.000000     0.462810           -0.024724\n",
      "std      54.891575     0.091795            0.047725\n",
      "min    1741.000000     0.309091           -0.179033\n",
      "25%    1788.500000     0.401818           -0.058011\n",
      "50%    1836.000000     0.454413           -0.019236\n",
      "75%    1883.500000     0.523589            0.004879\n",
      "max    1931.000000     0.903613            0.105548\n",
      "\n",
      "Sensor Data File 7:\n",
      "             Depth    Porosity  Hydrate Saturation\n",
      "count   942.000000  756.000000          609.000000\n",
      "mean   1836.648600    0.530543            0.086495\n",
      "std      41.464424    0.043353            0.066015\n",
      "min    1764.944400    0.407900            0.000000\n",
      "25%    1800.796500    0.499200            0.043800\n",
      "50%    1836.648600    0.532600            0.082300\n",
      "75%    1872.500700    0.557225            0.116800\n",
      "max    1908.352800    0.645800            0.346700\n",
      "\n",
      "Sensor Data File 8:\n",
      "             Depth     Porosity  Hydrate Saturation\n",
      "count  2197.000000  1772.000000         1624.000000\n",
      "mean   1753.819200     0.471518           -0.103858\n",
      "std      96.677011     0.062733            0.332528\n",
      "min    1586.484000     0.000100           -4.469665\n",
      "25%    1670.151600     0.432000           -0.067706\n",
      "50%    1753.819200     0.471600            0.000000\n",
      "75%    1837.486800     0.507100            0.000000\n",
      "max    1921.154400     0.676700            0.155016\n",
      "\n",
      "Sensor Data File 9:\n",
      "             Depth     Porosity  Hydrate Saturation\n",
      "count  1430.000000  1280.000000         1118.000000\n",
      "mean   1838.782200     0.495177            0.178540\n",
      "std      62.933543     0.080942            0.135718\n",
      "min    1729.892400     0.260700            0.000000\n",
      "25%    1784.337300     0.436475            0.072500\n",
      "50%    1838.782200     0.487500            0.157700\n",
      "75%    1893.227100     0.535400            0.261650\n",
      "max    1947.672000     0.923200            0.702800\n",
      "\n",
      "Sensor Data File 10:\n",
      "             Depth    Porosity  Hydrate Saturation\n",
      "count   674.000000  567.000000          420.000000\n",
      "mean   1771.269000    0.523384            0.116739\n",
      "std      29.674006    0.063430            0.108913\n",
      "min    1719.986400    0.374900            0.000000\n",
      "25%    1745.627700    0.481850            0.036050\n",
      "50%    1771.269000    0.518600            0.088450\n",
      "75%    1796.910300    0.551700            0.159675\n",
      "max    1822.551600    0.767700            0.434500\n",
      "\n",
      "Sensor Data File 11:\n",
      "             Depth     Porosity  Hydrate Saturation\n",
      "count  2121.000000  1992.000000         1390.000000\n",
      "mean   1844.000000     0.446785           -0.012340\n",
      "std      61.242428     0.079919            0.047527\n",
      "min    1738.000000     0.287744           -0.211102\n",
      "25%    1791.000000     0.377917           -0.035446\n",
      "50%    1844.000000     0.448905            0.000000\n",
      "75%    1897.000000     0.500168            0.002847\n",
      "max    1950.000000     0.764798            0.216866\n",
      "\n",
      "Sensor Data File 12:\n",
      "             Depth    Porosity  Hydrate Saturation\n",
      "count   672.000000  550.000000          402.000000\n",
      "mean   1781.022600    0.516368            0.001983\n",
      "std      29.586018    0.060835            0.006803\n",
      "min    1729.892400    0.401800            0.000000\n",
      "25%    1755.457500    0.457750            0.000000\n",
      "50%    1781.022600    0.521300            0.000000\n",
      "75%    1806.587700    0.546975            0.000100\n",
      "max    1832.152800    0.695500            0.069300\n",
      "\n",
      "Sensor Data File 13:\n",
      "             Depth     Porosity  Hydrate Saturation\n",
      "count  1846.000000  1655.000000         1409.000000\n",
      "mean   1602.250000     0.526135           -0.022507\n",
      "std      53.303862     0.091029            0.110989\n",
      "min    1510.000000     0.392442           -0.583767\n",
      "25%    1556.125000     0.446003           -0.038089\n",
      "50%    1602.250000     0.509349           -0.003593\n",
      "75%    1648.375000     0.598565            0.013295\n",
      "max    1694.500000     0.886159            0.620332\n",
      "\n",
      "Sensor Data File 14:\n",
      "            Depth     Porosity  Hydrate Saturation\n",
      "count  1879.00000  1733.000000         1478.000000\n",
      "mean   1913.07720     0.491331            0.008666\n",
      "std      82.68689     0.070255            0.015802\n",
      "min    1769.97360     0.363200            0.000000\n",
      "25%    1841.52540     0.438600            0.000000\n",
      "50%    1913.07720     0.475700            0.000000\n",
      "75%    1984.62900     0.547100            0.008575\n",
      "max    2056.18080     0.740200            0.108300\n",
      "\n",
      "Checking for missing values in Well Information:\n",
      "Well    0\n",
      "X       0\n",
      "Y       0\n",
      "dtype: int64\n",
      "\n",
      "Checking for missing values in Sensor Data:\n",
      "\n",
      "Sensor Data File 1 Missing Values:\n",
      "Depth                   0\n",
      "Porosity              122\n",
      "Hydrate Saturation    314\n",
      "dtype: int64\n",
      "\n",
      "Sensor Data File 2 Missing Values:\n",
      "Depth                   0\n",
      "Porosity              132\n",
      "Hydrate Saturation    379\n",
      "dtype: int64\n",
      "\n",
      "Sensor Data File 3 Missing Values:\n",
      "Depth                   0\n",
      "Porosity              167\n",
      "Hydrate Saturation    390\n",
      "dtype: int64\n",
      "\n",
      "Sensor Data File 4 Missing Values:\n",
      "Depth                   0\n",
      "Porosity              139\n",
      "Hydrate Saturation    355\n",
      "dtype: int64\n",
      "\n",
      "Sensor Data File 5 Missing Values:\n",
      "Depth                   0\n",
      "Porosity              213\n",
      "Hydrate Saturation    449\n",
      "dtype: int64\n",
      "\n",
      "Sensor Data File 6 Missing Values:\n",
      "Depth                   0\n",
      "Porosity              121\n",
      "Hydrate Saturation    421\n",
      "dtype: int64\n",
      "\n",
      "Sensor Data File 7 Missing Values:\n",
      "Depth                   0\n",
      "Porosity              186\n",
      "Hydrate Saturation    333\n",
      "dtype: int64\n",
      "\n",
      "Sensor Data File 8 Missing Values:\n",
      "Depth                   0\n",
      "Porosity              425\n",
      "Hydrate Saturation    573\n",
      "dtype: int64\n",
      "\n",
      "Sensor Data File 9 Missing Values:\n",
      "Depth                   0\n",
      "Porosity              150\n",
      "Hydrate Saturation    312\n",
      "dtype: int64\n",
      "\n",
      "Sensor Data File 10 Missing Values:\n",
      "Depth                   0\n",
      "Porosity              107\n",
      "Hydrate Saturation    254\n",
      "dtype: int64\n",
      "\n",
      "Sensor Data File 11 Missing Values:\n",
      "Depth                   0\n",
      "Porosity              129\n",
      "Hydrate Saturation    731\n",
      "dtype: int64\n",
      "\n",
      "Sensor Data File 12 Missing Values:\n",
      "Depth                   0\n",
      "Porosity              122\n",
      "Hydrate Saturation    270\n",
      "dtype: int64\n",
      "\n",
      "Sensor Data File 13 Missing Values:\n",
      "Depth                   0\n",
      "Porosity              191\n",
      "Hydrate Saturation    437\n",
      "dtype: int64\n",
      "\n",
      "Sensor Data File 14 Missing Values:\n",
      "Depth                   0\n",
      "Porosity              146\n",
      "Hydrate Saturation    401\n",
      "dtype: int64\n",
      "\n",
      "Checking for duplicate rows in Well Information:\n",
      "0\n",
      "\n",
      "Sensor Data File 1 Duplicate Rows:\n",
      "0\n",
      "\n",
      "Sensor Data File 2 Duplicate Rows:\n",
      "0\n",
      "\n",
      "Sensor Data File 3 Duplicate Rows:\n",
      "0\n",
      "\n",
      "Sensor Data File 4 Duplicate Rows:\n",
      "0\n",
      "\n",
      "Sensor Data File 5 Duplicate Rows:\n",
      "0\n",
      "\n",
      "Sensor Data File 6 Duplicate Rows:\n",
      "0\n",
      "\n",
      "Sensor Data File 7 Duplicate Rows:\n",
      "0\n",
      "\n",
      "Sensor Data File 8 Duplicate Rows:\n",
      "0\n",
      "\n",
      "Sensor Data File 9 Duplicate Rows:\n",
      "0\n",
      "\n",
      "Sensor Data File 10 Duplicate Rows:\n",
      "0\n",
      "\n",
      "Sensor Data File 11 Duplicate Rows:\n",
      "0\n",
      "\n",
      "Sensor Data File 12 Duplicate Rows:\n",
      "0\n",
      "\n",
      "Sensor Data File 13 Duplicate Rows:\n",
      "0\n",
      "\n",
      "Sensor Data File 14 Duplicate Rows:\n",
      "0\n"
     ]
    },
    {
     "data": {
      "image/png": "[encoded data removed]",
      "text/plain": [
       "<Figure size 800x600 with 2 Axes>"
      ]
     },
     "metadata": {},
     "output_type": "display_data"
    }
   ],
   "source": [
    "# Show the summary of the dataset\n",
    "import pandas as pd\n",
    "import os\n",
    "import matplotlib.pyplot as plt\n",
    "import seaborn as sns  # For enhanced visualizations\n",
    "\n",
    "# Assuming previous code has already been run and data is loaded\n",
    "\n",
    "# 1. Descriptive Statistics\n",
    "print(\"Descriptive Statistics for Well Information:\")\n",
    "print(well_info.describe())\n",
    "print(\"\\nDescriptive Statistics for Sensor Data:\")\n",
    "for idx, sensor_data in enumerate(sensor_data_list):\n",
    "    print(f\"\\nSensor Data File {idx + 1}:\")\n",
    "    print(sensor_data.describe())\n",
    "\n",
    "# 2. Data Quality Checks\n",
    "print(\"\\nChecking for missing values in Well Information:\")\n",
    "print(well_info.isnull().sum())\n",
    "print(\"\\nChecking for missing values in Sensor Data:\")\n",
    "for idx, sensor_data in enumerate(sensor_data_list):\n",
    "    print(f\"\\nSensor Data File {idx + 1} Missing Values:\")\n",
    "    print(sensor_data.isnull().sum())\n",
    "\n",
    "print(\"\\nChecking for duplicate rows in Well Information:\")\n",
    "print(well_info.duplicated().sum())\n",
    "for idx, sensor_data in enumerate(sensor_data_list):\n",
    "    print(f\"\\nSensor Data File {idx + 1} Duplicate Rows:\")\n",
    "    print(sensor_data.duplicated().sum())\n",
    "\n",
    "# 3. Correlation Analysis\n",
    "# Assuming sensor data has common columns that can be concatenated for correlation analysis\n",
    "if len(sensor_data_list) > 0:\n",
    "    combined_sensor_data = pd.concat(sensor_data_list, ignore_index=True)\n",
    "    plt.figure(figsize=(8, 6))\n",
    "    sns.heatmap(combined_sensor_data.corr(), annot=True, fmt=\".2f\", cmap='coolwarm')\n",
    "    plt.title('Correlation Matrix of Combined Sensor Data')\n",
    "    plt.show()\n",
    "\n",
    "# Note: Ensure all plots are properly displayed\n",
    "plt.show()\n"
   ]
  },
  {
   "cell_type": "code",
   "execution_count": 10,
   "metadata": {},
   "outputs": [
    {
     "data": {
      "application/vnd.plotly.v1+json": {
       "config": {
        "plotlyServerURL": "https://plot.ly"
       },
       "data": [
        {
         "type": "bar",
         "x": [
          "01.tsv",
          "02.tsv",
          "03.tsv",
          "04.tsv",
          "05.tsv",
          "06.tsv",
          "07.tsv",
          "08.tsv",
          "09.tsv",
          "10.tsv",
          "11.tsv",
          "12.tsv",
          "13.tsv",
          "14.tsv"
         ],
         "y": [
          0,
          0.0889759373251259,
          0,
          0.037178786221979225,
          0.271484375,
          0.48816412414518673,
          0,
          0.3245334547109695,
          0,
          0,
          0.30975954738330974,
          0,
          0.4084507042253521,
          0
         ]
        }
       ],
       "layout": {
        "template": {
         "data": {
          "bar": [
           {
            "error_x": {
             "color": "#2a3f5f"
            },
            "error_y": {
             "color": "#2a3f5f"
            },
            "marker": {
             "line": {
              "color": "#E5ECF6",
              "width": 0.5
             },
             "pattern": {
              "fillmode": "overlay",
              "size": 10,
              "solidity": 0.2
             }
            },
            "type": "bar"
           }
          ],
          "barpolar": [
           {
            "marker": {
             "line": {
              "color": "#E5ECF6",
              "width": 0.5
             },
             "pattern": {
              "fillmode": "overlay",
              "size": 10,
              "solidity": 0.2
             }
            },
            "type": "barpolar"
           }
          ],
          "carpet": [
           {
            "aaxis": {
             "endlinecolor": "#2a3f5f",
             "gridcolor": "white",
             "linecolor": "white",
             "minorgridcolor": "white",
             "startlinecolor": "#2a3f5f"
            },
            "baxis": {
             "endlinecolor": "#2a3f5f",
             "gridcolor": "white",
             "linecolor": "white",
             "minorgridcolor": "white",
             "startlinecolor": "#2a3f5f"
            },
            "type": "carpet"
           }
          ],
          "choropleth": [
           {
            "colorbar": {
             "outlinewidth": 0,
             "ticks": ""
            },
            "type": "choropleth"
           }
          ],
          "contour": [
           {
            "colorbar": {
             "outlinewidth": 0,
             "ticks": ""
            },
            "colorscale": [
             [
              0,
              "#0d0887"
             ],
             [
              0.1111111111111111,
              "#46039f"
             ],
             [
              0.2222222222222222,
              "#7201a8"
             ],
             [
              0.3333333333333333,
              "#9c179e"
             ],
             [
              0.4444444444444444,
              "#bd3786"
             ],
             [
              0.5555555555555556,
              "#d8576b"
             ],
             [
              0.6666666666666666,
              "#ed7953"
             ],
             [
              0.7777777777777778,
              "#fb9f3a"
             ],
             [
              0.8888888888888888,
              "#fdca26"
             ],
             [
              1,
              "#f0f921"
             ]
            ],
            "type": "contour"
           }
          ],
          "contourcarpet": [
           {
            "colorbar": {
             "outlinewidth": 0,
             "ticks": ""
            },
            "type": "contourcarpet"
           }
          ],
          "heatmap": [
           {
            "colorbar": {
             "outlinewidth": 0,
             "ticks": ""
            },
            "colorscale": [
             [
              0,
              "#0d0887"
             ],
             [
              0.1111111111111111,
              "#46039f"
             ],
             [
              0.2222222222222222,
              "#7201a8"
             ],
             [
              0.3333333333333333,
              "#9c179e"
             ],
             [
              0.4444444444444444,
              "#bd3786"
             ],
             [
              0.5555555555555556,
              "#d8576b"
             ],
             [
              0.6666666666666666,
              "#ed7953"
             ],
             [
              0.7777777777777778,
              "#fb9f3a"
             ],
             [
              0.8888888888888888,
              "#fdca26"
             ],
             [
              1,
              "#f0f921"
             ]
            ],
            "type": "heatmap"
           }
          ],
          "heatmapgl": [
           {
            "colorbar": {
             "outlinewidth": 0,
             "ticks": ""
            },
            "colorscale": [
             [
              0,
              "#0d0887"
             ],
             [
              0.1111111111111111,
              "#46039f"
             ],
             [
              0.2222222222222222,
              "#7201a8"
             ],
             [
              0.3333333333333333,
              "#9c179e"
             ],
             [
              0.4444444444444444,
              "#bd3786"
             ],
             [
              0.5555555555555556,
              "#d8576b"
             ],
             [
              0.6666666666666666,
              "#ed7953"
             ],
             [
              0.7777777777777778,
              "#fb9f3a"
             ],
             [
              0.8888888888888888,
              "#fdca26"
             ],
             [
              1,
              "#f0f921"
             ]
            ],
            "type": "heatmapgl"
           }
          ],
          "histogram": [
           {
            "marker": {
             "pattern": {
              "fillmode": "overlay",
              "size": 10,
              "solidity": 0.2
             }
            },
            "type": "histogram"
           }
          ],
          "histogram2d": [
           {
            "colorbar": {
             "outlinewidth": 0,
             "ticks": ""
            },
            "colorscale": [
             [
              0,
              "#0d0887"
             ],
             [
              0.1111111111111111,
              "#46039f"
             ],
             [
              0.2222222222222222,
              "#7201a8"
             ],
             [
              0.3333333333333333,
              "#9c179e"
             ],
             [
              0.4444444444444444,
              "#bd3786"
             ],
             [
              0.5555555555555556,
              "#d8576b"
             ],
             [
              0.6666666666666666,
              "#ed7953"
             ],
             [
              0.7777777777777778,
              "#fb9f3a"
             ],
             [
              0.8888888888888888,
              "#fdca26"
             ],
             [
              1,
              "#f0f921"
             ]
            ],
            "type": "histogram2d"
           }
          ],
          "histogram2dcontour": [
           {
            "colorbar": {
             "outlinewidth": 0,
             "ticks": ""
            },
            "colorscale": [
             [
              0,
              "#0d0887"
             ],
             [
              0.1111111111111111,
              "#46039f"
             ],
             [
              0.2222222222222222,
              "#7201a8"
             ],
             [
              0.3333333333333333,
              "#9c179e"
             ],
             [
              0.4444444444444444,
              "#bd3786"
             ],
             [
              0.5555555555555556,
              "#d8576b"
             ],
             [
              0.6666666666666666,
              "#ed7953"
             ],
             [
              0.7777777777777778,
              "#fb9f3a"
             ],
             [
              0.8888888888888888,
              "#fdca26"
             ],
             [
              1,
              "#f0f921"
             ]
            ],
            "type": "histogram2dcontour"
           }
          ],
          "mesh3d": [
           {
            "colorbar": {
             "outlinewidth": 0,
             "ticks": ""
            },
            "type": "mesh3d"
           }
          ],
          "parcoords": [
           {
            "line": {
             "colorbar": {
              "outlinewidth": 0,
              "ticks": ""
             }
            },
            "type": "parcoords"
           }
          ],
          "pie": [
           {
            "automargin": true,
            "type": "pie"
           }
          ],
          "scatter": [
           {
            "fillpattern": {
             "fillmode": "overlay",
             "size": 10,
             "solidity": 0.2
            },
            "type": "scatter"
           }
          ],
          "scatter3d": [
           {
            "line": {
             "colorbar": {
              "outlinewidth": 0,
              "ticks": ""
             }
            },
            "marker": {
             "colorbar": {
              "outlinewidth": 0,
              "ticks": ""
             }
            },
            "type": "scatter3d"
           }
          ],
          "scattercarpet": [
           {
            "marker": {
             "colorbar": {
              "outlinewidth": 0,
              "ticks": ""
             }
            },
            "type": "scattercarpet"
           }
          ],
          "scattergeo": [
           {
            "marker": {
             "colorbar": {
              "outlinewidth": 0,
              "ticks": ""
             }
            },
            "type": "scattergeo"
           }
          ],
          "scattergl": [
           {
            "marker": {
             "colorbar": {
              "outlinewidth": 0,
              "ticks": ""
             }
            },
            "type": "scattergl"
           }
          ],
          "scattermapbox": [
           {
            "marker": {
             "colorbar": {
              "outlinewidth": 0,
              "ticks": ""
             }
            },
            "type": "scattermapbox"
           }
          ],
          "scatterpolar": [
           {
            "marker": {
             "colorbar": {
              "outlinewidth": 0,
              "ticks": ""
             }
            },
            "type": "scatterpolar"
           }
          ],
          "scatterpolargl": [
           {
            "marker": {
             "colorbar": {
              "outlinewidth": 0,
              "ticks": ""
             }
            },
            "type": "scatterpolargl"
           }
          ],
          "scatterternary": [
           {
            "marker": {
             "colorbar": {
              "outlinewidth": 0,
              "ticks": ""
             }
            },
            "type": "scatterternary"
           }
          ],
          "surface": [
           {
            "colorbar": {
             "outlinewidth": 0,
             "ticks": ""
            },
            "colorscale": [
             [
              0,
              "#0d0887"
             ],
             [
              0.1111111111111111,
              "#46039f"
             ],
             [
              0.2222222222222222,
              "#7201a8"
             ],
             [
              0.3333333333333333,
              "#9c179e"
             ],
             [
              0.4444444444444444,
              "#bd3786"
             ],
             [
              0.5555555555555556,
              "#d8576b"
             ],
             [
              0.6666666666666666,
              "#ed7953"
             ],
             [
              0.7777777777777778,
              "#fb9f3a"
             ],
             [
              0.8888888888888888,
              "#fdca26"
             ],
             [
              1,
              "#f0f921"
             ]
            ],
            "type": "surface"
           }
          ],
          "table": [
           {
            "cells": {
             "fill": {
              "color": "#EBF0F8"
             },
             "line": {
              "color": "white"
             }
            },
            "header": {
             "fill": {
              "color": "#C8D4E3"
             },
             "line": {
              "color": "white"
             }
            },
            "type": "table"
           }
          ]
         },
         "layout": {
          "annotationdefaults": {
           "arrowcolor": "#2a3f5f",
           "arrowhead": 0,
           "arrowwidth": 1
          },
          "autotypenumbers": "strict",
          "coloraxis": {
           "colorbar": {
            "outlinewidth": 0,
            "ticks": ""
           }
          },
          "colorscale": {
           "diverging": [
            [
             0,
             "#8e0152"
            ],
            [
             0.1,
             "#c51b7d"
            ],
            [
             0.2,
             "#de77ae"
            ],
            [
             0.3,
             "#f1b6da"
            ],
            [
             0.4,
             "#fde0ef"
            ],
            [
             0.5,
             "#f7f7f7"
            ],
            [
             0.6,
             "#e6f5d0"
            ],
            [
             0.7,
             "#b8e186"
            ],
            [
             0.8,
             "#7fbc41"
            ],
            [
             0.9,
             "#4d9221"
            ],
            [
             1,
             "#276419"
            ]
           ],
           "sequential": [
            [
             0,
             "#0d0887"
            ],
            [
             0.1111111111111111,
             "#46039f"
            ],
            [
             0.2222222222222222,
             "#7201a8"
            ],
            [
             0.3333333333333333,
             "#9c179e"
            ],
            [
             0.4444444444444444,
             "#bd3786"
            ],
            [
             0.5555555555555556,
             "#d8576b"
            ],
            [
             0.6666666666666666,
             "#ed7953"
            ],
            [
             0.7777777777777778,
             "#fb9f3a"
            ],
            [
             0.8888888888888888,
             "#fdca26"
            ],
            [
             1,
             "#f0f921"
            ]
           ],
           "sequentialminus": [
            [
             0,
             "#0d0887"
            ],
            [
             0.1111111111111111,
             "#46039f"
            ],
            [
             0.2222222222222222,
             "#7201a8"
            ],
            [
             0.3333333333333333,
             "#9c179e"
            ],
            [
             0.4444444444444444,
             "#bd3786"
            ],
            [
             0.5555555555555556,
             "#d8576b"
            ],
            [
             0.6666666666666666,
             "#ed7953"
            ],
            [
             0.7777777777777778,
             "#fb9f3a"
            ],
            [
             0.8888888888888888,
             "#fdca26"
            ],
            [
             1,
             "#f0f921"
            ]
           ]
          },
          "colorway": [
           "#636efa",
           "#EF553B",
           "#00cc96",
           "#ab63fa",
           "#FFA15A",
           "#19d3f3",
           "#FF6692",
           "#B6E880",
           "#FF97FF",
           "#FECB52"
          ],
          "font": {
           "color": "#2a3f5f"
          },
          "geo": {
           "bgcolor": "white",
           "lakecolor": "white",
           "landcolor": "#E5ECF6",
           "showlakes": true,
           "showland": true,
           "subunitcolor": "white"
          },
          "hoverlabel": {
           "align": "left"
          },
          "hovermode": "closest",
          "mapbox": {
           "style": "light"
          },
          "paper_bgcolor": "white",
          "plot_bgcolor": "#E5ECF6",
          "polar": {
           "angularaxis": {
            "gridcolor": "white",
            "linecolor": "white",
            "ticks": ""
           },
           "bgcolor": "#E5ECF6",
           "radialaxis": {
            "gridcolor": "white",
            "linecolor": "white",
            "ticks": ""
           }
          },
          "scene": {
           "xaxis": {
            "backgroundcolor": "#E5ECF6",
            "gridcolor": "white",
            "gridwidth": 2,
            "linecolor": "white",
            "showbackground": true,
            "ticks": "",
            "zerolinecolor": "white"
           },
           "yaxis": {
            "backgroundcolor": "#E5ECF6",
            "gridcolor": "white",
            "gridwidth": 2,
            "linecolor": "white",
            "showbackground": true,
            "ticks": "",
            "zerolinecolor": "white"
           },
           "zaxis": {
            "backgroundcolor": "#E5ECF6",
            "gridcolor": "white",
            "gridwidth": 2,
            "linecolor": "white",
            "showbackground": true,
            "ticks": "",
            "zerolinecolor": "white"
           }
          },
          "shapedefaults": {
           "line": {
            "color": "#2a3f5f"
           }
          },
          "ternary": {
           "aaxis": {
            "gridcolor": "white",
            "linecolor": "white",
            "ticks": ""
           },
           "baxis": {
            "gridcolor": "white",
            "linecolor": "white",
            "ticks": ""
           },
           "bgcolor": "#E5ECF6",
           "caxis": {
            "gridcolor": "white",
            "linecolor": "white",
            "ticks": ""
           }
          },
          "title": {
           "x": 0.05
          },
          "xaxis": {
           "automargin": true,
           "gridcolor": "white",
           "linecolor": "white",
           "ticks": "",
           "title": {
            "standoff": 15
           },
           "zerolinecolor": "white",
           "zerolinewidth": 2
          },
          "yaxis": {
           "automargin": true,
           "gridcolor": "white",
           "linecolor": "white",
           "ticks": "",
           "title": {
            "standoff": 15
           },
           "zerolinecolor": "white",
           "zerolinewidth": 2
          }
         }
        },
        "title": {
         "text": "Percentage of negative Hydrate Saturation points in each sensor data file"
        }
       }
      },
      "text/html": [
       "<div>                            <div id=\"370909d2-ea64-4874-870c-1ca400f9a9da\" class=\"plotly-graph-div\" style=\"height:525px; width:100%;\"></div>            <script type=\"text/javascript\">                require([\"plotly\"], function(Plotly) {                    window.PLOTLYENV=window.PLOTLYENV || {};                                    if (document.getElementById(\"370909d2-ea64-4874-870c-1ca400f9a9da\")) {                    Plotly.newPlot(                        \"370909d2-ea64-4874-870c-1ca400f9a9da\",                        [{\"x\":[\"01.tsv\",\"02.tsv\",\"03.tsv\",\"04.tsv\",\"05.tsv\",\"06.tsv\",\"07.tsv\",\"08.tsv\",\"09.tsv\",\"10.tsv\",\"11.tsv\",\"12.tsv\",\"13.tsv\",\"14.tsv\"],\"y\":[0.0,0.0889759373251259,0.0,0.037178786221979225,0.271484375,0.48816412414518673,0.0,0.3245334547109695,0.0,0.0,0.30975954738330974,0.0,0.4084507042253521,0.0],\"type\":\"bar\"}],                        {\"template\":{\"data\":{\"histogram2dcontour\":[{\"type\":\"histogram2dcontour\",\"colorbar\":{\"outlinewidth\":0,\"ticks\":\"\"},\"colorscale\":[[0.0,\"#0d0887\"],[0.1111111111111111,\"#46039f\"],[0.2222222222222222,\"#7201a8\"],[0.3333333333333333,\"#9c179e\"],[0.4444444444444444,\"#bd3786\"],[0.5555555555555556,\"#d8576b\"],[0.6666666666666666,\"#ed7953\"],[0.7777777777777778,\"#fb9f3a\"],[0.8888888888888888,\"#fdca26\"],[1.0,\"#f0f921\"]]}],\"choropleth\":[{\"type\":\"choropleth\",\"colorbar\":{\"outlinewidth\":0,\"ticks\":\"\"}}],\"histogram2d\":[{\"type\":\"histogram2d\",\"colorbar\":{\"outlinewidth\":0,\"ticks\":\"\"},\"colorscale\":[[0.0,\"#0d0887\"],[0.1111111111111111,\"#46039f\"],[0.2222222222222222,\"#7201a8\"],[0.3333333333333333,\"#9c179e\"],[0.4444444444444444,\"#bd3786\"],[0.5555555555555556,\"#d8576b\"],[0.6666666666666666,\"#ed7953\"],[0.7777777777777778,\"#fb9f3a\"],[0.8888888888888888,\"#fdca26\"],[1.0,\"#f0f921\"]]}],\"heatmap\":[{\"type\":\"heatmap\",\"colorbar\":{\"outlinewidth\":0,\"ticks\":\"\"},\"colorscale\":[[0.0,\"#0d0887\"],[0.1111111111111111,\"#46039f\"],[0.2222222222222222,\"#7201a8\"],[0.3333333333333333,\"#9c179e\"],[0.4444444444444444,\"#bd3786\"],[0.5555555555555556,\"#d8576b\"],[0.6666666666666666,\"#ed7953\"],[0.7777777777777778,\"#fb9f3a\"],[0.8888888888888888,\"#fdca26\"],[1.0,\"#f0f921\"]]}],\"heatmapgl\":[{\"type\":\"heatmapgl\",\"colorbar\":{\"outlinewidth\":0,\"ticks\":\"\"},\"colorscale\":[[0.0,\"#0d0887\"],[0.1111111111111111,\"#46039f\"],[0.2222222222222222,\"#7201a8\"],[0.3333333333333333,\"#9c179e\"],[0.4444444444444444,\"#bd3786\"],[0.5555555555555556,\"#d8576b\"],[0.6666666666666666,\"#ed7953\"],[0.7777777777777778,\"#fb9f3a\"],[0.8888888888888888,\"#fdca26\"],[1.0,\"#f0f921\"]]}],\"contourcarpet\":[{\"type\":\"contourcarpet\",\"colorbar\":{\"outlinewidth\":0,\"ticks\":\"\"}}],\"contour\":[{\"type\":\"contour\",\"colorbar\":{\"outlinewidth\":0,\"ticks\":\"\"},\"colorscale\":[[0.0,\"#0d0887\"],[0.1111111111111111,\"#46039f\"],[0.2222222222222222,\"#7201a8\"],[0.3333333333333333,\"#9c179e\"],[0.4444444444444444,\"#bd3786\"],[0.5555555555555556,\"#d8576b\"],[0.6666666666666666,\"#ed7953\"],[0.7777777777777778,\"#fb9f3a\"],[0.8888888888888888,\"#fdca26\"],[1.0,\"#f0f921\"]]}],\"surface\":[{\"type\":\"surface\",\"colorbar\":{\"outlinewidth\":0,\"ticks\":\"\"},\"colorscale\":[[0.0,\"#0d0887\"],[0.1111111111111111,\"#46039f\"],[0.2222222222222222,\"#7201a8\"],[0.3333333333333333,\"#9c179e\"],[0.4444444444444444,\"#bd3786\"],[0.5555555555555556,\"#d8576b\"],[0.6666666666666666,\"#ed7953\"],[0.7777777777777778,\"#fb9f3a\"],[0.8888888888888888,\"#fdca26\"],[1.0,\"#f0f921\"]]}],\"mesh3d\":[{\"type\":\"mesh3d\",\"colorbar\":{\"outlinewidth\":0,\"ticks\":\"\"}}],\"scatter\":[{\"fillpattern\":{\"fillmode\":\"overlay\",\"size\":10,\"solidity\":0.2},\"type\":\"scatter\"}],\"parcoords\":[{\"type\":\"parcoords\",\"line\":{\"colorbar\":{\"outlinewidth\":0,\"ticks\":\"\"}}}],\"scatterpolargl\":[{\"type\":\"scatterpolargl\",\"marker\":{\"colorbar\":{\"outlinewidth\":0,\"ticks\":\"\"}}}],\"bar\":[{\"error_x\":{\"color\":\"#2a3f5f\"},\"error_y\":{\"color\":\"#2a3f5f\"},\"marker\":{\"line\":{\"color\":\"#E5ECF6\",\"width\":0.5},\"pattern\":{\"fillmode\":\"overlay\",\"size\":10,\"solidity\":0.2}},\"type\":\"bar\"}],\"scattergeo\":[{\"type\":\"scattergeo\",\"marker\":{\"colorbar\":{\"outlinewidth\":0,\"ticks\":\"\"}}}],\"scatterpolar\":[{\"type\":\"scatterpolar\",\"marker\":{\"colorbar\":{\"outlinewidth\":0,\"ticks\":\"\"}}}],\"histogram\":[{\"marker\":{\"pattern\":{\"fillmode\":\"overlay\",\"size\":10,\"solidity\":0.2}},\"type\":\"histogram\"}],\"scattergl\":[{\"type\":\"scattergl\",\"marker\":{\"colorbar\":{\"outlinewidth\":0,\"ticks\":\"\"}}}],\"scatter3d\":[{\"type\":\"scatter3d\",\"line\":{\"colorbar\":{\"outlinewidth\":0,\"ticks\":\"\"}},\"marker\":{\"colorbar\":{\"outlinewidth\":0,\"ticks\":\"\"}}}],\"scattermapbox\":[{\"type\":\"scattermapbox\",\"marker\":{\"colorbar\":{\"outlinewidth\":0,\"ticks\":\"\"}}}],\"scatterternary\":[{\"type\":\"scatterternary\",\"marker\":{\"colorbar\":{\"outlinewidth\":0,\"ticks\":\"\"}}}],\"scattercarpet\":[{\"type\":\"scattercarpet\",\"marker\":{\"colorbar\":{\"outlinewidth\":0,\"ticks\":\"\"}}}],\"carpet\":[{\"aaxis\":{\"endlinecolor\":\"#2a3f5f\",\"gridcolor\":\"white\",\"linecolor\":\"white\",\"minorgridcolor\":\"white\",\"startlinecolor\":\"#2a3f5f\"},\"baxis\":{\"endlinecolor\":\"#2a3f5f\",\"gridcolor\":\"white\",\"linecolor\":\"white\",\"minorgridcolor\":\"white\",\"startlinecolor\":\"#2a3f5f\"},\"type\":\"carpet\"}],\"table\":[{\"cells\":{\"fill\":{\"color\":\"#EBF0F8\"},\"line\":{\"color\":\"white\"}},\"header\":{\"fill\":{\"color\":\"#C8D4E3\"},\"line\":{\"color\":\"white\"}},\"type\":\"table\"}],\"barpolar\":[{\"marker\":{\"line\":{\"color\":\"#E5ECF6\",\"width\":0.5},\"pattern\":{\"fillmode\":\"overlay\",\"size\":10,\"solidity\":0.2}},\"type\":\"barpolar\"}],\"pie\":[{\"automargin\":true,\"type\":\"pie\"}]},\"layout\":{\"autotypenumbers\":\"strict\",\"colorway\":[\"#636efa\",\"#EF553B\",\"#00cc96\",\"#ab63fa\",\"#FFA15A\",\"#19d3f3\",\"#FF6692\",\"#B6E880\",\"#FF97FF\",\"#FECB52\"],\"font\":{\"color\":\"#2a3f5f\"},\"hovermode\":\"closest\",\"hoverlabel\":{\"align\":\"left\"},\"paper_bgcolor\":\"white\",\"plot_bgcolor\":\"#E5ECF6\",\"polar\":{\"bgcolor\":\"#E5ECF6\",\"angularaxis\":{\"gridcolor\":\"white\",\"linecolor\":\"white\",\"ticks\":\"\"},\"radialaxis\":{\"gridcolor\":\"white\",\"linecolor\":\"white\",\"ticks\":\"\"}},\"ternary\":{\"bgcolor\":\"#E5ECF6\",\"aaxis\":{\"gridcolor\":\"white\",\"linecolor\":\"white\",\"ticks\":\"\"},\"baxis\":{\"gridcolor\":\"white\",\"linecolor\":\"white\",\"ticks\":\"\"},\"caxis\":{\"gridcolor\":\"white\",\"linecolor\":\"white\",\"ticks\":\"\"}},\"coloraxis\":{\"colorbar\":{\"outlinewidth\":0,\"ticks\":\"\"}},\"colorscale\":{\"sequential\":[[0.0,\"#0d0887\"],[0.1111111111111111,\"#46039f\"],[0.2222222222222222,\"#7201a8\"],[0.3333333333333333,\"#9c179e\"],[0.4444444444444444,\"#bd3786\"],[0.5555555555555556,\"#d8576b\"],[0.6666666666666666,\"#ed7953\"],[0.7777777777777778,\"#fb9f3a\"],[0.8888888888888888,\"#fdca26\"],[1.0,\"#f0f921\"]],\"sequentialminus\":[[0.0,\"#0d0887\"],[0.1111111111111111,\"#46039f\"],[0.2222222222222222,\"#7201a8\"],[0.3333333333333333,\"#9c179e\"],[0.4444444444444444,\"#bd3786\"],[0.5555555555555556,\"#d8576b\"],[0.6666666666666666,\"#ed7953\"],[0.7777777777777778,\"#fb9f3a\"],[0.8888888888888888,\"#fdca26\"],[1.0,\"#f0f921\"]],\"diverging\":[[0,\"#8e0152\"],[0.1,\"#c51b7d\"],[0.2,\"#de77ae\"],[0.3,\"#f1b6da\"],[0.4,\"#fde0ef\"],[0.5,\"#f7f7f7\"],[0.6,\"#e6f5d0\"],[0.7,\"#b8e186\"],[0.8,\"#7fbc41\"],[0.9,\"#4d9221\"],[1,\"#276419\"]]},\"xaxis\":{\"gridcolor\":\"white\",\"linecolor\":\"white\",\"ticks\":\"\",\"title\":{\"standoff\":15},\"zerolinecolor\":\"white\",\"automargin\":true,\"zerolinewidth\":2},\"yaxis\":{\"gridcolor\":\"white\",\"linecolor\":\"white\",\"ticks\":\"\",\"title\":{\"standoff\":15},\"zerolinecolor\":\"white\",\"automargin\":true,\"zerolinewidth\":2},\"scene\":{\"xaxis\":{\"backgroundcolor\":\"#E5ECF6\",\"gridcolor\":\"white\",\"linecolor\":\"white\",\"showbackground\":true,\"ticks\":\"\",\"zerolinecolor\":\"white\",\"gridwidth\":2},\"yaxis\":{\"backgroundcolor\":\"#E5ECF6\",\"gridcolor\":\"white\",\"linecolor\":\"white\",\"showbackground\":true,\"ticks\":\"\",\"zerolinecolor\":\"white\",\"gridwidth\":2},\"zaxis\":{\"backgroundcolor\":\"#E5ECF6\",\"gridcolor\":\"white\",\"linecolor\":\"white\",\"showbackground\":true,\"ticks\":\"\",\"zerolinecolor\":\"white\",\"gridwidth\":2}},\"shapedefaults\":{\"line\":{\"color\":\"#2a3f5f\"}},\"annotationdefaults\":{\"arrowcolor\":\"#2a3f5f\",\"arrowhead\":0,\"arrowwidth\":1},\"geo\":{\"bgcolor\":\"white\",\"landcolor\":\"#E5ECF6\",\"subunitcolor\":\"white\",\"showland\":true,\"showlakes\":true,\"lakecolor\":\"white\"},\"title\":{\"x\":0.05},\"mapbox\":{\"style\":\"light\"}}},\"title\":{\"text\":\"Percentage of negative Hydrate Saturation points in each sensor data file\"}},                        {\"responsive\": true}                    ).then(function(){\n",
       "                            \n",
       "var gd = document.getElementById('370909d2-ea64-4874-870c-1ca400f9a9da');\n",
       "var x = new MutationObserver(function (mutations, observer) {{\n",
       "        var display = window.getComputedStyle(gd).display;\n",
       "        if (!display || display === 'none') {{\n",
       "            console.log([gd, 'removed!']);\n",
       "            Plotly.purge(gd);\n",
       "            observer.disconnect();\n",
       "        }}\n",
       "}});\n",
       "\n",
       "// Listen for the removal of the full notebook cells\n",
       "var notebookContainer = gd.closest('#notebook-container');\n",
       "if (notebookContainer) {{\n",
       "    x.observe(notebookContainer, {childList: true});\n",
       "}}\n",
       "\n",
       "// Listen for the clearing of the current output cell\n",
       "var outputEl = gd.closest('.output');\n",
       "if (outputEl) {{\n",
       "    x.observe(outputEl, {childList: true});\n",
       "}}\n",
       "\n",
       "                        })                };                });            </script>        </div>"
      ]
     },
     "metadata": {},
     "output_type": "display_data"
    },
    {
     "data": {
      "text/plain": [
       "22903"
      ]
     },
     "execution_count": 10,
     "metadata": {},
     "output_type": "execute_result"
    }
   ],
   "source": [
    "negative_data = []\n",
    "for idx, sensor_data in enumerate(sensor_data_list):\n",
    "    condition = (sensor_data['Hydrate Saturation'] < 0)\n",
    "    negative_data.append(len(sensor_data[condition]) / len(sensor_data))\n",
    "\n",
    "# Plot the number of negative data points\n",
    "fig = go.Figure(data=[go.Bar(x=sensor_data_files, y=negative_data)])\n",
    "fig.update_layout(title_text='Percentage of negative Hydrate Saturation points in each sensor data file')\n",
    "fig.show()\n",
    "\n",
    "# Claculate total data point amount in the sensor data\n",
    "total_data_points = 0\n",
    "for idx, sensor_data in enumerate(sensor_data_list):\n",
    "    total_data_points += len(sensor_data)\n",
    "    \n",
    "total_data_points"
   ]
  },
  {
   "cell_type": "code",
   "execution_count": 11,
   "metadata": {},
   "outputs": [
    {
     "data": {
      "application/vnd.plotly.v1+json": {
       "config": {
        "plotlyServerURL": "https://plot.ly"
       },
       "data": [
        {
         "type": "bar",
         "x": [
          "01.tsv",
          "02.tsv",
          "03.tsv",
          "04.tsv",
          "05.tsv",
          "06.tsv",
          "07.tsv",
          "08.tsv",
          "09.tsv",
          "10.tsv",
          "11.tsv",
          "12.tsv",
          "13.tsv",
          "14.tsv"
         ],
         "y": [
          0,
          0,
          0,
          0,
          0,
          0,
          0,
          0,
          0,
          0,
          0,
          0,
          0,
          0
         ]
        }
       ],
       "layout": {
        "template": {
         "data": {
          "bar": [
           {
            "error_x": {
             "color": "#2a3f5f"
            },
            "error_y": {
             "color": "#2a3f5f"
            },
            "marker": {
             "line": {
              "color": "#E5ECF6",
              "width": 0.5
             },
             "pattern": {
              "fillmode": "overlay",
              "size": 10,
              "solidity": 0.2
             }
            },
            "type": "bar"
           }
          ],
          "barpolar": [
           {
            "marker": {
             "line": {
              "color": "#E5ECF6",
              "width": 0.5
             },
             "pattern": {
              "fillmode": "overlay",
              "size": 10,
              "solidity": 0.2
             }
            },
            "type": "barpolar"
           }
          ],
          "carpet": [
           {
            "aaxis": {
             "endlinecolor": "#2a3f5f",
             "gridcolor": "white",
             "linecolor": "white",
             "minorgridcolor": "white",
             "startlinecolor": "#2a3f5f"
            },
            "baxis": {
             "endlinecolor": "#2a3f5f",
             "gridcolor": "white",
             "linecolor": "white",
             "minorgridcolor": "white",
             "startlinecolor": "#2a3f5f"
            },
            "type": "carpet"
           }
          ],
          "choropleth": [
           {
            "colorbar": {
             "outlinewidth": 0,
             "ticks": ""
            },
            "type": "choropleth"
           }
          ],
          "contour": [
           {
            "colorbar": {
             "outlinewidth": 0,
             "ticks": ""
            },
            "colorscale": [
             [
              0,
              "#0d0887"
             ],
             [
              0.1111111111111111,
              "#46039f"
             ],
             [
              0.2222222222222222,
              "#7201a8"
             ],
             [
              0.3333333333333333,
              "#9c179e"
             ],
             [
              0.4444444444444444,
              "#bd3786"
             ],
             [
              0.5555555555555556,
              "#d8576b"
             ],
             [
              0.6666666666666666,
              "#ed7953"
             ],
             [
              0.7777777777777778,
              "#fb9f3a"
             ],
             [
              0.8888888888888888,
              "#fdca26"
             ],
             [
              1,
              "#f0f921"
             ]
            ],
            "type": "contour"
           }
          ],
          "contourcarpet": [
           {
            "colorbar": {
             "outlinewidth": 0,
             "ticks": ""
            },
            "type": "contourcarpet"
           }
          ],
          "heatmap": [
           {
            "colorbar": {
             "outlinewidth": 0,
             "ticks": ""
            },
            "colorscale": [
             [
              0,
              "#0d0887"
             ],
             [
              0.1111111111111111,
              "#46039f"
             ],
             [
              0.2222222222222222,
              "#7201a8"
             ],
             [
              0.3333333333333333,
              "#9c179e"
             ],
             [
              0.4444444444444444,
              "#bd3786"
             ],
             [
              0.5555555555555556,
              "#d8576b"
             ],
             [
              0.6666666666666666,
              "#ed7953"
             ],
             [
              0.7777777777777778,
              "#fb9f3a"
             ],
             [
              0.8888888888888888,
              "#fdca26"
             ],
             [
              1,
              "#f0f921"
             ]
            ],
            "type": "heatmap"
           }
          ],
          "heatmapgl": [
           {
            "colorbar": {
             "outlinewidth": 0,
             "ticks": ""
            },
            "colorscale": [
             [
              0,
              "#0d0887"
             ],
             [
              0.1111111111111111,
              "#46039f"
             ],
             [
              0.2222222222222222,
              "#7201a8"
             ],
             [
              0.3333333333333333,
              "#9c179e"
             ],
             [
              0.4444444444444444,
              "#bd3786"
             ],
             [
              0.5555555555555556,
              "#d8576b"
             ],
             [
              0.6666666666666666,
              "#ed7953"
             ],
             [
              0.7777777777777778,
              "#fb9f3a"
             ],
             [
              0.8888888888888888,
              "#fdca26"
             ],
             [
              1,
              "#f0f921"
             ]
            ],
            "type": "heatmapgl"
           }
          ],
          "histogram": [
           {
            "marker": {
             "pattern": {
              "fillmode": "overlay",
              "size": 10,
              "solidity": 0.2
             }
            },
            "type": "histogram"
           }
          ],
          "histogram2d": [
           {
            "colorbar": {
             "outlinewidth": 0,
             "ticks": ""
            },
            "colorscale": [
             [
              0,
              "#0d0887"
             ],
             [
              0.1111111111111111,
              "#46039f"
             ],
             [
              0.2222222222222222,
              "#7201a8"
             ],
             [
              0.3333333333333333,
              "#9c179e"
             ],
             [
              0.4444444444444444,
              "#bd3786"
             ],
             [
              0.5555555555555556,
              "#d8576b"
             ],
             [
              0.6666666666666666,
              "#ed7953"
             ],
             [
              0.7777777777777778,
              "#fb9f3a"
             ],
             [
              0.8888888888888888,
              "#fdca26"
             ],
             [
              1,
              "#f0f921"
             ]
            ],
            "type": "histogram2d"
           }
          ],
          "histogram2dcontour": [
           {
            "colorbar": {
             "outlinewidth": 0,
             "ticks": ""
            },
            "colorscale": [
             [
              0,
              "#0d0887"
             ],
             [
              0.1111111111111111,
              "#46039f"
             ],
             [
              0.2222222222222222,
              "#7201a8"
             ],
             [
              0.3333333333333333,
              "#9c179e"
             ],
             [
              0.4444444444444444,
              "#bd3786"
             ],
             [
              0.5555555555555556,
              "#d8576b"
             ],
             [
              0.6666666666666666,
              "#ed7953"
             ],
             [
              0.7777777777777778,
              "#fb9f3a"
             ],
             [
              0.8888888888888888,
              "#fdca26"
             ],
             [
              1,
              "#f0f921"
             ]
            ],
            "type": "histogram2dcontour"
           }
          ],
          "mesh3d": [
           {
            "colorbar": {
             "outlinewidth": 0,
             "ticks": ""
            },
            "type": "mesh3d"
           }
          ],
          "parcoords": [
           {
            "line": {
             "colorbar": {
              "outlinewidth": 0,
              "ticks": ""
             }
            },
            "type": "parcoords"
           }
          ],
          "pie": [
           {
            "automargin": true,
            "type": "pie"
           }
          ],
          "scatter": [
           {
            "fillpattern": {
             "fillmode": "overlay",
             "size": 10,
             "solidity": 0.2
            },
            "type": "scatter"
           }
          ],
          "scatter3d": [
           {
            "line": {
             "colorbar": {
              "outlinewidth": 0,
              "ticks": ""
             }
            },
            "marker": {
             "colorbar": {
              "outlinewidth": 0,
              "ticks": ""
             }
            },
            "type": "scatter3d"
           }
          ],
          "scattercarpet": [
           {
            "marker": {
             "colorbar": {
              "outlinewidth": 0,
              "ticks": ""
             }
            },
            "type": "scattercarpet"
           }
          ],
          "scattergeo": [
           {
            "marker": {
             "colorbar": {
              "outlinewidth": 0,
              "ticks": ""
             }
            },
            "type": "scattergeo"
           }
          ],
          "scattergl": [
           {
            "marker": {
             "colorbar": {
              "outlinewidth": 0,
              "ticks": ""
             }
            },
            "type": "scattergl"
           }
          ],
          "scattermapbox": [
           {
            "marker": {
             "colorbar": {
              "outlinewidth": 0,
              "ticks": ""
             }
            },
            "type": "scattermapbox"
           }
          ],
          "scatterpolar": [
           {
            "marker": {
             "colorbar": {
              "outlinewidth": 0,
              "ticks": ""
             }
            },
            "type": "scatterpolar"
           }
          ],
          "scatterpolargl": [
           {
            "marker": {
             "colorbar": {
              "outlinewidth": 0,
              "ticks": ""
             }
            },
            "type": "scatterpolargl"
           }
          ],
          "scatterternary": [
           {
            "marker": {
             "colorbar": {
              "outlinewidth": 0,
              "ticks": ""
             }
            },
            "type": "scatterternary"
           }
          ],
          "surface": [
           {
            "colorbar": {
             "outlinewidth": 0,
             "ticks": ""
            },
            "colorscale": [
             [
              0,
              "#0d0887"
             ],
             [
              0.1111111111111111,
              "#46039f"
             ],
             [
              0.2222222222222222,
              "#7201a8"
             ],
             [
              0.3333333333333333,
              "#9c179e"
             ],
             [
              0.4444444444444444,
              "#bd3786"
             ],
             [
              0.5555555555555556,
              "#d8576b"
             ],
             [
              0.6666666666666666,
              "#ed7953"
             ],
             [
              0.7777777777777778,
              "#fb9f3a"
             ],
             [
              0.8888888888888888,
              "#fdca26"
             ],
             [
              1,
              "#f0f921"
             ]
            ],
            "type": "surface"
           }
          ],
          "table": [
           {
            "cells": {
             "fill": {
              "color": "#EBF0F8"
             },
             "line": {
              "color": "white"
             }
            },
            "header": {
             "fill": {
              "color": "#C8D4E3"
             },
             "line": {
              "color": "white"
             }
            },
            "type": "table"
           }
          ]
         },
         "layout": {
          "annotationdefaults": {
           "arrowcolor": "#2a3f5f",
           "arrowhead": 0,
           "arrowwidth": 1
          },
          "autotypenumbers": "strict",
          "coloraxis": {
           "colorbar": {
            "outlinewidth": 0,
            "ticks": ""
           }
          },
          "colorscale": {
           "diverging": [
            [
             0,
             "#8e0152"
            ],
            [
             0.1,
             "#c51b7d"
            ],
            [
             0.2,
             "#de77ae"
            ],
            [
             0.3,
             "#f1b6da"
            ],
            [
             0.4,
             "#fde0ef"
            ],
            [
             0.5,
             "#f7f7f7"
            ],
            [
             0.6,
             "#e6f5d0"
            ],
            [
             0.7,
             "#b8e186"
            ],
            [
             0.8,
             "#7fbc41"
            ],
            [
             0.9,
             "#4d9221"
            ],
            [
             1,
             "#276419"
            ]
           ],
           "sequential": [
            [
             0,
             "#0d0887"
            ],
            [
             0.1111111111111111,
             "#46039f"
            ],
            [
             0.2222222222222222,
             "#7201a8"
            ],
            [
             0.3333333333333333,
             "#9c179e"
            ],
            [
             0.4444444444444444,
             "#bd3786"
            ],
            [
             0.5555555555555556,
             "#d8576b"
            ],
            [
             0.6666666666666666,
             "#ed7953"
            ],
            [
             0.7777777777777778,
             "#fb9f3a"
            ],
            [
             0.8888888888888888,
             "#fdca26"
            ],
            [
             1,
             "#f0f921"
            ]
           ],
           "sequentialminus": [
            [
             0,
             "#0d0887"
            ],
            [
             0.1111111111111111,
             "#46039f"
            ],
            [
             0.2222222222222222,
             "#7201a8"
            ],
            [
             0.3333333333333333,
             "#9c179e"
            ],
            [
             0.4444444444444444,
             "#bd3786"
            ],
            [
             0.5555555555555556,
             "#d8576b"
            ],
            [
             0.6666666666666666,
             "#ed7953"
            ],
            [
             0.7777777777777778,
             "#fb9f3a"
            ],
            [
             0.8888888888888888,
             "#fdca26"
            ],
            [
             1,
             "#f0f921"
            ]
           ]
          },
          "colorway": [
           "#636efa",
           "#EF553B",
           "#00cc96",
           "#ab63fa",
           "#FFA15A",
           "#19d3f3",
           "#FF6692",
           "#B6E880",
           "#FF97FF",
           "#FECB52"
          ],
          "font": {
           "color": "#2a3f5f"
          },
          "geo": {
           "bgcolor": "white",
           "lakecolor": "white",
           "landcolor": "#E5ECF6",
           "showlakes": true,
           "showland": true,
           "subunitcolor": "white"
          },
          "hoverlabel": {
           "align": "left"
          },
          "hovermode": "closest",
          "mapbox": {
           "style": "light"
          },
          "paper_bgcolor": "white",
          "plot_bgcolor": "#E5ECF6",
          "polar": {
           "angularaxis": {
            "gridcolor": "white",
            "linecolor": "white",
            "ticks": ""
           },
           "bgcolor": "#E5ECF6",
           "radialaxis": {
            "gridcolor": "white",
            "linecolor": "white",
            "ticks": ""
           }
          },
          "scene": {
           "xaxis": {
            "backgroundcolor": "#E5ECF6",
            "gridcolor": "white",
            "gridwidth": 2,
            "linecolor": "white",
            "showbackground": true,
            "ticks": "",
            "zerolinecolor": "white"
           },
           "yaxis": {
            "backgroundcolor": "#E5ECF6",
            "gridcolor": "white",
            "gridwidth": 2,
            "linecolor": "white",
            "showbackground": true,
            "ticks": "",
            "zerolinecolor": "white"
           },
           "zaxis": {
            "backgroundcolor": "#E5ECF6",
            "gridcolor": "white",
            "gridwidth": 2,
            "linecolor": "white",
            "showbackground": true,
            "ticks": "",
            "zerolinecolor": "white"
           }
          },
          "shapedefaults": {
           "line": {
            "color": "#2a3f5f"
           }
          },
          "ternary": {
           "aaxis": {
            "gridcolor": "white",
            "linecolor": "white",
            "ticks": ""
           },
           "baxis": {
            "gridcolor": "white",
            "linecolor": "white",
            "ticks": ""
           },
           "bgcolor": "#E5ECF6",
           "caxis": {
            "gridcolor": "white",
            "linecolor": "white",
            "ticks": ""
           }
          },
          "title": {
           "x": 0.05
          },
          "xaxis": {
           "automargin": true,
           "gridcolor": "white",
           "linecolor": "white",
           "ticks": "",
           "title": {
            "standoff": 15
           },
           "zerolinecolor": "white",
           "zerolinewidth": 2
          },
          "yaxis": {
           "automargin": true,
           "gridcolor": "white",
           "linecolor": "white",
           "ticks": "",
           "title": {
            "standoff": 15
           },
           "zerolinecolor": "white",
           "zerolinewidth": 2
          }
         }
        },
        "title": {
         "text": "Percentage of negative Porosity data points in each sensor data file"
        }
       }
      },
      "text/html": [
       "<div>                            <div id=\"abfdb5c0-d51d-4e0d-8663-b7783c6fe35f\" class=\"plotly-graph-div\" style=\"height:525px; width:100%;\"></div>            <script type=\"text/javascript\">                require([\"plotly\"], function(Plotly) {                    window.PLOTLYENV=window.PLOTLYENV || {};                                    if (document.getElementById(\"abfdb5c0-d51d-4e0d-8663-b7783c6fe35f\")) {                    Plotly.newPlot(                        \"abfdb5c0-d51d-4e0d-8663-b7783c6fe35f\",                        [{\"x\":[\"01.tsv\",\"02.tsv\",\"03.tsv\",\"04.tsv\",\"05.tsv\",\"06.tsv\",\"07.tsv\",\"08.tsv\",\"09.tsv\",\"10.tsv\",\"11.tsv\",\"12.tsv\",\"13.tsv\",\"14.tsv\"],\"y\":[0.0,0.0,0.0,0.0,0.0,0.0,0.0,0.0,0.0,0.0,0.0,0.0,0.0,0.0],\"type\":\"bar\"}],                        {\"template\":{\"data\":{\"histogram2dcontour\":[{\"type\":\"histogram2dcontour\",\"colorbar\":{\"outlinewidth\":0,\"ticks\":\"\"},\"colorscale\":[[0.0,\"#0d0887\"],[0.1111111111111111,\"#46039f\"],[0.2222222222222222,\"#7201a8\"],[0.3333333333333333,\"#9c179e\"],[0.4444444444444444,\"#bd3786\"],[0.5555555555555556,\"#d8576b\"],[0.6666666666666666,\"#ed7953\"],[0.7777777777777778,\"#fb9f3a\"],[0.8888888888888888,\"#fdca26\"],[1.0,\"#f0f921\"]]}],\"choropleth\":[{\"type\":\"choropleth\",\"colorbar\":{\"outlinewidth\":0,\"ticks\":\"\"}}],\"histogram2d\":[{\"type\":\"histogram2d\",\"colorbar\":{\"outlinewidth\":0,\"ticks\":\"\"},\"colorscale\":[[0.0,\"#0d0887\"],[0.1111111111111111,\"#46039f\"],[0.2222222222222222,\"#7201a8\"],[0.3333333333333333,\"#9c179e\"],[0.4444444444444444,\"#bd3786\"],[0.5555555555555556,\"#d8576b\"],[0.6666666666666666,\"#ed7953\"],[0.7777777777777778,\"#fb9f3a\"],[0.8888888888888888,\"#fdca26\"],[1.0,\"#f0f921\"]]}],\"heatmap\":[{\"type\":\"heatmap\",\"colorbar\":{\"outlinewidth\":0,\"ticks\":\"\"},\"colorscale\":[[0.0,\"#0d0887\"],[0.1111111111111111,\"#46039f\"],[0.2222222222222222,\"#7201a8\"],[0.3333333333333333,\"#9c179e\"],[0.4444444444444444,\"#bd3786\"],[0.5555555555555556,\"#d8576b\"],[0.6666666666666666,\"#ed7953\"],[0.7777777777777778,\"#fb9f3a\"],[0.8888888888888888,\"#fdca26\"],[1.0,\"#f0f921\"]]}],\"heatmapgl\":[{\"type\":\"heatmapgl\",\"colorbar\":{\"outlinewidth\":0,\"ticks\":\"\"},\"colorscale\":[[0.0,\"#0d0887\"],[0.1111111111111111,\"#46039f\"],[0.2222222222222222,\"#7201a8\"],[0.3333333333333333,\"#9c179e\"],[0.4444444444444444,\"#bd3786\"],[0.5555555555555556,\"#d8576b\"],[0.6666666666666666,\"#ed7953\"],[0.7777777777777778,\"#fb9f3a\"],[0.8888888888888888,\"#fdca26\"],[1.0,\"#f0f921\"]]}],\"contourcarpet\":[{\"type\":\"contourcarpet\",\"colorbar\":{\"outlinewidth\":0,\"ticks\":\"\"}}],\"contour\":[{\"type\":\"contour\",\"colorbar\":{\"outlinewidth\":0,\"ticks\":\"\"},\"colorscale\":[[0.0,\"#0d0887\"],[0.1111111111111111,\"#46039f\"],[0.2222222222222222,\"#7201a8\"],[0.3333333333333333,\"#9c179e\"],[0.4444444444444444,\"#bd3786\"],[0.5555555555555556,\"#d8576b\"],[0.6666666666666666,\"#ed7953\"],[0.7777777777777778,\"#fb9f3a\"],[0.8888888888888888,\"#fdca26\"],[1.0,\"#f0f921\"]]}],\"surface\":[{\"type\":\"surface\",\"colorbar\":{\"outlinewidth\":0,\"ticks\":\"\"},\"colorscale\":[[0.0,\"#0d0887\"],[0.1111111111111111,\"#46039f\"],[0.2222222222222222,\"#7201a8\"],[0.3333333333333333,\"#9c179e\"],[0.4444444444444444,\"#bd3786\"],[0.5555555555555556,\"#d8576b\"],[0.6666666666666666,\"#ed7953\"],[0.7777777777777778,\"#fb9f3a\"],[0.8888888888888888,\"#fdca26\"],[1.0,\"#f0f921\"]]}],\"mesh3d\":[{\"type\":\"mesh3d\",\"colorbar\":{\"outlinewidth\":0,\"ticks\":\"\"}}],\"scatter\":[{\"fillpattern\":{\"fillmode\":\"overlay\",\"size\":10,\"solidity\":0.2},\"type\":\"scatter\"}],\"parcoords\":[{\"type\":\"parcoords\",\"line\":{\"colorbar\":{\"outlinewidth\":0,\"ticks\":\"\"}}}],\"scatterpolargl\":[{\"type\":\"scatterpolargl\",\"marker\":{\"colorbar\":{\"outlinewidth\":0,\"ticks\":\"\"}}}],\"bar\":[{\"error_x\":{\"color\":\"#2a3f5f\"},\"error_y\":{\"color\":\"#2a3f5f\"},\"marker\":{\"line\":{\"color\":\"#E5ECF6\",\"width\":0.5},\"pattern\":{\"fillmode\":\"overlay\",\"size\":10,\"solidity\":0.2}},\"type\":\"bar\"}],\"scattergeo\":[{\"type\":\"scattergeo\",\"marker\":{\"colorbar\":{\"outlinewidth\":0,\"ticks\":\"\"}}}],\"scatterpolar\":[{\"type\":\"scatterpolar\",\"marker\":{\"colorbar\":{\"outlinewidth\":0,\"ticks\":\"\"}}}],\"histogram\":[{\"marker\":{\"pattern\":{\"fillmode\":\"overlay\",\"size\":10,\"solidity\":0.2}},\"type\":\"histogram\"}],\"scattergl\":[{\"type\":\"scattergl\",\"marker\":{\"colorbar\":{\"outlinewidth\":0,\"ticks\":\"\"}}}],\"scatter3d\":[{\"type\":\"scatter3d\",\"line\":{\"colorbar\":{\"outlinewidth\":0,\"ticks\":\"\"}},\"marker\":{\"colorbar\":{\"outlinewidth\":0,\"ticks\":\"\"}}}],\"scattermapbox\":[{\"type\":\"scattermapbox\",\"marker\":{\"colorbar\":{\"outlinewidth\":0,\"ticks\":\"\"}}}],\"scatterternary\":[{\"type\":\"scatterternary\",\"marker\":{\"colorbar\":{\"outlinewidth\":0,\"ticks\":\"\"}}}],\"scattercarpet\":[{\"type\":\"scattercarpet\",\"marker\":{\"colorbar\":{\"outlinewidth\":0,\"ticks\":\"\"}}}],\"carpet\":[{\"aaxis\":{\"endlinecolor\":\"#2a3f5f\",\"gridcolor\":\"white\",\"linecolor\":\"white\",\"minorgridcolor\":\"white\",\"startlinecolor\":\"#2a3f5f\"},\"baxis\":{\"endlinecolor\":\"#2a3f5f\",\"gridcolor\":\"white\",\"linecolor\":\"white\",\"minorgridcolor\":\"white\",\"startlinecolor\":\"#2a3f5f\"},\"type\":\"carpet\"}],\"table\":[{\"cells\":{\"fill\":{\"color\":\"#EBF0F8\"},\"line\":{\"color\":\"white\"}},\"header\":{\"fill\":{\"color\":\"#C8D4E3\"},\"line\":{\"color\":\"white\"}},\"type\":\"table\"}],\"barpolar\":[{\"marker\":{\"line\":{\"color\":\"#E5ECF6\",\"width\":0.5},\"pattern\":{\"fillmode\":\"overlay\",\"size\":10,\"solidity\":0.2}},\"type\":\"barpolar\"}],\"pie\":[{\"automargin\":true,\"type\":\"pie\"}]},\"layout\":{\"autotypenumbers\":\"strict\",\"colorway\":[\"#636efa\",\"#EF553B\",\"#00cc96\",\"#ab63fa\",\"#FFA15A\",\"#19d3f3\",\"#FF6692\",\"#B6E880\",\"#FF97FF\",\"#FECB52\"],\"font\":{\"color\":\"#2a3f5f\"},\"hovermode\":\"closest\",\"hoverlabel\":{\"align\":\"left\"},\"paper_bgcolor\":\"white\",\"plot_bgcolor\":\"#E5ECF6\",\"polar\":{\"bgcolor\":\"#E5ECF6\",\"angularaxis\":{\"gridcolor\":\"white\",\"linecolor\":\"white\",\"ticks\":\"\"},\"radialaxis\":{\"gridcolor\":\"white\",\"linecolor\":\"white\",\"ticks\":\"\"}},\"ternary\":{\"bgcolor\":\"#E5ECF6\",\"aaxis\":{\"gridcolor\":\"white\",\"linecolor\":\"white\",\"ticks\":\"\"},\"baxis\":{\"gridcolor\":\"white\",\"linecolor\":\"white\",\"ticks\":\"\"},\"caxis\":{\"gridcolor\":\"white\",\"linecolor\":\"white\",\"ticks\":\"\"}},\"coloraxis\":{\"colorbar\":{\"outlinewidth\":0,\"ticks\":\"\"}},\"colorscale\":{\"sequential\":[[0.0,\"#0d0887\"],[0.1111111111111111,\"#46039f\"],[0.2222222222222222,\"#7201a8\"],[0.3333333333333333,\"#9c179e\"],[0.4444444444444444,\"#bd3786\"],[0.5555555555555556,\"#d8576b\"],[0.6666666666666666,\"#ed7953\"],[0.7777777777777778,\"#fb9f3a\"],[0.8888888888888888,\"#fdca26\"],[1.0,\"#f0f921\"]],\"sequentialminus\":[[0.0,\"#0d0887\"],[0.1111111111111111,\"#46039f\"],[0.2222222222222222,\"#7201a8\"],[0.3333333333333333,\"#9c179e\"],[0.4444444444444444,\"#bd3786\"],[0.5555555555555556,\"#d8576b\"],[0.6666666666666666,\"#ed7953\"],[0.7777777777777778,\"#fb9f3a\"],[0.8888888888888888,\"#fdca26\"],[1.0,\"#f0f921\"]],\"diverging\":[[0,\"#8e0152\"],[0.1,\"#c51b7d\"],[0.2,\"#de77ae\"],[0.3,\"#f1b6da\"],[0.4,\"#fde0ef\"],[0.5,\"#f7f7f7\"],[0.6,\"#e6f5d0\"],[0.7,\"#b8e186\"],[0.8,\"#7fbc41\"],[0.9,\"#4d9221\"],[1,\"#276419\"]]},\"xaxis\":{\"gridcolor\":\"white\",\"linecolor\":\"white\",\"ticks\":\"\",\"title\":{\"standoff\":15},\"zerolinecolor\":\"white\",\"automargin\":true,\"zerolinewidth\":2},\"yaxis\":{\"gridcolor\":\"white\",\"linecolor\":\"white\",\"ticks\":\"\",\"title\":{\"standoff\":15},\"zerolinecolor\":\"white\",\"automargin\":true,\"zerolinewidth\":2},\"scene\":{\"xaxis\":{\"backgroundcolor\":\"#E5ECF6\",\"gridcolor\":\"white\",\"linecolor\":\"white\",\"showbackground\":true,\"ticks\":\"\",\"zerolinecolor\":\"white\",\"gridwidth\":2},\"yaxis\":{\"backgroundcolor\":\"#E5ECF6\",\"gridcolor\":\"white\",\"linecolor\":\"white\",\"showbackground\":true,\"ticks\":\"\",\"zerolinecolor\":\"white\",\"gridwidth\":2},\"zaxis\":{\"backgroundcolor\":\"#E5ECF6\",\"gridcolor\":\"white\",\"linecolor\":\"white\",\"showbackground\":true,\"ticks\":\"\",\"zerolinecolor\":\"white\",\"gridwidth\":2}},\"shapedefaults\":{\"line\":{\"color\":\"#2a3f5f\"}},\"annotationdefaults\":{\"arrowcolor\":\"#2a3f5f\",\"arrowhead\":0,\"arrowwidth\":1},\"geo\":{\"bgcolor\":\"white\",\"landcolor\":\"#E5ECF6\",\"subunitcolor\":\"white\",\"showland\":true,\"showlakes\":true,\"lakecolor\":\"white\"},\"title\":{\"x\":0.05},\"mapbox\":{\"style\":\"light\"}}},\"title\":{\"text\":\"Percentage of negative Porosity data points in each sensor data file\"}},                        {\"responsive\": true}                    ).then(function(){\n",
       "                            \n",
       "var gd = document.getElementById('abfdb5c0-d51d-4e0d-8663-b7783c6fe35f');\n",
       "var x = new MutationObserver(function (mutations, observer) {{\n",
       "        var display = window.getComputedStyle(gd).display;\n",
       "        if (!display || display === 'none') {{\n",
       "            console.log([gd, 'removed!']);\n",
       "            Plotly.purge(gd);\n",
       "            observer.disconnect();\n",
       "        }}\n",
       "}});\n",
       "\n",
       "// Listen for the removal of the full notebook cells\n",
       "var notebookContainer = gd.closest('#notebook-container');\n",
       "if (notebookContainer) {{\n",
       "    x.observe(notebookContainer, {childList: true});\n",
       "}}\n",
       "\n",
       "// Listen for the clearing of the current output cell\n",
       "var outputEl = gd.closest('.output');\n",
       "if (outputEl) {{\n",
       "    x.observe(outputEl, {childList: true});\n",
       "}}\n",
       "\n",
       "                        })                };                });            </script>        </div>"
      ]
     },
     "metadata": {},
     "output_type": "display_data"
    }
   ],
   "source": [
    "negative_data = []\n",
    "for idx, sensor_data in enumerate(sensor_data_list):\n",
    "    condition = (sensor_data['Porosity'] < 0)\n",
    "    negative_data.append(len(sensor_data[condition]) / len(sensor_data))\n",
    "\n",
    "# Plot the number of negative data points\n",
    "fig = go.Figure(data=[go.Bar(x=sensor_data_files, y=negative_data)])\n",
    "fig.update_layout(title_text='Percentage of negative Porosity data points in each sensor data file')\n",
    "fig.show()\n"
   ]
  },
  {
   "cell_type": "code",
   "execution_count": 12,
   "metadata": {},
   "outputs": [
    {
     "data": {
      "text/plain": [
       "13449"
      ]
     },
     "execution_count": 12,
     "metadata": {},
     "output_type": "execute_result"
    }
   ],
   "source": [
    "# Test how many data points left if we drop the negative data points\n",
    "total_data_points_after_drop = 0\n",
    "for idx, sensor_data in enumerate(sensor_data_list):\n",
    "    condition = (sensor_data['Hydrate Saturation'] >= 0)\n",
    "    sensor_data = sensor_data[condition]\n",
    "    total_data_points_after_drop += len(sensor_data)\n",
    "total_data_points_after_drop"
   ]
  },
  {
   "cell_type": "code",
   "execution_count": 13,
   "metadata": {},
   "outputs": [
    {
     "name": "stdout",
     "output_type": "stream",
     "text": [
      "3821\n"
     ]
    }
   ],
   "source": [
    "# Check the not a NaN count of the other columns in the sensor data which has negative hydrate saturation\n",
    "\n",
    "# Count rows contains negative hydrate saturation and no NaN in total\n",
    "not_nan_count = 0\n",
    "for idx, sensor_data in enumerate(sensor_data_list):\n",
    "    condition = sensor_data['Hydrate Saturation'] < 0\n",
    "    not_nan_count += len(sensor_data[condition].dropna())\n",
    "print(not_nan_count)\n",
    "    "
   ]
  },
  {
   "cell_type": "code",
   "execution_count": 14,
   "metadata": {},
   "outputs": [
    {
     "data": {
      "application/vnd.plotly.v1+json": {
       "config": {
        "plotlyServerURL": "https://plot.ly"
       },
       "data": [
        {
         "name": "01.tsv",
         "type": "box",
         "y": []
        },
        {
         "name": "02.tsv",
         "type": "box",
         "y": [
          0.5536843,
          0.5534301,
          0.5528017,
          0.5525278,
          0.552022,
          0.5513381,
          0.5503469,
          0.5504506,
          0.551917,
          0.5566273,
          0.5562664,
          0.5540938,
          0.5527629,
          0.5974269,
          0.5291499,
          0.5249183,
          0.5200724,
          0.5183129,
          0.5169026,
          0.5160007,
          0.4948144,
          0.4925921,
          0.4906029,
          0.4872679,
          0.4844801,
          0.4839433,
          0.4844517,
          0.4847039,
          0.4935182,
          0.4899217,
          0.4793715,
          0.4808151,
          0.4798744,
          0.481366,
          0.4822068,
          0.4828013,
          0.4916683,
          0.498304,
          0.5027787,
          0.506431,
          0.5093897,
          0.5115499,
          0.5110351,
          0.5110667,
          0.4856991,
          0.4879441,
          0.4652103,
          0.4671771,
          0.4678518,
          0.4728877,
          0.4925733,
          0.4949917,
          0.4897916,
          0.4830637,
          0.4764609,
          0.4708269,
          0.4662743,
          0.4640702,
          0.4665287,
          0.4712043,
          0.4778219,
          0.4770224,
          0.4733982,
          0.4729336,
          0.4687474,
          0.4635783,
          0.4675032,
          0.4726469,
          0.4788594,
          0.4882148,
          0.4932193,
          0.4945247,
          0.4962884,
          0.4955811,
          0.4923223,
          0.4992759,
          0.4996307,
          0.4912993,
          0.4865311,
          0.4840184,
          0.4844736,
          0.4880274,
          0.4752232,
          0.472486,
          0.4718367,
          0.4727296,
          0.4669023,
          0.4641674,
          0.4630223,
          0.4630528,
          0.4653696,
          0.4637473,
          0.4606496,
          0.4601267,
          0.460295,
          0.4615589,
          0.4689338,
          0.4751425,
          0.4803812,
          0.4835874,
          0.4847468,
          0.4840657,
          0.4807136,
          0.4761521,
          0.4702802,
          0.4697495,
          0.4736203,
          0.4829552,
          0.4901986,
          0.494898,
          0.497005,
          0.4902927,
          0.483634,
          0.4792433,
          0.4735568,
          0.47109,
          0.4706379,
          0.4726616,
          0.4771184,
          0.4810578,
          0.4837311,
          0.4652893,
          0.4651866,
          0.4623625,
          0.4602923,
          0.4573268,
          0.4519537,
          0.4513336,
          0.4512746,
          0.4479946,
          0.416853,
          0.4130014,
          0.4108709,
          0.4321097,
          0.4319975,
          0.4542015,
          0.4535412,
          0.4556691,
          0.4527132,
          0.4449117,
          0.4488114,
          0.4472736,
          0.4392905,
          0.4436502,
          0.444041,
          0.437754,
          0.4386624,
          0.4411959,
          0.4450243,
          0.4430308,
          0.4405379,
          0.4392701,
          0.4753625,
          0.4741732,
          0.4746362,
          0.4878152,
          0.4801827,
          0.4723342,
          0.4795028
         ]
        },
        {
         "name": "03.tsv",
         "type": "box",
         "y": []
        },
        {
         "name": "04.tsv",
         "type": "box",
         "y": [
          0.4197728,
          0.4265705,
          0.4398165,
          0.4558364,
          0.4713799,
          0.4883988,
          0.5068681,
          0.5299927,
          0.546965,
          0.5596073,
          0.5641975,
          0.5618396,
          0.5615227,
          0.5537097,
          0.5483818,
          0.54629,
          0.5466455,
          0.5473061,
          0.5481371,
          0.5481121,
          0.547268,
          0.5451534,
          0.5465052,
          0.5489254,
          0.5521735,
          0.5524738,
          0.553547,
          0.5591313,
          0.5213041,
          0.5139131,
          0.5068862,
          0.4639154,
          0.4682251,
          0.4788072,
          0.4934313,
          0.5013822,
          0.509117,
          0.5166205,
          0.3137834,
          0.306412,
          0.2992879,
          0.2934169,
          0.2922913,
          0.2957886,
          0.3021304,
          0.3118579,
          0.3231996,
          0.3337869,
          0.328832,
          0.3275031,
          0.3292258,
          0.3379238,
          0.3395968,
          0.3349676,
          0.3248018,
          0.3185899,
          0.3166614,
          0.3258349,
          0.3430084,
          0.3700284,
          0.3736587
         ]
        },
        {
         "name": "05.tsv",
         "type": "box",
         "y": [
          0.8201169,
          0.811197,
          0.7986604,
          0.7887645,
          0.7855657,
          0.7833326,
          0.7815642,
          0.6188868,
          0.6172159,
          0.6139755,
          0.6120002,
          0.6066468,
          0.6022183,
          0.6163738,
          0.6271293,
          0.6353765,
          0.6404136,
          0.6396934,
          0.6341762,
          0.622619,
          0.6137277,
          0.6074185,
          0.6060522,
          0.605927,
          0.6071643,
          0.6059671,
          0.6051371,
          0.6050686,
          0.6007229,
          0.5978793,
          0.5986026,
          0.5965453,
          0.5951287,
          0.5962452,
          0.5943461,
          0.5924715,
          0.6038239,
          0.5884851,
          0.5712053,
          0.5616597,
          0.5600121,
          0.5634052,
          0.5640661,
          0.5656637,
          0.5679664,
          0.5683548,
          0.569051,
          0.5700501,
          0.5733104,
          0.5738865,
          0.5712053,
          0.5710765,
          0.5718963,
          0.5738223,
          0.5766442,
          0.5782481,
          0.5774775,
          0.5765247,
          0.5759014,
          0.5760832,
          0.5750352,
          0.5744253,
          0.5759594,
          0.5799071,
          0.5845973,
          0.5889055,
          0.5529058,
          0.5479014,
          0.5423648,
          0.5412846,
          0.5437889,
          0.5535597,
          0.5845044,
          0.5805519,
          0.5705761,
          0.5595709,
          0.5598426,
          0.5593852,
          0.5593402,
          0.5655621,
          0.571465,
          0.5771222,
          0.5712056,
          0.5669436,
          0.5633636,
          0.5604767,
          0.5579319,
          0.5583657,
          0.5624574,
          0.5627005,
          0.5679467,
          0.4309395,
          0.4340842,
          0.432531,
          0.4298487,
          0.4239841,
          0.4140639,
          0.4165441,
          0.4259515,
          0.4311854,
          0.4343042,
          0.4345925,
          0.4352711,
          0.4348969,
          0.4317564,
          0.4270031,
          0.4246694,
          0.4313424,
          0.4337499,
          0.4334058,
          0.4285787,
          0.4173458,
          0.4044972,
          0.4003468,
          0.3973052,
          0.3957112,
          0.4011319,
          0.4080947,
          0.4159696,
          0.419776,
          0.4259611,
          0.4342428,
          0.4351101,
          0.4359809,
          0.4368555,
          0.4320059,
          0.4293448,
          0.4299075,
          0.4287615,
          0.426079,
          0.4212095,
          0.4200682,
          0.4174372,
          0.4106627,
          0.4120013,
          0.4157693,
          0.4208998,
          0.4235844,
          0.4276657,
          0.4385622,
          0.4400222,
          0.4384553,
          0.4399026,
          0.4357617,
          0.4305135,
          0.4351927,
          0.4397074,
          0.4435315,
          0.4418015,
          0.4410436,
          0.4409213,
          0.4389779,
          0.4388859,
          0.4404757,
          0.442304,
          0.4402327,
          0.4338685,
          0.4287032,
          0.4233555,
          0.4176831,
          0.411097,
          0.4068406,
          0.4065436,
          0.4083775,
          0.4124257,
          0.4202078,
          0.4254653,
          0.4280634,
          0.4254695,
          0.4227129,
          0.4218935,
          0.4275115,
          0.4373385,
          0.4617206,
          0.4683194,
          0.4766478,
          0.4837081,
          0.4981239,
          0.5178722,
          0.5319303,
          0.5476546,
          0.5649169,
          0.5816457,
          0.5945921,
          0.6033098,
          0.6052067,
          0.606786,
          0.6084424,
          0.6071076,
          0.6032775,
          0.5958576,
          0.5907307,
          0.5859424,
          0.5810319,
          0.5832222,
          0.588625,
          0.5978373,
          0.6034451,
          0.6062794,
          0.5965753,
          0.5880259,
          0.5821472,
          0.5789629,
          0.5777467,
          0.5802152,
          0.5855407,
          0.5922619,
          0.5946769,
          0.5963681,
          0.5970908,
          0.5879943,
          0.5804036,
          0.5294239,
          0.5272366,
          0.5219569,
          0.512228,
          0.5067282,
          0.4760879,
          0.4792523,
          0.4830738,
          0.4861254,
          0.486643,
          0.4858463,
          0.485309,
          0.4845423,
          0.4834533,
          0.4803864,
          0.478548,
          0.4779515,
          0.4852447,
          0.4922034,
          0.498838,
          0.5035331,
          0.5058804,
          0.5055085,
          0.502395,
          0.4955627,
          0.4836906,
          0.4768558,
          0.4728837,
          0.4728036,
          0.4709585,
          0.4673769,
          0.4607646,
          0.4536541,
          0.4494969,
          0.4537637,
          0.4576443,
          0.4611374,
          0.4637274,
          0.4631644,
          0.4620956,
          0.465222,
          0.4730099,
          0.4822369,
          0.4837434,
          0.4817716,
          0.477412,
          0.4722145,
          0.4701513,
          0.4707851,
          0.4767388,
          0.4816743,
          0.485608,
          0.4941083,
          0.4997225,
          0.5017827,
          0.5094938,
          0.5159621,
          0.5200286,
          0.5250262,
          0.5280225,
          0.5272434,
          0.5213083,
          0.5148404,
          0.509428,
          0.5055597,
          0.5044016,
          0.5096417,
          0.5147762,
          0.5204077,
          0.5279781,
          0.5328989,
          0.5356766,
          0.5336806,
          0.5314451,
          0.5285642,
          0.5111429,
          0.4981757,
          0.4931107,
          0.4927596,
          0.4966041,
          0.524651,
          0.5316983,
          0.5294745,
          0.5266135,
          0.5232564,
          0.5194691,
          0.5192805,
          0.52445,
          0.5176877,
          0.5096614,
          0.5022919,
          0.497903,
          0.4956788,
          0.4969657,
          0.4996271,
          0.5031548,
          0.5080698,
          0.521283,
          0.5382701,
          0.5562789,
          0.5484682,
          0.5429627,
          0.5407339,
          0.5443859,
          0.5497518,
          0.5567402,
          0.5670348,
          0.3801594,
          0.3771139,
          0.3720945,
          0.3684971,
          0.370812,
          0.3715955,
          0.3710515,
          0.3675604,
          0.3659805,
          0.3658319,
          0.3685603,
          0.365771,
          0.3612089,
          0.3685394,
          0.3708178,
          0.3697935,
          0.3734108,
          0.3777089,
          0.3826223,
          0.3896717,
          0.3915366,
          0.387962,
          0.3895171,
          0.3875962,
          0.3810076,
          0.3792201,
          0.3755335,
          0.3682183,
          0.3662349,
          0.3642877,
          0.3608632,
          0.3590029,
          0.3562155,
          0.3504062,
          0.3434465,
          0.3396031,
          0.3462394,
          0.348659,
          0.350053,
          0.3537737,
          0.3582823,
          0.3620698,
          0.3597275,
          0.3563505,
          0.3518412,
          0.342857,
          0.3383171,
          0.3369663,
          0.3351238,
          0.3366337,
          0.3410639,
          0.3419543,
          0.3422461,
          0.3418997,
          0.3436699,
          0.3431573,
          0.3395779,
          0.3417208,
          0.3496709,
          0.3659098,
          0.3859805,
          0.4043853,
          0.4183854,
          0.4339033,
          0.4485764,
          0.4603706,
          0.4713675,
          0.4835485,
          0.5001447,
          0.5149075,
          0.5281194,
          0.5378929,
          0.5454928,
          0.5513771,
          0.5534933,
          0.5543864,
          0.554679,
          0.5562007,
          0.5576257,
          0.558637,
          0.5534068,
          0.5478673,
          0.5250326,
          0.5400399,
          0.5534866,
          0.5556851,
          0.5553582,
          0.5527373,
          0.555759,
          0.5595139,
          0.5640762,
          0.5663778,
          0.5674849,
          0.5671481,
          0.5681087,
          0.5686617,
          0.5683247,
          0.5659745,
          0.5639395,
          0.5632206,
          0.5636671,
          0.5641851,
          0.5641853,
          0.5652663,
          0.5666934,
          0.5681354,
          0.5687431,
          0.5686042,
          0.5304873,
          0.5271465,
          0.5214834,
          0.5126675,
          0.5128722,
          0.5139337,
          0.5146738,
          0.5145487,
          0.5121764,
          0.5054389,
          0.499337,
          0.4958068,
          0.4986054,
          0.4991561,
          0.4989232,
          0.4985472,
          0.4967741,
          0.4947362,
          0.494168,
          0.4961107,
          0.4995152,
          0.503875,
          0.5077025,
          0.510263,
          0.5027478,
          0.4938917,
          0.4843669,
          0.4851502,
          0.4890753,
          0.4959951,
          0.5008461,
          0.5037723,
          0.5045039,
          0.5045225,
          0.5078466,
          0.510727,
          0.5144594,
          0.5177451,
          0.5205984,
          0.5225741,
          0.5227231,
          0.5207443,
          0.5098925,
          0.5011151,
          0.4961641,
          0.4923423,
          0.4900022,
          0.4900022,
          0.4872585,
          0.4845333,
          0.4829798,
          0.4875927,
          0.492579,
          0.4941615,
          0.4991703,
          0.5061401,
          0.5079078,
          0.5008646,
          0.4985016,
          0.498344,
          0.4958051,
          0.4954789,
          0.4965757,
          0.497035,
          0.4983601,
          0.5002378,
          0.4969147,
          0.4948213,
          0.3330891,
          0.3369326,
          0.331651,
          0.3336409,
          0.3327289,
          0.3279992,
          0.3261663,
          0.3248076,
          0.3238027,
          0.3291458,
          0.3332373,
          0.3333703,
          0.3375446,
          0.3421367,
          0.3457633,
          0.3513384,
          0.3586266,
          0.3692958,
          0.3848594,
          0.4007436,
          0.4110249,
          0.4185794,
          0.425574,
          0.4362432,
          0.4466159,
          0.3331006,
          0.3372817,
          0.3441393,
          0.3536147,
          0.3742356,
          0.3902305,
          0.4022926,
          0.4349253,
          0.4300785,
          0.4238894,
          0.4157065,
          0.3715652,
          0.374757,
          0.3748847,
          0.3700813,
          0.3577819,
          0.3442155,
          0.330557,
          0.3264897,
          0.3254691,
          0.3264908,
          0.3281149,
          0.3291525,
          0.3277433,
          0.3227837,
          0.3189354,
          0.3256902,
          0.3321661,
          0.3397231,
          0.3545317,
          0.3687706,
          0.3924323,
          0.3953286,
          0.3966787,
          0.4034242
         ]
        },
        {
         "name": "06.tsv",
         "type": "box",
         "y": [
          0.903613,
          0.8835402,
          0.8548351,
          0.8327247,
          0.8158972,
          0.8109872,
          0.8084534,
          0.8081245,
          0.8158236,
          0.8190975,
          0.818458,
          0.8110386,
          0.802554,
          0.7929516,
          0.7912915,
          0.792048,
          0.7955027,
          0.6509417,
          0.6400695,
          0.6367679,
          0.6284119,
          0.6236748,
          0.6238913,
          0.6238516,
          0.62684,
          0.6346436,
          0.6439265,
          0.6516294,
          0.6558135,
          0.6415655,
          0.6288428,
          0.6144386,
          0.5999692,
          0.5852741,
          0.5726206,
          0.5687018,
          0.5662665,
          0.565036,
          0.5665725,
          0.5798074,
          0.5999061,
          0.6183382,
          0.627318,
          0.6293539,
          0.6316476,
          0.5487138,
          0.5413268,
          0.5356655,
          0.5325297,
          0.5303213,
          0.5297216,
          0.5429294,
          0.540709,
          0.5424157,
          0.5476899,
          0.5458419,
          0.5435751,
          0.5408472,
          0.5399973,
          0.5425226,
          0.5494322,
          0.5518339,
          0.5539626,
          0.5564271,
          0.5566346,
          0.5604047,
          0.5627791,
          0.562108,
          0.5630451,
          0.5653092,
          0.5702251,
          0.5688088,
          0.5646658,
          0.5598085,
          0.5527962,
          0.5456762,
          0.5445942,
          0.5393205,
          0.5321887,
          0.5325059,
          0.5311884,
          0.5288706,
          0.5318329,
          0.531303,
          0.5275498,
          0.5281882,
          0.5276807,
          0.5258715,
          0.5268391,
          0.5252118,
          0.5198523,
          0.518147,
          0.5168887,
          0.5156985,
          0.5200965,
          0.5235801,
          0.5232013,
          0.5176401,
          0.5196137,
          0.5185637,
          0.5195819,
          0.5202735,
          0.515735,
          0.5097348,
          0.5036791,
          0.5020542,
          0.5088492,
          0.520799,
          0.5308493,
          0.5336631,
          0.530645,
          0.5219253,
          0.5142688,
          0.5076092,
          0.5059054,
          0.5082062,
          0.5150138,
          0.5159891,
          0.5193098,
          0.5263473,
          0.5346981,
          0.5418657,
          0.5467786,
          0.5570799,
          0.5557481,
          0.5522358,
          0.5506499,
          0.5490357,
          0.5474017,
          0.5457361,
          0.5437671,
          0.5415198,
          0.5383701,
          0.5340825,
          0.5290955,
          0.5293292,
          0.5593677,
          0.5602731,
          0.5589533,
          0.555217,
          0.5529059,
          0.5512556,
          0.5504442,
          0.5514352,
          0.5540068,
          0.5592291,
          0.5623991,
          0.5642443,
          0.5584564,
          0.5473529,
          0.5414541,
          0.5386412,
          0.537926,
          0.5387024,
          0.5407655,
          0.5463814,
          0.552107,
          0.5577803,
          0.5592192,
          0.5587353,
          0.5563893,
          0.5516882,
          0.546232,
          0.5399345,
          0.5386271,
          0.5370886,
          0.5347332,
          0.5339745,
          0.5326983,
          0.5301658,
          0.5346043,
          0.538504,
          0.5383635,
          0.5329945,
          0.5270069,
          0.5230802,
          0.5227211,
          0.5238212,
          0.5257427,
          0.5278503,
          0.5297327,
          0.5301393,
          0.5279721,
          0.5256881,
          0.5324559,
          0.5328355,
          0.5280973,
          0.5129149,
          0.5071191,
          0.5087681,
          0.504397,
          0.504767,
          0.5098027,
          0.511445,
          0.5178539,
          0.5300316,
          0.5322132,
          0.5326473,
          0.5316039,
          0.526737,
          0.5251167,
          0.5301602,
          0.5323446,
          0.5334522,
          0.5334221,
          0.53416,
          0.5338663,
          0.5301208,
          0.5291935,
          0.5290459,
          0.5281345,
          0.5296957,
          0.5321587,
          0.5336371,
          0.5329462,
          0.5296125,
          0.5156912,
          0.513288,
          0.5183691,
          0.5192819,
          0.5216681,
          0.5252907,
          0.5297629,
          0.5345391,
          0.5396194,
          0.5485789,
          0.5506346,
          0.5442048,
          0.5460156,
          0.5471472,
          0.5463334,
          0.5460031,
          0.5439512,
          0.5386657,
          0.5271242,
          0.5210133,
          0.5299419,
          0.5311753,
          0.5294732,
          0.5254505,
          0.5270802,
          0.527406,
          0.515349,
          0.5147167,
          0.5184124,
          0.51776,
          0.5189517,
          0.52125,
          0.5195134,
          0.5189446,
          0.4738023,
          0.4679867,
          0.4639476,
          0.4587512,
          0.4530905,
          0.4475148,
          0.4479425,
          0.4525965,
          0.4601999,
          0.4595607,
          0.466423,
          0.4726041,
          0.4821093,
          0.4997106,
          0.506487,
          0.5107158,
          0.5011325,
          0.4950541,
          0.4898137,
          0.4912165,
          0.4931703,
          0.4955026,
          0.4897246,
          0.4899342,
          0.4964257,
          0.50158,
          0.506584,
          0.5114601,
          0.5143663,
          0.5191739,
          0.5272108,
          0.5324359,
          0.5356374,
          0.5357955,
          0.5326815,
          0.5286911,
          0.5295627,
          0.5288339,
          0.5285066,
          0.5346987,
          0.5421802,
          0.5492406,
          0.5460928,
          0.5473614,
          0.5517598,
          0.5550083,
          0.5590174,
          0.5983055,
          0.6273649,
          0.6383309,
          0.6461368,
          0.6467567,
          0.6418716,
          0.6353987,
          0.6196312,
          0.6079988,
          0.6023588,
          0.5967495,
          0.5911778,
          0.5880969,
          0.5905144,
          0.5988883,
          0.5903836,
          0.5856903,
          0.5870295,
          0.5923681,
          0.595827,
          0.5956203,
          0.5930755,
          0.5910573,
          0.5908319,
          0.5888785,
          0.5884161,
          0.592629,
          0.5952104,
          0.5960211,
          0.5612995,
          0.5598829,
          0.5572116,
          0.5543321,
          0.5410728,
          0.5392584,
          0.5365736,
          0.5321298,
          0.5249668,
          0.5229685,
          0.5119398,
          0.5113465,
          0.5122502,
          0.5126625,
          0.5149435,
          0.5141704,
          0.515705,
          0.5293557,
          0.5357063,
          0.5377448,
          0.5418304,
          0.5490181,
          0.5435605,
          0.534142,
          0.5204815,
          0.5123071,
          0.508669,
          0.5123724,
          0.5164747,
          0.5221419,
          0.521429,
          0.5127302,
          0.5023794,
          0.4931781,
          0.4862364,
          0.4844678,
          0.4865101,
          0.490602,
          0.4973787,
          0.5027093,
          0.507628,
          0.5134393,
          0.5188851,
          0.5239367,
          0.5276562,
          0.5317917,
          0.5352741,
          0.5287091,
          0.5174029,
          0.5025002,
          0.4910374,
          0.4828659,
          0.4778312,
          0.4784791,
          0.4796833,
          0.4814504,
          0.4812095,
          0.4802159,
          0.4783457,
          0.4791753,
          0.4794939,
          0.4783735,
          0.4704944,
          0.4633415,
          0.4603867,
          0.4588739,
          0.4585969,
          0.4606385,
          0.4611738,
          0.4619029,
          0.4650609,
          0.4607337,
          0.4556764,
          0.4564973,
          0.4595602,
          0.4565231,
          0.4523414,
          0.4478219,
          0.4480463,
          0.4426473,
          0.4329237,
          0.4282182,
          0.4264092,
          0.4274054,
          0.4291664,
          0.4284288,
          0.4247434,
          0.4238605,
          0.4227001,
          0.42087,
          0.4214018,
          0.4251111,
          0.4338519,
          0.4401929,
          0.4438922,
          0.4428629,
          0.4405012,
          0.4372529,
          0.4325385,
          0.4320252,
          0.4326664,
          0.4322761,
          0.4343918,
          0.4375956,
          0.4407688,
          0.4401674,
          0.438517,
          0.443941,
          0.4463489,
          0.4464552,
          0.4430233,
          0.4375375,
          0.4303131,
          0.4206,
          0.4111467,
          0.4019492,
          0.3949509,
          0.3878163,
          0.3804657,
          0.3828898,
          0.3875635,
          0.3944665,
          0.4104065,
          0.4256763,
          0.4376466,
          0.4432937,
          0.446172,
          0.4456803,
          0.4440037,
          0.4413567,
          0.4368932,
          0.4396161,
          0.4463305,
          0.435529,
          0.4331424,
          0.4292998,
          0.427779,
          0.4248657,
          0.4201948,
          0.4137568,
          0.4067447,
          0.3464266,
          0.3424676,
          0.3389561,
          0.3388138,
          0.3399317,
          0.3396847,
          0.3423579,
          0.346308,
          0.3474708,
          0.3483594,
          0.3489583,
          0.3481754,
          0.3522294,
          0.3604004,
          0.3716335,
          0.3804348,
          0.3867651,
          0.4377126,
          0.4295793,
          0.4266689,
          0.4272302,
          0.425041,
          0.4170178,
          0.4041749,
          0.4005725,
          0.4012121,
          0.4062316,
          0.4129847,
          0.4167,
          0.4165393,
          0.4176488,
          0.4186939,
          0.4194722,
          0.41901,
          0.4191041,
          0.4120954,
          0.4064505,
          0.401338,
          0.3957677,
          0.3897594,
          0.3840254,
          0.3800001,
          0.3783487,
          0.3780721,
          0.3791903,
          0.3805083,
          0.3813576,
          0.3773749,
          0.3723177,
          0.3668109,
          0.3662545,
          0.37072,
          0.3794523,
          0.381547,
          0.3841056,
          0.3871507,
          0.3926795,
          0.3972404,
          0.3911808,
          0.3870852,
          0.3808541,
          0.3756885,
          0.3725037,
          0.3734738,
          0.379631,
          0.387338,
          0.3950989,
          0.3981387,
          0.3987504,
          0.3968489,
          0.4017158,
          0.4104796,
          0.4228853,
          0.4397832,
          0.4585413,
          0.4704013,
          0.479029,
          0.4853877,
          0.4929528,
          0.5012345,
          0.5101479,
          0.5192351,
          0.5256183,
          0.5291185,
          0.5336316,
          0.5076103,
          0.5052494,
          0.5036473,
          0.5039517,
          0.5036466,
          0.5032305,
          0.3970042,
          0.3955329,
          0.3921885,
          0.3905709,
          0.3921644,
          0.392737,
          0.3944502,
          0.3880846,
          0.3835816,
          0.4223632,
          0.4156517,
          0.4096426,
          0.4151558,
          0.4179324,
          0.4187516,
          0.4247327,
          0.4265541,
          0.4244107,
          0.4331562,
          0.4356006,
          0.4306135,
          0.4305933,
          0.4285703,
          0.4232907,
          0.4252944,
          0.4264036,
          0.4244621,
          0.4247344,
          0.4243193,
          0.4215739,
          0.4279473,
          0.4365304,
          0.444773,
          0.4516875,
          0.4555467,
          0.4503718,
          0.4502992,
          0.452296,
          0.4537438,
          0.4542044,
          0.4529935,
          0.4439859,
          0.433343,
          0.4214037,
          0.4068863,
          0.4006058,
          0.4008761,
          0.4003347,
          0.3986318,
          0.3958041,
          0.3936796,
          0.3908113,
          0.3870563,
          0.3894085,
          0.392317,
          0.3954234,
          0.3910286,
          0.3872856,
          0.3863344,
          0.3879707,
          0.3892455,
          0.3886706,
          0.3925413,
          0.3966904,
          0.398411,
          0.3988686,
          0.3454025,
          0.343954,
          0.3396036,
          0.3323514,
          0.3306667,
          0.328921,
          0.3269354,
          0.3221031,
          0.3182715,
          0.3162421,
          0.3204985,
          0.3242629,
          0.3255866,
          0.3303286,
          0.3344379,
          0.3355749,
          0.3409244,
          0.3473001,
          0.3532936,
          0.3565491,
          0.3577765,
          0.3551162,
          0.3570996,
          0.3600984,
          0.3575385,
          0.3583873,
          0.3618763,
          0.3708735,
          0.3759882,
          0.3786358,
          0.3841433,
          0.3852693,
          0.3814224,
          0.3776501,
          0.3713908,
          0.365192,
          0.3590539,
          0.3529884,
          0.3531816,
          0.3506391,
          0.3432209,
          0.3383689,
          0.334195,
          0.3306009,
          0.3295905,
          0.3295757,
          0.3306114,
          0.3380981,
          0.3462518,
          0.3510557,
          0.3572093,
          0.3623571,
          0.3617938,
          0.3627669,
          0.3635244,
          0.3594239,
          0.3553597,
          0.3515729,
          0.3498202,
          0.3479498,
          0.3461147,
          0.3460029,
          0.3474428,
          0.3501966,
          0.3524647,
          0.35398,
          0.354718,
          0.3540505,
          0.3544424,
          0.356219,
          0.3484313,
          0.348128,
          0.348584,
          0.3373281,
          0.3306381,
          0.3267544,
          0.32409,
          0.3216048,
          0.3193827,
          0.3192798,
          0.3174326,
          0.3140757,
          0.3107545,
          0.3102833,
          0.3128024,
          0.3171012,
          0.3202056,
          0.3217051,
          0.3220948,
          0.3224513,
          0.3229139,
          0.326531,
          0.3301977,
          0.3330443,
          0.3385782,
          0.3421935,
          0.3434933,
          0.3437368,
          0.3432851,
          0.3427508,
          0.3414344,
          0.3359754,
          0.3319916,
          0.3289752,
          0.3267647,
          0.3268012,
          0.3280554,
          0.3224064,
          0.3204948,
          0.32185,
          0.3205747,
          0.3197214,
          0.319318,
          0.320094,
          0.3210044,
          0.3220249,
          0.3258265,
          0.3289494,
          0.3305784,
          0.3292721,
          0.3268425,
          0.3231297,
          0.3186201,
          0.3165284,
          0.3207349,
          0.3211381,
          0.3203309,
          0.3193331,
          0.3198036,
          0.3220518,
          0.3292502,
          0.3351917,
          0.3388995,
          0.3332807,
          0.3290995,
          0.3258289,
          0.3229556,
          0.3233699,
          0.3257851,
          0.3205612,
          0.3163118,
          0.3129587,
          0.3158507,
          0.3170208,
          0.3163254,
          0.3149704,
          0.3143423,
          0.3147101,
          0.3186808,
          0.3231444,
          0.3278129,
          0.3342608,
          0.3370574,
          0.3320659,
          0.3323485,
          0.333487,
          0.3337228,
          0.3324843,
          0.3311217,
          0.330808,
          0.3298334,
          0.3281555,
          0.3246217,
          0.3245803,
          0.3260503,
          0.326186,
          0.3254397,
          0.3240624,
          0.3218344,
          0.3190666,
          0.3161033,
          0.3172746,
          0.3203387,
          0.3251223,
          0.3276552,
          0.331753,
          0.3375737,
          0.3388835,
          0.3399646,
          0.3410441,
          0.3407651,
          0.3408008,
          0.3415854,
          0.3396793,
          0.3389291,
          0.3414154,
          0.3407734,
          0.338707,
          0.3349241,
          0.3286572,
          0.3218666,
          0.3159205,
          0.3149872,
          0.3168295,
          0.3219018,
          0.3265176,
          0.3304619,
          0.3317015,
          0.3323413,
          0.3329193,
          0.3365782,
          0.3398665,
          0.3427072,
          0.34195,
          0.3390462,
          0.3341611,
          0.3320249,
          0.3267578,
          0.3179763,
          0.3179384,
          0.316532,
          0.3126149,
          0.3137235,
          0.3148241,
          0.3149844,
          0.316526,
          0.3171242,
          0.315298,
          0.3118476,
          0.3090907,
          0.309135,
          0.3110389,
          0.3125291,
          0.3106633,
          0.3102757,
          0.3103606,
          0.3098364,
          0.3115242,
          0.313946,
          0.3137919,
          0.3172887,
          0.3226572,
          0.3234349,
          0.3230973,
          0.3217361,
          0.3164976,
          0.313428,
          0.312393,
          0.3142968,
          0.3172218,
          0.3212805,
          0.3295956,
          0.3401765,
          0.3561665,
          0.3574014,
          0.3575002,
          0.353595,
          0.3550444,
          0.357511,
          0.3543555,
          0.3658968,
          0.4726036,
          0.470499,
          0.472861,
          0.4608744,
          0.4588894,
          0.4572465,
          0.4575783,
          0.4587609,
          0.4609948,
          0.4620861,
          0.46238,
          0.4399587,
          0.4364484,
          0.4373924,
          0.4557468,
          0.451092,
          0.4407103,
          0.4360008,
          0.4281645,
          0.4163682,
          0.4135236,
          0.4130777,
          0.4151459,
          0.4157306,
          0.4206399,
          0.4337381,
          0.4386136,
          0.4430553,
          0.4502526,
          0.4588203,
          0.4669765,
          0.4728871,
          0.4670193,
          0.4579844,
          0.4528813,
          0.457621,
          0.465959,
          0.4698868,
          0.4723448,
          0.4730457,
          0.4666567,
          0.4634836,
          0.4632843,
          0.4734644,
          0.4767389,
          0.4742356,
          0.4722447,
          0.4680588
         ]
        },
        {
         "name": "07.tsv",
         "type": "box",
         "y": []
        },
        {
         "name": "08.tsv",
         "type": "box",
         "y": [
          0.5924,
          0.5916,
          0.5957,
          0.5949,
          0.6058,
          0.6103,
          0.6156,
          0.6197,
          0.627,
          0.6322,
          0.6361,
          0.6181,
          0.5902,
          0.5661,
          0.5463,
          0.5471,
          0.5449,
          0.5535,
          0.569,
          0.591,
          0.5921,
          0.5995,
          0.6,
          0.5993,
          0.6025,
          0.6016,
          0.6071,
          0.6058,
          0.6056,
          0.6067,
          0.6015,
          0.6002,
          0.5908,
          0.5783,
          0.5688,
          0.5561,
          0.5376,
          0.5266,
          0.5307,
          0.5342,
          0.5372,
          0.552,
          0.5734,
          0.595,
          0.6077,
          0.613,
          0.5999,
          0.5916,
          0.5858,
          0.5742,
          0.5687,
          0.5547,
          0.5502,
          0.5398,
          0.5373,
          0.5447,
          0.5593,
          0.5638,
          0.5545,
          0.5509,
          0.5432,
          0.5432,
          0.5376,
          0.5333,
          0.5287,
          0.5305,
          0.5365,
          0.5372,
          0.5391,
          0.5434,
          0.4997,
          0.4953,
          0.4868,
          0.4823,
          0.488,
          0.495,
          0.4967,
          0.4863,
          0.4879,
          0.4861,
          0.4754,
          0.4855,
          0.471,
          0.4626,
          0.4485,
          0.4382,
          0.436,
          0.427,
          0.4301,
          0.4179,
          0.4238,
          0.4033,
          0.4088,
          0.4143,
          0.443,
          0.5692,
          0.5792,
          0.5843,
          0.5887,
          0.5907,
          0.5838,
          0.5787,
          0.5763,
          0.5775,
          0.5896,
          0.5923,
          0.5914,
          0.5839,
          0.4946,
          0.4897,
          0.4909,
          0.4874,
          0.4872,
          0.488,
          0.4823,
          0.4887,
          0.497,
          0.4977,
          0.4983,
          0.501,
          0.4968,
          0.5035,
          0.5098,
          0.5142,
          0.5254,
          0.5306,
          0.5296,
          0.5213,
          0.5162,
          0.5094,
          0.5075,
          0.5092,
          0.5109,
          0.5021,
          0.5051,
          0.5112,
          0.509,
          0.5076,
          0.5043,
          0.5037,
          0.4995,
          0.498,
          0.4796,
          0.4725,
          0.4729,
          0.4763,
          0.4797,
          0.4865,
          0.4951,
          0.5029,
          0.5033,
          0.5073,
          0.5094,
          0.5205,
          0.5251,
          0.5229,
          0.5143,
          0.51,
          0.5127,
          0.5156,
          0.506,
          0.5053,
          0.5006,
          0.4952,
          0.4958,
          0.5001,
          0.5027,
          0.4994,
          0.4881,
          0.4836,
          0.4842,
          0.4945,
          0.4993,
          0.5017,
          0.5086,
          0.5096,
          0.5155,
          0.5072,
          0.5,
          0.4989,
          0.4985,
          0.4991,
          0.502,
          0.4986,
          0.5062,
          0.5113,
          0.5141,
          0.5105,
          0.5092,
          0.5106,
          0.5095,
          0.5053,
          0.5035,
          0.5022,
          0.5139,
          0.5104,
          0.5221,
          0.5255,
          0.5359,
          0.5756,
          0.5883,
          0.5945,
          0.5953,
          0.5982,
          0.5981,
          0.5923,
          0.5993,
          0.5932,
          0.5878,
          0.5571,
          0.555,
          0.5552,
          0.5559,
          0.5556,
          0.5499,
          0.5473,
          0.5341,
          0.5315,
          0.5348,
          0.526,
          0.521,
          0.5098,
          0.5031,
          0.4977,
          0.5027,
          0.5103,
          0.4834,
          0.5082,
          0.4722,
          0.4818,
          0.4912,
          0.4891,
          0.4972,
          0.5427,
          0.5489,
          0.5484,
          0.5416,
          0.531,
          0.5262,
          0.5098,
          0.4964,
          0.4896,
          0.4913,
          0.5067,
          0.5168,
          0.5164,
          0.5224,
          0.5232,
          0.5139,
          0.5148,
          0.517,
          0.5166,
          0.5103,
          0.5123,
          0.508,
          0.5111,
          0.5122,
          0.5108,
          0.5123,
          0.5116,
          0.5063,
          0.508,
          0.5244,
          0.5288,
          0.5363,
          0.5374,
          0.5405,
          0.5411,
          0.54,
          0.537,
          0.5358,
          0.5388,
          0.5405,
          0.5457,
          0.545,
          0.5485,
          0.5637,
          0.5731,
          0.5794,
          0.5762,
          0.5734,
          0.5631,
          0.5495,
          0.53,
          0.5144,
          0.5034,
          0.5058,
          0.5096,
          0.5019,
          0.5047,
          0.4942,
          0.5004,
          0.5,
          0.4932,
          0.4776,
          0.4715,
          0.4796,
          0.4864,
          0.483,
          0.4775,
          0.4698,
          0.4771,
          0.4798,
          0.486,
          0.4819,
          0.4829,
          0.4869,
          0.4829,
          0.4729,
          0.4665,
          0.4722,
          0.4845,
          0.4872,
          0.4948,
          0.4948,
          0.4929,
          0.4861,
          0.4908,
          0.4838,
          0.4868,
          0.4886,
          0.4998,
          0.4942,
          0.427,
          0.4173,
          0.4255,
          0.4064,
          0.4364,
          0.4627,
          0.5086,
          0.5116,
          0.5099,
          0.4992,
          0.498,
          0.4959,
          0.4891,
          0.4799,
          0.4308,
          0.4328,
          0.4285,
          0.4196,
          0.4036,
          0.3967,
          0.4045,
          0.4076,
          0.4006,
          0.3975,
          0.3985,
          0.398,
          0.4062,
          0.4169,
          0.4192,
          0.4247,
          0.4199,
          0.4191,
          0.4189,
          0.4144,
          0.4058,
          0.4147,
          0.442,
          0.4444,
          0.459,
          0.4887,
          0.5029,
          0.5082,
          0.5073,
          0.5037,
          0.4846,
          0.496,
          0.496,
          0.4933,
          0.4838,
          0.4893,
          0.4922,
          0.4885,
          0.4861,
          0.4905,
          0.4818,
          0.4757,
          0.4736,
          0.4744,
          0.4735,
          0.4734,
          0.4729,
          0.4804,
          0.4788,
          0.4742,
          0.466,
          0.4708,
          0.4774,
          0.4899,
          0.4977,
          0.5006,
          0.5052,
          0.5099,
          0.5091,
          0.4776,
          0.4816,
          0.4754,
          0.4794,
          0.4719,
          0.4629,
          0.4532,
          0.4538,
          0.4592,
          0.4593,
          0.4503,
          0.449,
          0.4461,
          0.4593,
          0.456,
          0.4587,
          0.449,
          0.4582,
          0.4507,
          0.4484,
          0.4496,
          0.4528,
          0.4406,
          0.4414,
          0.4414,
          0.4418,
          0.43,
          0.4437,
          0.4504,
          0.4441,
          0.4415,
          0.4366,
          0.4305,
          0.4329,
          0.4359,
          0.432,
          0.426,
          0.4242,
          0.4254,
          0.4271,
          0.4334,
          0.4294,
          0.4364,
          0.4309,
          0.4343,
          0.4295,
          0.4348,
          0.4401,
          0.4476,
          0.4495,
          0.4561,
          0.4486,
          0.4341,
          0.4444,
          0.4399,
          0.4267,
          0.4236,
          0.4154,
          0.4148,
          0.4173,
          0.4174,
          0.4223,
          0.4236,
          0.4226,
          0.421,
          0.4336,
          0.4355,
          0.446,
          0.4424,
          0.4477,
          0.4408,
          0.443,
          0.4368,
          0.4392,
          0.4451,
          0.4347,
          0.4342,
          0.438,
          0.4395,
          0.4326,
          0.4243,
          0.4268,
          0.427,
          0.4263,
          0.4177,
          0.4362,
          0.4266,
          0.4266,
          0.428,
          0.4235,
          0.4204,
          0.4203,
          0.4192,
          0.4259,
          0.4267,
          0.4214,
          0.4092,
          0.4022,
          0.4095,
          0.4062,
          0.3946,
          0.3837,
          0.3866,
          0.369,
          0.3725,
          0.3786,
          0.3784,
          0.381,
          0.3865,
          0.3881,
          0.3784,
          0.3745,
          0.3692,
          0.3669,
          0.3711,
          0.3895,
          0.3897,
          0.391,
          0.3869,
          0.3803,
          0.3679,
          0.3684,
          0.3712,
          0.3713,
          0.3737,
          0.3807,
          0.3841,
          0.3907,
          0.3943,
          0.4087,
          0.4254,
          0.4478,
          0.4631,
          0.4771,
          0.4842,
          0.4822,
          0.4955,
          0.5038,
          0.5132,
          0.5122,
          0.5074,
          0.4991,
          0.4931,
          0.4808,
          0.4679,
          0.4732,
          0.477,
          0.4943,
          0.4883,
          0.477,
          0.4803,
          0.4662,
          0.4604,
          0.4577,
          0.4504,
          0.4437,
          0.4302,
          0.4326,
          0.4389,
          0.4576,
          0.4615,
          0.4802,
          0.4848,
          0.4899,
          0.4904,
          0.4983,
          0.4855,
          0.4704,
          0.457,
          0.4608,
          0.4752,
          0.4771,
          0.4738,
          0.4723,
          0.4589,
          0.4523,
          0.4466,
          0.4447,
          0.452,
          0.4571,
          0.4529,
          0.458,
          0.4576,
          0.4546,
          0.4532,
          0.4478,
          0.4559,
          0.4646,
          0.4722,
          0.4856,
          0.4861,
          0.4884,
          0.4881,
          0.489,
          0.4856,
          0.4854,
          0.4854,
          0.4933,
          0.5,
          0.4958,
          0.493,
          0.4922,
          0.5019,
          0.4888,
          0.4704,
          0.4613,
          0.4611,
          0.4656,
          0.4635,
          0.4617,
          0.4693,
          0.4774,
          0.4788,
          0.4759,
          0.4723,
          0.4714,
          0.4654,
          0.4547,
          0.4465,
          0.437,
          0.4328,
          0.4298,
          0.4341,
          0.4361,
          0.4376,
          0.4704,
          0.4451,
          0.4432,
          0.4379,
          0.4346,
          0.4253,
          0.43,
          0.4339,
          0.4391,
          0.4504,
          0.4617,
          0.4728,
          0.46,
          0.4515,
          0.4425,
          0.4351,
          0.4313,
          0.4361,
          0.436,
          0.4334,
          0.4329,
          0.4241,
          0.438,
          0.4183,
          0.4214,
          0.4137,
          0.4159,
          0.4216,
          0.4229,
          0.4231,
          0.4289,
          0.4318,
          0.4431,
          0.4539,
          0.4411,
          0.4305,
          0.439,
          0.428,
          0.4127,
          0.4208,
          0.4317,
          0.4276,
          0.4215,
          0.4502,
          0.4376,
          0.4541,
          0.5,
          0.4979,
          0.4975,
          0.4957,
          0.4964,
          0.4951,
          0.4981,
          0.5005,
          0.5055,
          0.5115,
          0.5095,
          0.5194,
          0.5246,
          0.5249,
          0.5222,
          0.5212,
          0.5196,
          0.5142,
          0.512,
          0.5072,
          0.5135,
          0.5141,
          0.5165,
          0.5195,
          0.5157,
          0.5134,
          0.5069,
          0.509,
          0.5038,
          0.497,
          0.4915,
          0.4879,
          0.4759,
          0.4732,
          0.4722,
          0.4728,
          0.4774,
          0.4844,
          0.5095,
          0.5123,
          0.5071,
          0.4852,
          0.4762,
          0.4589,
          0.4541,
          0.4504
         ]
        },
        {
         "name": "09.tsv",
         "type": "box",
         "y": []
        },
        {
         "name": "10.tsv",
         "type": "box",
         "y": []
        },
        {
         "name": "11.tsv",
         "type": "box",
         "y": [
          0.5028737,
          0.5040966,
          0.5069557,
          0.5116616,
          0.5166966,
          0.5253208,
          0.5168918,
          0.506869,
          0.5047256,
          0.5035058,
          0.4243165,
          0.4281321,
          0.430971,
          0.4314881,
          0.4329671,
          0.4353222,
          0.4392256,
          0.4450897,
          0.4524566,
          0.4625838,
          0.4670298,
          0.4694018,
          0.4717966,
          0.476342,
          0.4818996,
          0.5005374,
          0.4989263,
          0.4968712,
          0.4943579,
          0.5001495,
          0.5052289,
          0.5090725,
          0.5100554,
          0.5090238,
          0.5052994,
          0.5046473,
          0.5052347,
          0.5072996,
          0.5088711,
          0.508165,
          0.5023906,
          0.5002221,
          0.4990749,
          0.49787,
          0.5021244,
          0.5068007,
          0.5051644,
          0.5063653,
          0.5077909,
          0.5032099,
          0.5003714,
          0.4984767,
          0.4959962,
          0.4966502,
          0.4994561,
          0.5009935,
          0.5035716,
          0.5070161,
          0.5076107,
          0.5088041,
          0.5106257,
          0.5146711,
          0.5190364,
          0.5237029,
          0.5210708,
          0.5080487,
          0.5041472,
          0.5011508,
          0.4998074,
          0.5014202,
          0.5043133,
          0.50782,
          0.5116157,
          0.5152915,
          0.5175245,
          0.5236564,
          0.5319245,
          0.566578,
          0.5588106,
          0.5585226,
          0.5662087,
          0.571371,
          0.5780852,
          0.586943,
          0.5912157,
          0.5954358,
          0.5889272,
          0.5796666,
          0.5748656,
          0.5748624,
          0.574389,
          0.5734063,
          0.5791928,
          0.5838782,
          0.5867062,
          0.5892653,
          0.5710374,
          0.56436,
          0.5638361,
          0.5604681,
          0.5574434,
          0.5582882,
          0.5540671,
          0.5474004,
          0.5448925,
          0.5381969,
          0.5297097,
          0.5285213,
          0.5239881,
          0.5173157,
          0.5178576,
          0.5172716,
          0.5156611,
          0.5130379,
          0.5111237,
          0.5099899,
          0.5135411,
          0.5174999,
          0.5216879,
          0.5212465,
          0.5200087,
          0.5182737,
          0.5143738,
          0.5103652,
          0.5068704,
          0.5018943,
          0.4978175,
          0.4968952,
          0.4950979,
          0.4925516,
          0.488475,
          0.4881835,
          0.4891299,
          0.488811,
          0.4909748,
          0.4938028,
          0.4929947,
          0.4889122,
          0.4835925,
          0.4862069,
          0.4830876,
          0.4759505,
          0.4762642,
          0.4732742,
          0.4672345,
          0.4700255,
          0.4745428,
          0.4809512,
          0.4873626,
          0.4930245,
          0.4974019,
          0.4896021,
          0.4832201,
          0.4771538,
          0.4712298,
          0.4706009,
          0.4703116,
          0.4675764,
          0.4669252,
          0.4641114,
          0.4519117,
          0.4499348,
          0.4524945,
          0.4564744,
          0.4554565,
          0.4516877,
          0.4467989,
          0.4457048,
          0.4476977,
          0.4567517,
          0.4600506,
          0.4591081,
          0.4631439,
          0.4651755,
          0.465327,
          0.4680546,
          0.4661713,
          0.4590229,
          0.4587136,
          0.4590846,
          0.4598349,
          0.4593256,
          0.4597548,
          0.4620151,
          0.4653358,
          0.4641111,
          0.4530059,
          0.4554389,
          0.4638908,
          0.4617819,
          0.4600765,
          0.4603494,
          0.4499013,
          0.4476103,
          0.4439388,
          0.4394559,
          0.4339577,
          0.4284843,
          0.4271219,
          0.4328147,
          0.4413032,
          0.4470495,
          0.4458707,
          0.4477822,
          0.4487786,
          0.4452065,
          0.442103,
          0.4392852,
          0.4369096,
          0.4360171,
          0.4350675,
          0.4308743,
          0.4318272,
          0.4355581,
          0.4395018,
          0.4387767,
          0.4353859,
          0.4365396,
          0.4362662,
          0.4348755,
          0.4341646,
          0.4331243,
          0.4317647,
          0.4369646,
          0.4416311,
          0.4455463,
          0.4415949,
          0.4370581,
          0.4324533,
          0.4273023,
          0.4238637,
          0.4235376,
          0.4263433,
          0.4295705,
          0.4324192,
          0.4399593,
          0.4478271,
          0.4532246,
          0.4615404,
          0.4708336,
          0.4800327,
          0.4844442,
          0.499659,
          0.4967552,
          0.4993156,
          0.4974436,
          0.5028557,
          0.5087577,
          0.5032549,
          0.5044753,
          0.5062342,
          0.5028847,
          0.4996859,
          0.4966221,
          0.4939926,
          0.4900911,
          0.4849177,
          0.4803965,
          0.4782211,
          0.4788704,
          0.4799875,
          0.480703,
          0.4807725,
          0.4881704,
          0.4928443,
          0.490783,
          0.492253,
          0.4870875,
          0.4749268,
          0.4684053,
          0.464688,
          0.4622288,
          0.4599398,
          0.4584804,
          0.462613,
          0.4659375,
          0.4682054,
          0.4636265,
          0.4660346,
          0.4741876,
          0.4490962,
          0.4424277,
          0.4376643,
          0.4343435,
          0.4336534,
          0.4314061,
          0.3696274,
          0.3608455,
          0.3541762,
          0.3493991,
          0.3503145,
          0.3529829,
          0.3574615,
          0.3689579,
          0.3777407,
          0.3828348,
          0.3880397,
          0.3930825,
          0.3978634,
          0.4001732,
          0.4011336,
          0.4002452,
          0.3972281,
          0.3940302,
          0.3914709,
          0.3858776,
          0.3826631,
          0.3840512,
          0.3870069,
          0.3893696,
          0.3932048,
          0.3969232,
          0.3962606,
          0.3948909,
          0.3934585,
          0.3949082,
          0.3967243,
          0.3986747,
          0.3986397,
          0.398345,
          0.3978631,
          0.4004697,
          0.4059558,
          0.4144628,
          0.4234009,
          0.5094989,
          0.5132558,
          0.5140836,
          0.510748,
          0.5101591,
          0.5119416,
          0.5196112,
          0.5250604,
          0.5294497,
          0.5360373,
          0.431782,
          0.4310688,
          0.4281521,
          0.4301392,
          0.4364659,
          0.4317588,
          0.4303089,
          0.4323876,
          0.437052,
          0.4320225,
          0.4339305,
          0.4289428,
          0.4210044,
          0.4163741,
          0.4112944,
          0.4058538,
          0.3996165,
          0.3925344,
          0.385277,
          0.3881661,
          0.3886414,
          0.3868884,
          0.3920743,
          0.3967934,
          0.4009593,
          0.409078,
          0.4270584,
          0.4310434,
          0.4347006,
          0.4363081,
          0.4347414,
          0.4333559,
          0.4344265,
          0.432475,
          0.4312166,
          0.4354813,
          0.3982443,
          0.397743,
          0.3969404,
          0.3960306,
          0.3981337,
          0.3991418,
          0.3991228,
          0.3923598,
          0.3946657,
          0.396285,
          0.3966444,
          0.4062861,
          0.4087835,
          0.4113002,
          0.4102515,
          0.4114248,
          0.4132041,
          0.4134875,
          0.4129345,
          0.410928,
          0.4022468,
          0.396268,
          0.3917428,
          0.3840705,
          0.376904,
          0.3701839,
          0.3647727,
          0.3617308,
          0.360947,
          0.3597507,
          0.3589078,
          0.3584787,
          0.3586929,
          0.3559273,
          0.3489207,
          0.3437178,
          0.3409455,
          0.3419724,
          0.3433945,
          0.3446478,
          0.3453872,
          0.3476759,
          0.3492965,
          0.3480665,
          0.3441096,
          0.3395907,
          0.3363073,
          0.3360054,
          0.3368012,
          0.3367542,
          0.3377131,
          0.339213,
          0.340741,
          0.3420083,
          0.3428319,
          0.3405198,
          0.3381064,
          0.3357225,
          0.3366819,
          0.3392303,
          0.3433176,
          0.3435225,
          0.342535,
          0.3402219,
          0.3381748,
          0.3386146,
          0.3425774,
          0.3437052,
          0.3451575,
          0.3478015,
          0.3465176,
          0.3447168,
          0.3434168,
          0.3436039,
          0.3439017,
          0.3434351,
          0.3443621,
          0.346047,
          0.348719,
          0.3478284,
          0.345484,
          0.343632,
          0.341493,
          0.3396339,
          0.3408518,
          0.3425542,
          0.3418459,
          0.3411433,
          0.3420482,
          0.3448707,
          0.3477063,
          0.3530771,
          0.3621248,
          0.3635294,
          0.3663736,
          0.3735596,
          0.3779737,
          0.3824181,
          0.3935425,
          0.3868105,
          0.3776883,
          0.371903,
          0.3693634,
          0.3706593,
          0.3681578,
          0.3636471,
          0.356607,
          0.3511922,
          0.3486993,
          0.3510912,
          0.3532428,
          0.3543574,
          0.3532511,
          0.3534152,
          0.3535917,
          0.3528071,
          0.3555219,
          0.358452,
          0.3575171,
          0.3525205,
          0.3463924,
          0.3438856,
          0.3438749,
          0.3461527,
          0.3303198,
          0.3270646,
          0.3250194,
          0.3189279,
          0.318788,
          0.3235596,
          0.318588,
          0.3171696,
          0.3194202,
          0.3206494,
          0.3245112,
          0.331712,
          0.3371083,
          0.3399695,
          0.3392035,
          0.3398172,
          0.3377233,
          0.3301769,
          0.3362896,
          0.3432158,
          0.3452334,
          0.3479075,
          0.3500045,
          0.3498257,
          0.3539012,
          0.3584142,
          0.3584316,
          0.361324,
          0.365272,
          0.3676121,
          0.3700475,
          0.3721728,
          0.3712794,
          0.3723929,
          0.374811,
          0.3811499,
          0.3769621,
          0.3725569,
          0.3687333,
          0.3656601,
          0.3570505,
          0.3478435,
          0.3384973,
          0.3401463,
          0.3420371,
          0.3412002,
          0.3402984,
          0.339433,
          0.3386879,
          0.3358661,
          0.334219,
          0.3379934,
          0.3409419,
          0.3444014,
          0.3511645,
          0.353301,
          0.3536088,
          0.3560847,
          0.3551082,
          0.3523547,
          0.3519103,
          0.3494056,
          0.3454682,
          0.3425304,
          0.34315,
          0.346902,
          0.3276001,
          0.3206508,
          0.3133672,
          0.3062663,
          0.295775,
          0.287792,
          0.2877444,
          0.2887625,
          0.2904958,
          0.2934476,
          0.2938882,
          0.2935502,
          0.2940244,
          0.2951885,
          0.2983252,
          0.3108798,
          0.3159128,
          0.3168596,
          0.3218193,
          0.3203575,
          0.3142642,
          0.309913,
          0.3051247,
          0.2999757,
          0.3022682,
          0.3025684,
          0.3007103,
          0.3038551,
          0.3061521,
          0.3070319,
          0.3094746,
          0.3127389,
          0.3183647,
          0.3140778,
          0.3098129,
          0.3058536,
          0.303646,
          0.3008831,
          0.2980112,
          0.2973182,
          0.2985536,
          0.3007811,
          0.2940673,
          0.2947229,
          0.302073,
          0.2972332,
          0.2951847,
          0.2962091,
          0.2959736,
          0.295404,
          0.2944727,
          0.2964819,
          0.2984037,
          0.2996733,
          0.29924,
          0.2993907,
          0.3012929,
          0.3040963,
          0.3056282,
          0.3034143,
          0.2967128,
          0.2909953,
          0.2930512,
          0.2931465,
          0.2926712,
          0.2931564,
          0.2936405,
          0.2951845,
          0.3032419,
          0.3132176,
          0.3235608,
          0.3257294,
          0.3342016,
          0.3473769,
          0.4005902,
          0.4030462,
          0.4390261,
          0.4393319,
          0.4384353,
          0.4366712,
          0.4321777,
          0.4285373,
          0.4308335,
          0.4318252,
          0.4319971,
          0.4309334,
          0.4264598,
          0.4173086,
          0.4194173,
          0.4213859,
          0.4232211,
          0.4238625,
          0.4265879,
          0.4317376,
          0.4344815,
          0.4362288
         ]
        },
        {
         "name": "12.tsv",
         "type": "box",
         "y": []
        },
        {
         "name": "13.tsv",
         "type": "box",
         "y": [
          0.8861588,
          0.8833046,
          0.8795843,
          0.8737453,
          0.8646959,
          0.8512529,
          0.8376781,
          0.8251901,
          0.8098986,
          0.7947324,
          0.7814033,
          0.75779,
          0.7333929,
          0.7161934,
          0.7054352,
          0.6970033,
          0.6878383,
          0.6794315,
          0.6718858,
          0.6671662,
          0.664952,
          0.6646858,
          0.6683644,
          0.6820648,
          0.7025125,
          0.7114759,
          0.722611,
          0.7356949,
          0.7506138,
          0.7688463,
          0.7906685,
          0.592145,
          0.5855553,
          0.5848121,
          0.5860353,
          0.5872468,
          0.5849062,
          0.5818713,
          0.5827138,
          0.5841357,
          0.5863397,
          0.5917654,
          0.5963643,
          0.5999046,
          0.5975047,
          0.5976726,
          0.5997224,
          0.596665,
          0.5922775,
          0.5866017,
          0.5785821,
          0.5712776,
          0.5648575,
          0.5692772,
          0.5760545,
          0.5851384,
          0.5875899,
          0.5912001,
          0.5982965,
          0.6038667,
          0.6102951,
          0.6192104,
          0.6192702,
          0.6167108,
          0.6133499,
          0.611736,
          0.6116778,
          0.6150037,
          0.6120893,
          0.6076191,
          0.6087807,
          0.6078893,
          0.6061252,
          0.6060735,
          0.6058555,
          0.6058573,
          0.60988,
          0.6092512,
          0.6048191,
          0.5994089,
          0.5969772,
          0.5974768,
          0.5947363,
          0.5942032,
          0.5963823,
          0.5976561,
          0.5982632,
          0.5979989,
          0.6037171,
          0.6116595,
          0.6221606,
          0.6277902,
          0.6313561,
          0.6324787,
          0.6318544,
          0.6303009,
          0.6274675,
          0.6281702,
          0.6288289,
          0.6230291,
          0.6240702,
          0.6252116,
          0.6264169,
          0.6268614,
          0.6277531,
          0.6290922,
          0.6314998,
          0.6333944,
          0.6346353,
          0.6380126,
          0.6405556,
          0.6416229,
          0.6441737,
          0.6484666,
          0.6555448,
          0.6597052,
          0.6668928,
          0.6822053,
          0.692237,
          0.6976445,
          0.6940315,
          0.6789277,
          0.6635531,
          0.6624924,
          0.6629106,
          0.6643651,
          0.6676838,
          0.6705061,
          0.6723939,
          0.6692873,
          0.6642343,
          0.6578122,
          0.651011,
          0.6422184,
          0.6320298,
          0.6352302,
          0.6362261,
          0.634982,
          0.6346855,
          0.6313865,
          0.6243545,
          0.6192512,
          0.6147655,
          0.6109681,
          0.6150558,
          0.6192008,
          0.6213965,
          0.6240061,
          0.6247707,
          0.6211143,
          0.6202352,
          0.6190404,
          0.6146514,
          0.6058623,
          0.5961128,
          0.5888406,
          0.5852517,
          0.583366,
          0.5814887,
          0.5834463,
          0.5872274,
          0.5880641,
          0.5899681,
          0.5923125,
          0.5901577,
          0.591333,
          0.5954124,
          0.6036522,
          0.6095597,
          0.6130589,
          0.6151175,
          0.6173809,
          0.6199604,
          0.6201741,
          0.6187532,
          0.615153,
          0.5512695,
          0.535355,
          0.5238136,
          0.5151352,
          0.5082446,
          0.5023534,
          0.5049024,
          0.5127261,
          0.5089967,
          0.508366,
          0.5104241,
          0.512998,
          0.5137482,
          0.512585,
          0.5172529,
          0.5206764,
          0.5222393,
          0.5183684,
          0.5133645,
          0.507376,
          0.5013062,
          0.4949681,
          0.4881419,
          0.4841561,
          0.4812517,
          0.4794363,
          0.4836676,
          0.4912259,
          0.5034577,
          0.5152829,
          0.5261112,
          0.5335718,
          0.5450376,
          0.5574728,
          0.5646071,
          0.5731683,
          0.5817364,
          0.5830836,
          0.5849043,
          0.5871596,
          0.590956,
          0.5961571,
          0.602549,
          0.6033668,
          0.6014335,
          0.5965672,
          0.5960403,
          0.5942003,
          0.5904276,
          0.589491,
          0.5882174,
          0.5859808,
          0.5848556,
          0.5865033,
          0.5931939,
          0.5967723,
          0.5997419,
          0.6029369,
          0.6030493,
          0.6022756,
          0.6016414,
          0.6017092,
          0.6013292,
          0.5979919,
          0.5915712,
          0.5844579,
          0.5820215,
          0.5820339,
          0.5840615,
          0.5909444,
          0.5874487,
          0.5765064,
          0.5690891,
          0.5630645,
          0.5582884,
          0.5544305,
          0.5530589,
          0.5543807,
          0.5534899,
          0.5565937,
          0.5650839,
          0.5732269,
          0.5819219,
          0.5915591,
          0.5982594,
          0.6051759,
          0.6134642,
          0.623949,
          0.634584,
          0.6700411,
          0.6732373,
          0.6728864,
          0.6681921,
          0.6652855,
          0.6624831,
          0.6550182,
          0.6496119,
          0.645135,
          0.6375302,
          0.6305691,
          0.6243121,
          0.6224672,
          0.6237901,
          0.6279907,
          0.6294817,
          0.6317554,
          0.6348904,
          0.6320131,
          0.6300328,
          0.6296563,
          0.6250936,
          0.6220033,
          0.6220403,
          0.6192684,
          0.6171495,
          0.6172952,
          0.6197582,
          0.6218742,
          0.6217274,
          0.6196966,
          0.6163718,
          0.6087555,
          0.6085632,
          0.6084533,
          0.6083491,
          0.6081763,
          0.6079898,
          0.6078346,
          0.6078435,
          0.6068132,
          0.6056319,
          0.6068924,
          0.607614,
          0.6080778,
          0.6094103,
          0.6102322,
          0.6109438,
          0.6184772,
          0.6228641,
          0.6242996,
          0.6257332,
          0.6271884,
          0.6286682,
          0.6301671,
          0.6309153,
          0.6306254,
          0.630702,
          0.6308563,
          0.63107,
          0.6312562,
          0.6314448,
          0.6316488,
          0.6318746,
          0.6320475,
          0.6320672,
          0.6321013,
          0.6321313,
          0.6321315,
          0.6321181,
          0.6323979,
          0.6340387,
          0.6347718,
          0.6350065,
          0.6350955,
          0.6366614,
          0.6390505,
          0.640033,
          0.6392844,
          0.6372904,
          0.638369,
          0.6397224,
          0.6413379,
          0.6420723,
          0.6412374,
          0.6386019,
          0.6323714,
          0.6282728,
          0.6274891,
          0.6269898,
          0.6263553,
          0.6254293,
          0.6245379,
          0.6239361,
          0.6239358,
          0.6239675,
          0.6239966,
          0.6239964,
          0.6248038,
          0.6258806,
          0.6269481,
          0.6284955,
          0.6297502,
          0.6286711,
          0.608264,
          0.5910196,
          0.5794637,
          0.5507122,
          0.5487425,
          0.5530282,
          0.5594718,
          0.5304884,
          0.5268909,
          0.5240366,
          0.5246425,
          0.5189242,
          0.5123001,
          0.5145044,
          0.5195214,
          0.511711,
          0.5071489,
          0.5052967,
          0.5028186,
          0.5004305,
          0.4981339,
          0.5021784,
          0.5052469,
          0.506888,
          0.5093489,
          0.5099868,
          0.5077891,
          0.5055246,
          0.5034006,
          0.501553,
          0.4996558,
          0.5000027,
          0.5055108,
          0.5075793,
          0.5087017,
          0.5098939,
          0.5107239,
          0.5117253,
          0.5138835,
          0.5178828,
          0.5238079,
          0.5591111,
          0.5550137,
          0.552384,
          0.551609,
          0.5520788,
          0.5513508,
          0.55053,
          0.5496241,
          0.5483075,
          0.5501308,
          0.5552484,
          0.5584444,
          0.5603434,
          0.560683,
          0.5604877,
          0.5452797,
          0.5369982,
          0.5260131,
          0.5200601,
          0.5153916,
          0.511151,
          0.5098801,
          0.5096074,
          0.5097025,
          0.4953549,
          0.4970514,
          0.4961187,
          0.4929067,
          0.4938844,
          0.495354,
          0.4973482,
          0.4973524,
          0.4956717,
          0.4919188,
          0.4884869,
          0.485542,
          0.4833163,
          0.4816314,
          0.4797146,
          0.4771822,
          0.4818369,
          0.4882367,
          0.4949384,
          0.4954568,
          0.47775,
          0.4771388,
          0.4799903,
          0.4807176,
          0.4791437,
          0.48007,
          0.4824312,
          0.4636225,
          0.4588745,
          0.4532564,
          0.4472348,
          0.4461251,
          0.447646,
          0.4515565,
          0.4517871,
          0.4520133,
          0.452235,
          0.4593261,
          0.4624451,
          0.4594952,
          0.4573442,
          0.4610453,
          0.4636316,
          0.4599015,
          0.4606152,
          0.460764,
          0.4545412,
          0.4485109,
          0.4427575,
          0.4378636,
          0.4372079,
          0.4410636,
          0.446619,
          0.4513043,
          0.4556282,
          0.4664779,
          0.4766067,
          0.48607,
          0.5000326,
          0.5137794,
          0.5272646,
          0.5370616,
          0.5453953,
          0.5520157,
          0.5544956,
          0.6168071,
          0.6102687,
          0.6042227,
          0.5983582,
          0.5911379,
          0.5856044,
          0.5813468,
          0.5764199,
          0.5745504,
          0.5755487,
          0.5743629,
          0.5740353,
          0.5747032,
          0.5740346,
          0.5746854,
          0.5135536,
          0.5111734,
          0.5104102,
          0.5114579,
          0.5080782,
          0.5042689,
          0.5002534,
          0.500112,
          0.5025699,
          0.5412827,
          0.5418499,
          0.5396721,
          0.5354156,
          0.5292627,
          0.5169733,
          0.5106118,
          0.5091023,
          0.5111712,
          0.4944985,
          0.4852408,
          0.476099,
          0.4675471,
          0.4661728,
          0.4670718,
          0.4690312,
          0.4673952,
          0.4642021,
          0.4598747,
          0.4595785,
          0.4614677,
          0.4654012,
          0.4924259,
          0.4941447,
          0.4962771,
          0.498419,
          0.4892372,
          0.4839976,
          0.4826375,
          0.4809894,
          0.4757271,
          0.4718548,
          0.4683027,
          0.4659181,
          0.4647872,
          0.4645453,
          0.4659317,
          0.4629243,
          0.4582426,
          0.4549541,
          0.4526935,
          0.451429,
          0.4533023,
          0.450684,
          0.4454431,
          0.4456424,
          0.443875,
          0.4404972,
          0.4376027,
          0.4368324,
          0.4381863,
          0.4410749,
          0.4444873,
          0.4576656,
          0.4486133,
          0.4456787,
          0.4456081,
          0.4488917,
          0.4499298,
          0.4506167,
          0.4529918,
          0.4552002,
          0.4436096,
          0.444253,
          0.4527045,
          0.4597472,
          0.4655891,
          0.4695875,
          0.4647502,
          0.4596416,
          0.4581139,
          0.456741,
          0.4566263,
          0.4600412,
          0.4576056,
          0.4542505,
          0.45555,
          0.4399134,
          0.4432761,
          0.4459126,
          0.4458042,
          0.4492901,
          0.4537367,
          0.4589729,
          0.4671633,
          0.4740591,
          0.4471909,
          0.4398122,
          0.4339685,
          0.4309821,
          0.4305453,
          0.4382088,
          0.4418168,
          0.4418775,
          0.4444611,
          0.4458572,
          0.4459872,
          0.4477508,
          0.4485001,
          0.4478492,
          0.4540206,
          0.4556579,
          0.4491048,
          0.4460984,
          0.4421503,
          0.4352903,
          0.4310678,
          0.4256425,
          0.4158591,
          0.4124797,
          0.4133458,
          0.4213724,
          0.4218266,
          0.4189686,
          0.4146032,
          0.416131,
          0.4206204,
          0.4256001,
          0.4238091,
          0.4190772,
          0.4245956,
          0.4221082,
          0.4148752,
          0.4285646,
          0.4342507,
          0.4336413,
          0.4330169,
          0.4321508,
          0.4370424,
          0.4395112,
          0.4371576,
          0.435066,
          0.4328779,
          0.4304149,
          0.4207326,
          0.4094534,
          0.3983587,
          0.3974607,
          0.4009304,
          0.4082566,
          0.412269,
          0.415179,
          0.4165418,
          0.4191668,
          0.4225194,
          0.4265496,
          0.4332173,
          0.4397538,
          0.4461711,
          0.4472506,
          0.4445875,
          0.4378043,
          0.4350955,
          0.4319694,
          0.4280108,
          0.4224673,
          0.4163367,
          0.4095227,
          0.4050313,
          0.4047776,
          0.4122641,
          0.4196369,
          0.4270329,
          0.4345555,
          0.4260553,
          0.4197355,
          0.4133251,
          0.4088534,
          0.4043674,
          0.4010739,
          0.4017435,
          0.3992059,
          0.3960771,
          0.3961929,
          0.40132,
          0.4083491,
          0.4110603,
          0.4149253,
          0.4190801,
          0.418659,
          0.4173415,
          0.4153346,
          0.413411,
          0.4130663,
          0.4142025,
          0.4115461,
          0.4094963,
          0.4081709,
          0.4067197,
          0.4086684,
          0.4153225,
          0.4191375,
          0.4276037,
          0.4194983,
          0.416078,
          0.4100186,
          0.4031449,
          0.3976166,
          0.3957645,
          0.3954351,
          0.3924423,
          0.3937351,
          0.3972565,
          0.3949468,
          0.3967385,
          0.4020325,
          0.4148235,
          0.4270069,
          0.4386112,
          0.4551384,
          0.4720182,
          0.4892362,
          0.5032993,
          0.5151099,
          0.5240412,
          0.523373,
          0.523625,
          0.5274537,
          0.5223551,
          0.5215499,
          0.4973381,
          0.4975603,
          0.4947761,
          0.4896201,
          0.486826,
          0.4846402,
          0.4830529,
          0.4832609,
          0.4700707,
          0.4619771
         ]
        },
        {
         "name": "14.tsv",
         "type": "box",
         "y": []
        }
       ],
       "layout": {
        "template": {
         "data": {
          "bar": [
           {
            "error_x": {
             "color": "#2a3f5f"
            },
            "error_y": {
             "color": "#2a3f5f"
            },
            "marker": {
             "line": {
              "color": "#E5ECF6",
              "width": 0.5
             },
             "pattern": {
              "fillmode": "overlay",
              "size": 10,
              "solidity": 0.2
             }
            },
            "type": "bar"
           }
          ],
          "barpolar": [
           {
            "marker": {
             "line": {
              "color": "#E5ECF6",
              "width": 0.5
             },
             "pattern": {
              "fillmode": "overlay",
              "size": 10,
              "solidity": 0.2
             }
            },
            "type": "barpolar"
           }
          ],
          "carpet": [
           {
            "aaxis": {
             "endlinecolor": "#2a3f5f",
             "gridcolor": "white",
             "linecolor": "white",
             "minorgridcolor": "white",
             "startlinecolor": "#2a3f5f"
            },
            "baxis": {
             "endlinecolor": "#2a3f5f",
             "gridcolor": "white",
             "linecolor": "white",
             "minorgridcolor": "white",
             "startlinecolor": "#2a3f5f"
            },
            "type": "carpet"
           }
          ],
          "choropleth": [
           {
            "colorbar": {
             "outlinewidth": 0,
             "ticks": ""
            },
            "type": "choropleth"
           }
          ],
          "contour": [
           {
            "colorbar": {
             "outlinewidth": 0,
             "ticks": ""
            },
            "colorscale": [
             [
              0,
              "#0d0887"
             ],
             [
              0.1111111111111111,
              "#46039f"
             ],
             [
              0.2222222222222222,
              "#7201a8"
             ],
             [
              0.3333333333333333,
              "#9c179e"
             ],
             [
              0.4444444444444444,
              "#bd3786"
             ],
             [
              0.5555555555555556,
              "#d8576b"
             ],
             [
              0.6666666666666666,
              "#ed7953"
             ],
             [
              0.7777777777777778,
              "#fb9f3a"
             ],
             [
              0.8888888888888888,
              "#fdca26"
             ],
             [
              1,
              "#f0f921"
             ]
            ],
            "type": "contour"
           }
          ],
          "contourcarpet": [
           {
            "colorbar": {
             "outlinewidth": 0,
             "ticks": ""
            },
            "type": "contourcarpet"
           }
          ],
          "heatmap": [
           {
            "colorbar": {
             "outlinewidth": 0,
             "ticks": ""
            },
            "colorscale": [
             [
              0,
              "#0d0887"
             ],
             [
              0.1111111111111111,
              "#46039f"
             ],
             [
              0.2222222222222222,
              "#7201a8"
             ],
             [
              0.3333333333333333,
              "#9c179e"
             ],
             [
              0.4444444444444444,
              "#bd3786"
             ],
             [
              0.5555555555555556,
              "#d8576b"
             ],
             [
              0.6666666666666666,
              "#ed7953"
             ],
             [
              0.7777777777777778,
              "#fb9f3a"
             ],
             [
              0.8888888888888888,
              "#fdca26"
             ],
             [
              1,
              "#f0f921"
             ]
            ],
            "type": "heatmap"
           }
          ],
          "heatmapgl": [
           {
            "colorbar": {
             "outlinewidth": 0,
             "ticks": ""
            },
            "colorscale": [
             [
              0,
              "#0d0887"
             ],
             [
              0.1111111111111111,
              "#46039f"
             ],
             [
              0.2222222222222222,
              "#7201a8"
             ],
             [
              0.3333333333333333,
              "#9c179e"
             ],
             [
              0.4444444444444444,
              "#bd3786"
             ],
             [
              0.5555555555555556,
              "#d8576b"
             ],
             [
              0.6666666666666666,
              "#ed7953"
             ],
             [
              0.7777777777777778,
              "#fb9f3a"
             ],
             [
              0.8888888888888888,
              "#fdca26"
             ],
             [
              1,
              "#f0f921"
             ]
            ],
            "type": "heatmapgl"
           }
          ],
          "histogram": [
           {
            "marker": {
             "pattern": {
              "fillmode": "overlay",
              "size": 10,
              "solidity": 0.2
             }
            },
            "type": "histogram"
           }
          ],
          "histogram2d": [
           {
            "colorbar": {
             "outlinewidth": 0,
             "ticks": ""
            },
            "colorscale": [
             [
              0,
              "#0d0887"
             ],
             [
              0.1111111111111111,
              "#46039f"
             ],
             [
              0.2222222222222222,
              "#7201a8"
             ],
             [
              0.3333333333333333,
              "#9c179e"
             ],
             [
              0.4444444444444444,
              "#bd3786"
             ],
             [
              0.5555555555555556,
              "#d8576b"
             ],
             [
              0.6666666666666666,
              "#ed7953"
             ],
             [
              0.7777777777777778,
              "#fb9f3a"
             ],
             [
              0.8888888888888888,
              "#fdca26"
             ],
             [
              1,
              "#f0f921"
             ]
            ],
            "type": "histogram2d"
           }
          ],
          "histogram2dcontour": [
           {
            "colorbar": {
             "outlinewidth": 0,
             "ticks": ""
            },
            "colorscale": [
             [
              0,
              "#0d0887"
             ],
             [
              0.1111111111111111,
              "#46039f"
             ],
             [
              0.2222222222222222,
              "#7201a8"
             ],
             [
              0.3333333333333333,
              "#9c179e"
             ],
             [
              0.4444444444444444,
              "#bd3786"
             ],
             [
              0.5555555555555556,
              "#d8576b"
             ],
             [
              0.6666666666666666,
              "#ed7953"
             ],
             [
              0.7777777777777778,
              "#fb9f3a"
             ],
             [
              0.8888888888888888,
              "#fdca26"
             ],
             [
              1,
              "#f0f921"
             ]
            ],
            "type": "histogram2dcontour"
           }
          ],
          "mesh3d": [
           {
            "colorbar": {
             "outlinewidth": 0,
             "ticks": ""
            },
            "type": "mesh3d"
           }
          ],
          "parcoords": [
           {
            "line": {
             "colorbar": {
              "outlinewidth": 0,
              "ticks": ""
             }
            },
            "type": "parcoords"
           }
          ],
          "pie": [
           {
            "automargin": true,
            "type": "pie"
           }
          ],
          "scatter": [
           {
            "fillpattern": {
             "fillmode": "overlay",
             "size": 10,
             "solidity": 0.2
            },
            "type": "scatter"
           }
          ],
          "scatter3d": [
           {
            "line": {
             "colorbar": {
              "outlinewidth": 0,
              "ticks": ""
             }
            },
            "marker": {
             "colorbar": {
              "outlinewidth": 0,
              "ticks": ""
             }
            },
            "type": "scatter3d"
           }
          ],
          "scattercarpet": [
           {
            "marker": {
             "colorbar": {
              "outlinewidth": 0,
              "ticks": ""
             }
            },
            "type": "scattercarpet"
           }
          ],
          "scattergeo": [
           {
            "marker": {
             "colorbar": {
              "outlinewidth": 0,
              "ticks": ""
             }
            },
            "type": "scattergeo"
           }
          ],
          "scattergl": [
           {
            "marker": {
             "colorbar": {
              "outlinewidth": 0,
              "ticks": ""
             }
            },
            "type": "scattergl"
           }
          ],
          "scattermapbox": [
           {
            "marker": {
             "colorbar": {
              "outlinewidth": 0,
              "ticks": ""
             }
            },
            "type": "scattermapbox"
           }
          ],
          "scatterpolar": [
           {
            "marker": {
             "colorbar": {
              "outlinewidth": 0,
              "ticks": ""
             }
            },
            "type": "scatterpolar"
           }
          ],
          "scatterpolargl": [
           {
            "marker": {
             "colorbar": {
              "outlinewidth": 0,
              "ticks": ""
             }
            },
            "type": "scatterpolargl"
           }
          ],
          "scatterternary": [
           {
            "marker": {
             "colorbar": {
              "outlinewidth": 0,
              "ticks": ""
             }
            },
            "type": "scatterternary"
           }
          ],
          "surface": [
           {
            "colorbar": {
             "outlinewidth": 0,
             "ticks": ""
            },
            "colorscale": [
             [
              0,
              "#0d0887"
             ],
             [
              0.1111111111111111,
              "#46039f"
             ],
             [
              0.2222222222222222,
              "#7201a8"
             ],
             [
              0.3333333333333333,
              "#9c179e"
             ],
             [
              0.4444444444444444,
              "#bd3786"
             ],
             [
              0.5555555555555556,
              "#d8576b"
             ],
             [
              0.6666666666666666,
              "#ed7953"
             ],
             [
              0.7777777777777778,
              "#fb9f3a"
             ],
             [
              0.8888888888888888,
              "#fdca26"
             ],
             [
              1,
              "#f0f921"
             ]
            ],
            "type": "surface"
           }
          ],
          "table": [
           {
            "cells": {
             "fill": {
              "color": "#EBF0F8"
             },
             "line": {
              "color": "white"
             }
            },
            "header": {
             "fill": {
              "color": "#C8D4E3"
             },
             "line": {
              "color": "white"
             }
            },
            "type": "table"
           }
          ]
         },
         "layout": {
          "annotationdefaults": {
           "arrowcolor": "#2a3f5f",
           "arrowhead": 0,
           "arrowwidth": 1
          },
          "autotypenumbers": "strict",
          "coloraxis": {
           "colorbar": {
            "outlinewidth": 0,
            "ticks": ""
           }
          },
          "colorscale": {
           "diverging": [
            [
             0,
             "#8e0152"
            ],
            [
             0.1,
             "#c51b7d"
            ],
            [
             0.2,
             "#de77ae"
            ],
            [
             0.3,
             "#f1b6da"
            ],
            [
             0.4,
             "#fde0ef"
            ],
            [
             0.5,
             "#f7f7f7"
            ],
            [
             0.6,
             "#e6f5d0"
            ],
            [
             0.7,
             "#b8e186"
            ],
            [
             0.8,
             "#7fbc41"
            ],
            [
             0.9,
             "#4d9221"
            ],
            [
             1,
             "#276419"
            ]
           ],
           "sequential": [
            [
             0,
             "#0d0887"
            ],
            [
             0.1111111111111111,
             "#46039f"
            ],
            [
             0.2222222222222222,
             "#7201a8"
            ],
            [
             0.3333333333333333,
             "#9c179e"
            ],
            [
             0.4444444444444444,
             "#bd3786"
            ],
            [
             0.5555555555555556,
             "#d8576b"
            ],
            [
             0.6666666666666666,
             "#ed7953"
            ],
            [
             0.7777777777777778,
             "#fb9f3a"
            ],
            [
             0.8888888888888888,
             "#fdca26"
            ],
            [
             1,
             "#f0f921"
            ]
           ],
           "sequentialminus": [
            [
             0,
             "#0d0887"
            ],
            [
             0.1111111111111111,
             "#46039f"
            ],
            [
             0.2222222222222222,
             "#7201a8"
            ],
            [
             0.3333333333333333,
             "#9c179e"
            ],
            [
             0.4444444444444444,
             "#bd3786"
            ],
            [
             0.5555555555555556,
             "#d8576b"
            ],
            [
             0.6666666666666666,
             "#ed7953"
            ],
            [
             0.7777777777777778,
             "#fb9f3a"
            ],
            [
             0.8888888888888888,
             "#fdca26"
            ],
            [
             1,
             "#f0f921"
            ]
           ]
          },
          "colorway": [
           "#636efa",
           "#EF553B",
           "#00cc96",
           "#ab63fa",
           "#FFA15A",
           "#19d3f3",
           "#FF6692",
           "#B6E880",
           "#FF97FF",
           "#FECB52"
          ],
          "font": {
           "color": "#2a3f5f"
          },
          "geo": {
           "bgcolor": "white",
           "lakecolor": "white",
           "landcolor": "#E5ECF6",
           "showlakes": true,
           "showland": true,
           "subunitcolor": "white"
          },
          "hoverlabel": {
           "align": "left"
          },
          "hovermode": "closest",
          "mapbox": {
           "style": "light"
          },
          "paper_bgcolor": "white",
          "plot_bgcolor": "#E5ECF6",
          "polar": {
           "angularaxis": {
            "gridcolor": "white",
            "linecolor": "white",
            "ticks": ""
           },
           "bgcolor": "#E5ECF6",
           "radialaxis": {
            "gridcolor": "white",
            "linecolor": "white",
            "ticks": ""
           }
          },
          "scene": {
           "xaxis": {
            "backgroundcolor": "#E5ECF6",
            "gridcolor": "white",
            "gridwidth": 2,
            "linecolor": "white",
            "showbackground": true,
            "ticks": "",
            "zerolinecolor": "white"
           },
           "yaxis": {
            "backgroundcolor": "#E5ECF6",
            "gridcolor": "white",
            "gridwidth": 2,
            "linecolor": "white",
            "showbackground": true,
            "ticks": "",
            "zerolinecolor": "white"
           },
           "zaxis": {
            "backgroundcolor": "#E5ECF6",
            "gridcolor": "white",
            "gridwidth": 2,
            "linecolor": "white",
            "showbackground": true,
            "ticks": "",
            "zerolinecolor": "white"
           }
          },
          "shapedefaults": {
           "line": {
            "color": "#2a3f5f"
           }
          },
          "ternary": {
           "aaxis": {
            "gridcolor": "white",
            "linecolor": "white",
            "ticks": ""
           },
           "baxis": {
            "gridcolor": "white",
            "linecolor": "white",
            "ticks": ""
           },
           "bgcolor": "#E5ECF6",
           "caxis": {
            "gridcolor": "white",
            "linecolor": "white",
            "ticks": ""
           }
          },
          "title": {
           "x": 0.05
          },
          "xaxis": {
           "automargin": true,
           "gridcolor": "white",
           "linecolor": "white",
           "ticks": "",
           "title": {
            "standoff": 15
           },
           "zerolinecolor": "white",
           "zerolinewidth": 2
          },
          "yaxis": {
           "automargin": true,
           "gridcolor": "white",
           "linecolor": "white",
           "ticks": "",
           "title": {
            "standoff": 15
           },
           "zerolinecolor": "white",
           "zerolinewidth": 2
          }
         }
        },
        "title": {
         "text": "Distribution of Porosity for rows with negative hydrate saturation"
        }
       }
      },
      "text/html": [
       "<div>                            <div id=\"37e44650-947a-4992-8950-08d87e5c150a\" class=\"plotly-graph-div\" style=\"height:525px; width:100%;\"></div>            <script type=\"text/javascript\">                require([\"plotly\"], function(Plotly) {                    window.PLOTLYENV=window.PLOTLYENV || {};                                    if (document.getElementById(\"37e44650-947a-4992-8950-08d87e5c150a\")) {                    Plotly.newPlot(                        \"37e44650-947a-4992-8950-08d87e5c150a\",                        [{\"name\":\"01.tsv\",\"y\":[],\"type\":\"box\"},{\"name\":\"02.tsv\",\"y\":[0.5536843,0.5534301,0.5528017,0.5525278,0.552022,0.5513381,0.5503469,0.5504506,0.551917,0.5566273,0.5562664,0.5540938,0.5527629,0.5974269,0.5291499,0.5249183,0.5200724,0.5183129,0.5169026,0.5160007,0.4948144,0.4925921,0.4906029,0.4872679,0.4844801,0.4839433,0.4844517,0.4847039,0.4935182,0.4899217,0.4793715,0.4808151,0.4798744,0.481366,0.4822068,0.4828013,0.4916683,0.498304,0.5027787,0.506431,0.5093897,0.5115499,0.5110351,0.5110667,0.4856991,0.4879441,0.4652103,0.4671771,0.4678518,0.4728877,0.4925733,0.4949917,0.4897916,0.4830637,0.4764609,0.4708269,0.4662743,0.4640702,0.4665287,0.4712043,0.4778219,0.4770224,0.4733982,0.4729336,0.4687474,0.4635783,0.4675032,0.4726469,0.4788594,0.4882148,0.4932193,0.4945247,0.4962884,0.4955811,0.4923223,0.4992759,0.4996307,0.4912993,0.4865311,0.4840184,0.4844736,0.4880274,0.4752232,0.472486,0.4718367,0.4727296,0.4669023,0.4641674,0.4630223,0.4630528,0.4653696,0.4637473,0.4606496,0.4601267,0.460295,0.4615589,0.4689338,0.4751425,0.4803812,0.4835874,0.4847468,0.4840657,0.4807136,0.4761521,0.4702802,0.4697495,0.4736203,0.4829552,0.4901986,0.494898,0.497005,0.4902927,0.483634,0.4792433,0.4735568,0.47109,0.4706379,0.4726616,0.4771184,0.4810578,0.4837311,0.4652893,0.4651866,0.4623625,0.4602923,0.4573268,0.4519537,0.4513336,0.4512746,0.4479946,0.416853,0.4130014,0.4108709,0.4321097,0.4319975,0.4542015,0.4535412,0.4556691,0.4527132,0.4449117,0.4488114,0.4472736,0.4392905,0.4436502,0.444041,0.437754,0.4386624,0.4411959,0.4450243,0.4430308,0.4405379,0.4392701,0.4753625,0.4741732,0.4746362,0.4878152,0.4801827,0.4723342,0.4795028],\"type\":\"box\"},{\"name\":\"03.tsv\",\"y\":[],\"type\":\"box\"},{\"name\":\"04.tsv\",\"y\":[0.4197728,0.4265705,0.4398165,0.4558364,0.4713799,0.4883988,0.5068681,0.5299927,0.546965,0.5596073,0.5641975,0.5618396,0.5615227,0.5537097,0.5483818,0.54629,0.5466455,0.5473061,0.5481371,0.5481121,0.547268,0.5451534,0.5465052,0.5489254,0.5521735,0.5524738,0.553547,0.5591313,0.5213041,0.5139131,0.5068862,0.4639154,0.4682251,0.4788072,0.4934313,0.5013822,0.509117,0.5166205,0.3137834,0.306412,0.2992879,0.2934169,0.2922913,0.2957886,0.3021304,0.3118579,0.3231996,0.3337869,0.328832,0.3275031,0.3292258,0.3379238,0.3395968,0.3349676,0.3248018,0.3185899,0.3166614,0.3258349,0.3430084,0.3700284,0.3736587],\"type\":\"box\"},{\"name\":\"05.tsv\",\"y\":[0.8201169,0.811197,0.7986604,0.7887645,0.7855657,0.7833326,0.7815642,0.6188868,0.6172159,0.6139755,0.6120002,0.6066468,0.6022183,0.6163738,0.6271293,0.6353765,0.6404136,0.6396934,0.6341762,0.622619,0.6137277,0.6074185,0.6060522,0.605927,0.6071643,0.6059671,0.6051371,0.6050686,0.6007229,0.5978793,0.5986026,0.5965453,0.5951287,0.5962452,0.5943461,0.5924715,0.6038239,0.5884851,0.5712053,0.5616597,0.5600121,0.5634052,0.5640661,0.5656637,0.5679664,0.5683548,0.569051,0.5700501,0.5733104,0.5738865,0.5712053,0.5710765,0.5718963,0.5738223,0.5766442,0.5782481,0.5774775,0.5765247,0.5759014,0.5760832,0.5750352,0.5744253,0.5759594,0.5799071,0.5845973,0.5889055,0.5529058,0.5479014,0.5423648,0.5412846,0.5437889,0.5535597,0.5845044,0.5805519,0.5705761,0.5595709,0.5598426,0.5593852,0.5593402,0.5655621,0.571465,0.5771222,0.5712056,0.5669436,0.5633636,0.5604767,0.5579319,0.5583657,0.5624574,0.5627005,0.5679467,0.4309395,0.4340842,0.432531,0.4298487,0.4239841,0.4140639,0.4165441,0.4259515,0.4311854,0.4343042,0.4345925,0.4352711,0.4348969,0.4317564,0.4270031,0.4246694,0.4313424,0.4337499,0.4334058,0.4285787,0.4173458,0.4044972,0.4003468,0.3973052,0.3957112,0.4011319,0.4080947,0.4159696,0.419776,0.4259611,0.4342428,0.4351101,0.4359809,0.4368555,0.4320059,0.4293448,0.4299075,0.4287615,0.426079,0.4212095,0.4200682,0.4174372,0.4106627,0.4120013,0.4157693,0.4208998,0.4235844,0.4276657,0.4385622,0.4400222,0.4384553,0.4399026,0.4357617,0.4305135,0.4351927,0.4397074,0.4435315,0.4418015,0.4410436,0.4409213,0.4389779,0.4388859,0.4404757,0.442304,0.4402327,0.4338685,0.4287032,0.4233555,0.4176831,0.411097,0.4068406,0.4065436,0.4083775,0.4124257,0.4202078,0.4254653,0.4280634,0.4254695,0.4227129,0.4218935,0.4275115,0.4373385,0.4617206,0.4683194,0.4766478,0.4837081,0.4981239,0.5178722,0.5319303,0.5476546,0.5649169,0.5816457,0.5945921,0.6033098,0.6052067,0.606786,0.6084424,0.6071076,0.6032775,0.5958576,0.5907307,0.5859424,0.5810319,0.5832222,0.588625,0.5978373,0.6034451,0.6062794,0.5965753,0.5880259,0.5821472,0.5789629,0.5777467,0.5802152,0.5855407,0.5922619,0.5946769,0.5963681,0.5970908,0.5879943,0.5804036,0.5294239,0.5272366,0.5219569,0.512228,0.5067282,0.4760879,0.4792523,0.4830738,0.4861254,0.486643,0.4858463,0.485309,0.4845423,0.4834533,0.4803864,0.478548,0.4779515,0.4852447,0.4922034,0.498838,0.5035331,0.5058804,0.5055085,0.502395,0.4955627,0.4836906,0.4768558,0.4728837,0.4728036,0.4709585,0.4673769,0.4607646,0.4536541,0.4494969,0.4537637,0.4576443,0.4611374,0.4637274,0.4631644,0.4620956,0.465222,0.4730099,0.4822369,0.4837434,0.4817716,0.477412,0.4722145,0.4701513,0.4707851,0.4767388,0.4816743,0.485608,0.4941083,0.4997225,0.5017827,0.5094938,0.5159621,0.5200286,0.5250262,0.5280225,0.5272434,0.5213083,0.5148404,0.509428,0.5055597,0.5044016,0.5096417,0.5147762,0.5204077,0.5279781,0.5328989,0.5356766,0.5336806,0.5314451,0.5285642,0.5111429,0.4981757,0.4931107,0.4927596,0.4966041,0.524651,0.5316983,0.5294745,0.5266135,0.5232564,0.5194691,0.5192805,0.52445,0.5176877,0.5096614,0.5022919,0.497903,0.4956788,0.4969657,0.4996271,0.5031548,0.5080698,0.521283,0.5382701,0.5562789,0.5484682,0.5429627,0.5407339,0.5443859,0.5497518,0.5567402,0.5670348,0.3801594,0.3771139,0.3720945,0.3684971,0.370812,0.3715955,0.3710515,0.3675604,0.3659805,0.3658319,0.3685603,0.365771,0.3612089,0.3685394,0.3708178,0.3697935,0.3734108,0.3777089,0.3826223,0.3896717,0.3915366,0.387962,0.3895171,0.3875962,0.3810076,0.3792201,0.3755335,0.3682183,0.3662349,0.3642877,0.3608632,0.3590029,0.3562155,0.3504062,0.3434465,0.3396031,0.3462394,0.348659,0.350053,0.3537737,0.3582823,0.3620698,0.3597275,0.3563505,0.3518412,0.342857,0.3383171,0.3369663,0.3351238,0.3366337,0.3410639,0.3419543,0.3422461,0.3418997,0.3436699,0.3431573,0.3395779,0.3417208,0.3496709,0.3659098,0.3859805,0.4043853,0.4183854,0.4339033,0.4485764,0.4603706,0.4713675,0.4835485,0.5001447,0.5149075,0.5281194,0.5378929,0.5454928,0.5513771,0.5534933,0.5543864,0.554679,0.5562007,0.5576257,0.558637,0.5534068,0.5478673,0.5250326,0.5400399,0.5534866,0.5556851,0.5553582,0.5527373,0.555759,0.5595139,0.5640762,0.5663778,0.5674849,0.5671481,0.5681087,0.5686617,0.5683247,0.5659745,0.5639395,0.5632206,0.5636671,0.5641851,0.5641853,0.5652663,0.5666934,0.5681354,0.5687431,0.5686042,0.5304873,0.5271465,0.5214834,0.5126675,0.5128722,0.5139337,0.5146738,0.5145487,0.5121764,0.5054389,0.499337,0.4958068,0.4986054,0.4991561,0.4989232,0.4985472,0.4967741,0.4947362,0.494168,0.4961107,0.4995152,0.503875,0.5077025,0.510263,0.5027478,0.4938917,0.4843669,0.4851502,0.4890753,0.4959951,0.5008461,0.5037723,0.5045039,0.5045225,0.5078466,0.510727,0.5144594,0.5177451,0.5205984,0.5225741,0.5227231,0.5207443,0.5098925,0.5011151,0.4961641,0.4923423,0.4900022,0.4900022,0.4872585,0.4845333,0.4829798,0.4875927,0.492579,0.4941615,0.4991703,0.5061401,0.5079078,0.5008646,0.4985016,0.498344,0.4958051,0.4954789,0.4965757,0.497035,0.4983601,0.5002378,0.4969147,0.4948213,0.3330891,0.3369326,0.331651,0.3336409,0.3327289,0.3279992,0.3261663,0.3248076,0.3238027,0.3291458,0.3332373,0.3333703,0.3375446,0.3421367,0.3457633,0.3513384,0.3586266,0.3692958,0.3848594,0.4007436,0.4110249,0.4185794,0.425574,0.4362432,0.4466159,0.3331006,0.3372817,0.3441393,0.3536147,0.3742356,0.3902305,0.4022926,0.4349253,0.4300785,0.4238894,0.4157065,0.3715652,0.374757,0.3748847,0.3700813,0.3577819,0.3442155,0.330557,0.3264897,0.3254691,0.3264908,0.3281149,0.3291525,0.3277433,0.3227837,0.3189354,0.3256902,0.3321661,0.3397231,0.3545317,0.3687706,0.3924323,0.3953286,0.3966787,0.4034242],\"type\":\"box\"},{\"name\":\"06.tsv\",\"y\":[0.903613,0.8835402,0.8548351,0.8327247,0.8158972,0.8109872,0.8084534,0.8081245,0.8158236,0.8190975,0.818458,0.8110386,0.802554,0.7929516,0.7912915,0.792048,0.7955027,0.6509417,0.6400695,0.6367679,0.6284119,0.6236748,0.6238913,0.6238516,0.62684,0.6346436,0.6439265,0.6516294,0.6558135,0.6415655,0.6288428,0.6144386,0.5999692,0.5852741,0.5726206,0.5687018,0.5662665,0.565036,0.5665725,0.5798074,0.5999061,0.6183382,0.627318,0.6293539,0.6316476,0.5487138,0.5413268,0.5356655,0.5325297,0.5303213,0.5297216,0.5429294,0.540709,0.5424157,0.5476899,0.5458419,0.5435751,0.5408472,0.5399973,0.5425226,0.5494322,0.5518339,0.5539626,0.5564271,0.5566346,0.5604047,0.5627791,0.562108,0.5630451,0.5653092,0.5702251,0.5688088,0.5646658,0.5598085,0.5527962,0.5456762,0.5445942,0.5393205,0.5321887,0.5325059,0.5311884,0.5288706,0.5318329,0.531303,0.5275498,0.5281882,0.5276807,0.5258715,0.5268391,0.5252118,0.5198523,0.518147,0.5168887,0.5156985,0.5200965,0.5235801,0.5232013,0.5176401,0.5196137,0.5185637,0.5195819,0.5202735,0.515735,0.5097348,0.5036791,0.5020542,0.5088492,0.520799,0.5308493,0.5336631,0.530645,0.5219253,0.5142688,0.5076092,0.5059054,0.5082062,0.5150138,0.5159891,0.5193098,0.5263473,0.5346981,0.5418657,0.5467786,0.5570799,0.5557481,0.5522358,0.5506499,0.5490357,0.5474017,0.5457361,0.5437671,0.5415198,0.5383701,0.5340825,0.5290955,0.5293292,0.5593677,0.5602731,0.5589533,0.555217,0.5529059,0.5512556,0.5504442,0.5514352,0.5540068,0.5592291,0.5623991,0.5642443,0.5584564,0.5473529,0.5414541,0.5386412,0.537926,0.5387024,0.5407655,0.5463814,0.552107,0.5577803,0.5592192,0.5587353,0.5563893,0.5516882,0.546232,0.5399345,0.5386271,0.5370886,0.5347332,0.5339745,0.5326983,0.5301658,0.5346043,0.538504,0.5383635,0.5329945,0.5270069,0.5230802,0.5227211,0.5238212,0.5257427,0.5278503,0.5297327,0.5301393,0.5279721,0.5256881,0.5324559,0.5328355,0.5280973,0.5129149,0.5071191,0.5087681,0.504397,0.504767,0.5098027,0.511445,0.5178539,0.5300316,0.5322132,0.5326473,0.5316039,0.526737,0.5251167,0.5301602,0.5323446,0.5334522,0.5334221,0.53416,0.5338663,0.5301208,0.5291935,0.5290459,0.5281345,0.5296957,0.5321587,0.5336371,0.5329462,0.5296125,0.5156912,0.513288,0.5183691,0.5192819,0.5216681,0.5252907,0.5297629,0.5345391,0.5396194,0.5485789,0.5506346,0.5442048,0.5460156,0.5471472,0.5463334,0.5460031,0.5439512,0.5386657,0.5271242,0.5210133,0.5299419,0.5311753,0.5294732,0.5254505,0.5270802,0.527406,0.515349,0.5147167,0.5184124,0.51776,0.5189517,0.52125,0.5195134,0.5189446,0.4738023,0.4679867,0.4639476,0.4587512,0.4530905,0.4475148,0.4479425,0.4525965,0.4601999,0.4595607,0.466423,0.4726041,0.4821093,0.4997106,0.506487,0.5107158,0.5011325,0.4950541,0.4898137,0.4912165,0.4931703,0.4955026,0.4897246,0.4899342,0.4964257,0.50158,0.506584,0.5114601,0.5143663,0.5191739,0.5272108,0.5324359,0.5356374,0.5357955,0.5326815,0.5286911,0.5295627,0.5288339,0.5285066,0.5346987,0.5421802,0.5492406,0.5460928,0.5473614,0.5517598,0.5550083,0.5590174,0.5983055,0.6273649,0.6383309,0.6461368,0.6467567,0.6418716,0.6353987,0.6196312,0.6079988,0.6023588,0.5967495,0.5911778,0.5880969,0.5905144,0.5988883,0.5903836,0.5856903,0.5870295,0.5923681,0.595827,0.5956203,0.5930755,0.5910573,0.5908319,0.5888785,0.5884161,0.592629,0.5952104,0.5960211,0.5612995,0.5598829,0.5572116,0.5543321,0.5410728,0.5392584,0.5365736,0.5321298,0.5249668,0.5229685,0.5119398,0.5113465,0.5122502,0.5126625,0.5149435,0.5141704,0.515705,0.5293557,0.5357063,0.5377448,0.5418304,0.5490181,0.5435605,0.534142,0.5204815,0.5123071,0.508669,0.5123724,0.5164747,0.5221419,0.521429,0.5127302,0.5023794,0.4931781,0.4862364,0.4844678,0.4865101,0.490602,0.4973787,0.5027093,0.507628,0.5134393,0.5188851,0.5239367,0.5276562,0.5317917,0.5352741,0.5287091,0.5174029,0.5025002,0.4910374,0.4828659,0.4778312,0.4784791,0.4796833,0.4814504,0.4812095,0.4802159,0.4783457,0.4791753,0.4794939,0.4783735,0.4704944,0.4633415,0.4603867,0.4588739,0.4585969,0.4606385,0.4611738,0.4619029,0.4650609,0.4607337,0.4556764,0.4564973,0.4595602,0.4565231,0.4523414,0.4478219,0.4480463,0.4426473,0.4329237,0.4282182,0.4264092,0.4274054,0.4291664,0.4284288,0.4247434,0.4238605,0.4227001,0.42087,0.4214018,0.4251111,0.4338519,0.4401929,0.4438922,0.4428629,0.4405012,0.4372529,0.4325385,0.4320252,0.4326664,0.4322761,0.4343918,0.4375956,0.4407688,0.4401674,0.438517,0.443941,0.4463489,0.4464552,0.4430233,0.4375375,0.4303131,0.4206,0.4111467,0.4019492,0.3949509,0.3878163,0.3804657,0.3828898,0.3875635,0.3944665,0.4104065,0.4256763,0.4376466,0.4432937,0.446172,0.4456803,0.4440037,0.4413567,0.4368932,0.4396161,0.4463305,0.435529,0.4331424,0.4292998,0.427779,0.4248657,0.4201948,0.4137568,0.4067447,0.3464266,0.3424676,0.3389561,0.3388138,0.3399317,0.3396847,0.3423579,0.346308,0.3474708,0.3483594,0.3489583,0.3481754,0.3522294,0.3604004,0.3716335,0.3804348,0.3867651,0.4377126,0.4295793,0.4266689,0.4272302,0.425041,0.4170178,0.4041749,0.4005725,0.4012121,0.4062316,0.4129847,0.4167,0.4165393,0.4176488,0.4186939,0.4194722,0.41901,0.4191041,0.4120954,0.4064505,0.401338,0.3957677,0.3897594,0.3840254,0.3800001,0.3783487,0.3780721,0.3791903,0.3805083,0.3813576,0.3773749,0.3723177,0.3668109,0.3662545,0.37072,0.3794523,0.381547,0.3841056,0.3871507,0.3926795,0.3972404,0.3911808,0.3870852,0.3808541,0.3756885,0.3725037,0.3734738,0.379631,0.387338,0.3950989,0.3981387,0.3987504,0.3968489,0.4017158,0.4104796,0.4228853,0.4397832,0.4585413,0.4704013,0.479029,0.4853877,0.4929528,0.5012345,0.5101479,0.5192351,0.5256183,0.5291185,0.5336316,0.5076103,0.5052494,0.5036473,0.5039517,0.5036466,0.5032305,0.3970042,0.3955329,0.3921885,0.3905709,0.3921644,0.392737,0.3944502,0.3880846,0.3835816,0.4223632,0.4156517,0.4096426,0.4151558,0.4179324,0.4187516,0.4247327,0.4265541,0.4244107,0.4331562,0.4356006,0.4306135,0.4305933,0.4285703,0.4232907,0.4252944,0.4264036,0.4244621,0.4247344,0.4243193,0.4215739,0.4279473,0.4365304,0.444773,0.4516875,0.4555467,0.4503718,0.4502992,0.452296,0.4537438,0.4542044,0.4529935,0.4439859,0.433343,0.4214037,0.4068863,0.4006058,0.4008761,0.4003347,0.3986318,0.3958041,0.3936796,0.3908113,0.3870563,0.3894085,0.392317,0.3954234,0.3910286,0.3872856,0.3863344,0.3879707,0.3892455,0.3886706,0.3925413,0.3966904,0.398411,0.3988686,0.3454025,0.343954,0.3396036,0.3323514,0.3306667,0.328921,0.3269354,0.3221031,0.3182715,0.3162421,0.3204985,0.3242629,0.3255866,0.3303286,0.3344379,0.3355749,0.3409244,0.3473001,0.3532936,0.3565491,0.3577765,0.3551162,0.3570996,0.3600984,0.3575385,0.3583873,0.3618763,0.3708735,0.3759882,0.3786358,0.3841433,0.3852693,0.3814224,0.3776501,0.3713908,0.365192,0.3590539,0.3529884,0.3531816,0.3506391,0.3432209,0.3383689,0.334195,0.3306009,0.3295905,0.3295757,0.3306114,0.3380981,0.3462518,0.3510557,0.3572093,0.3623571,0.3617938,0.3627669,0.3635244,0.3594239,0.3553597,0.3515729,0.3498202,0.3479498,0.3461147,0.3460029,0.3474428,0.3501966,0.3524647,0.35398,0.354718,0.3540505,0.3544424,0.356219,0.3484313,0.348128,0.348584,0.3373281,0.3306381,0.3267544,0.32409,0.3216048,0.3193827,0.3192798,0.3174326,0.3140757,0.3107545,0.3102833,0.3128024,0.3171012,0.3202056,0.3217051,0.3220948,0.3224513,0.3229139,0.326531,0.3301977,0.3330443,0.3385782,0.3421935,0.3434933,0.3437368,0.3432851,0.3427508,0.3414344,0.3359754,0.3319916,0.3289752,0.3267647,0.3268012,0.3280554,0.3224064,0.3204948,0.32185,0.3205747,0.3197214,0.319318,0.320094,0.3210044,0.3220249,0.3258265,0.3289494,0.3305784,0.3292721,0.3268425,0.3231297,0.3186201,0.3165284,0.3207349,0.3211381,0.3203309,0.3193331,0.3198036,0.3220518,0.3292502,0.3351917,0.3388995,0.3332807,0.3290995,0.3258289,0.3229556,0.3233699,0.3257851,0.3205612,0.3163118,0.3129587,0.3158507,0.3170208,0.3163254,0.3149704,0.3143423,0.3147101,0.3186808,0.3231444,0.3278129,0.3342608,0.3370574,0.3320659,0.3323485,0.333487,0.3337228,0.3324843,0.3311217,0.330808,0.3298334,0.3281555,0.3246217,0.3245803,0.3260503,0.326186,0.3254397,0.3240624,0.3218344,0.3190666,0.3161033,0.3172746,0.3203387,0.3251223,0.3276552,0.331753,0.3375737,0.3388835,0.3399646,0.3410441,0.3407651,0.3408008,0.3415854,0.3396793,0.3389291,0.3414154,0.3407734,0.338707,0.3349241,0.3286572,0.3218666,0.3159205,0.3149872,0.3168295,0.3219018,0.3265176,0.3304619,0.3317015,0.3323413,0.3329193,0.3365782,0.3398665,0.3427072,0.34195,0.3390462,0.3341611,0.3320249,0.3267578,0.3179763,0.3179384,0.316532,0.3126149,0.3137235,0.3148241,0.3149844,0.316526,0.3171242,0.315298,0.3118476,0.3090907,0.309135,0.3110389,0.3125291,0.3106633,0.3102757,0.3103606,0.3098364,0.3115242,0.313946,0.3137919,0.3172887,0.3226572,0.3234349,0.3230973,0.3217361,0.3164976,0.313428,0.312393,0.3142968,0.3172218,0.3212805,0.3295956,0.3401765,0.3561665,0.3574014,0.3575002,0.353595,0.3550444,0.357511,0.3543555,0.3658968,0.4726036,0.470499,0.472861,0.4608744,0.4588894,0.4572465,0.4575783,0.4587609,0.4609948,0.4620861,0.46238,0.4399587,0.4364484,0.4373924,0.4557468,0.451092,0.4407103,0.4360008,0.4281645,0.4163682,0.4135236,0.4130777,0.4151459,0.4157306,0.4206399,0.4337381,0.4386136,0.4430553,0.4502526,0.4588203,0.4669765,0.4728871,0.4670193,0.4579844,0.4528813,0.457621,0.465959,0.4698868,0.4723448,0.4730457,0.4666567,0.4634836,0.4632843,0.4734644,0.4767389,0.4742356,0.4722447,0.4680588],\"type\":\"box\"},{\"name\":\"07.tsv\",\"y\":[],\"type\":\"box\"},{\"name\":\"08.tsv\",\"y\":[0.5924,0.5916,0.5957,0.5949,0.6058,0.6103,0.6156,0.6197,0.627,0.6322,0.6361,0.6181,0.5902,0.5661,0.5463,0.5471,0.5449,0.5535,0.569,0.591,0.5921,0.5995,0.6,0.5993,0.6025,0.6016,0.6071,0.6058,0.6056,0.6067,0.6015,0.6002,0.5908,0.5783,0.5688,0.5561,0.5376,0.5266,0.5307,0.5342,0.5372,0.552,0.5734,0.595,0.6077,0.613,0.5999,0.5916,0.5858,0.5742,0.5687,0.5547,0.5502,0.5398,0.5373,0.5447,0.5593,0.5638,0.5545,0.5509,0.5432,0.5432,0.5376,0.5333,0.5287,0.5305,0.5365,0.5372,0.5391,0.5434,0.4997,0.4953,0.4868,0.4823,0.488,0.495,0.4967,0.4863,0.4879,0.4861,0.4754,0.4855,0.471,0.4626,0.4485,0.4382,0.436,0.427,0.4301,0.4179,0.4238,0.4033,0.4088,0.4143,0.443,0.5692,0.5792,0.5843,0.5887,0.5907,0.5838,0.5787,0.5763,0.5775,0.5896,0.5923,0.5914,0.5839,0.4946,0.4897,0.4909,0.4874,0.4872,0.488,0.4823,0.4887,0.497,0.4977,0.4983,0.501,0.4968,0.5035,0.5098,0.5142,0.5254,0.5306,0.5296,0.5213,0.5162,0.5094,0.5075,0.5092,0.5109,0.5021,0.5051,0.5112,0.509,0.5076,0.5043,0.5037,0.4995,0.498,0.4796,0.4725,0.4729,0.4763,0.4797,0.4865,0.4951,0.5029,0.5033,0.5073,0.5094,0.5205,0.5251,0.5229,0.5143,0.51,0.5127,0.5156,0.506,0.5053,0.5006,0.4952,0.4958,0.5001,0.5027,0.4994,0.4881,0.4836,0.4842,0.4945,0.4993,0.5017,0.5086,0.5096,0.5155,0.5072,0.5,0.4989,0.4985,0.4991,0.502,0.4986,0.5062,0.5113,0.5141,0.5105,0.5092,0.5106,0.5095,0.5053,0.5035,0.5022,0.5139,0.5104,0.5221,0.5255,0.5359,0.5756,0.5883,0.5945,0.5953,0.5982,0.5981,0.5923,0.5993,0.5932,0.5878,0.5571,0.555,0.5552,0.5559,0.5556,0.5499,0.5473,0.5341,0.5315,0.5348,0.526,0.521,0.5098,0.5031,0.4977,0.5027,0.5103,0.4834,0.5082,0.4722,0.4818,0.4912,0.4891,0.4972,0.5427,0.5489,0.5484,0.5416,0.531,0.5262,0.5098,0.4964,0.4896,0.4913,0.5067,0.5168,0.5164,0.5224,0.5232,0.5139,0.5148,0.517,0.5166,0.5103,0.5123,0.508,0.5111,0.5122,0.5108,0.5123,0.5116,0.5063,0.508,0.5244,0.5288,0.5363,0.5374,0.5405,0.5411,0.54,0.537,0.5358,0.5388,0.5405,0.5457,0.545,0.5485,0.5637,0.5731,0.5794,0.5762,0.5734,0.5631,0.5495,0.53,0.5144,0.5034,0.5058,0.5096,0.5019,0.5047,0.4942,0.5004,0.5,0.4932,0.4776,0.4715,0.4796,0.4864,0.483,0.4775,0.4698,0.4771,0.4798,0.486,0.4819,0.4829,0.4869,0.4829,0.4729,0.4665,0.4722,0.4845,0.4872,0.4948,0.4948,0.4929,0.4861,0.4908,0.4838,0.4868,0.4886,0.4998,0.4942,0.427,0.4173,0.4255,0.4064,0.4364,0.4627,0.5086,0.5116,0.5099,0.4992,0.498,0.4959,0.4891,0.4799,0.4308,0.4328,0.4285,0.4196,0.4036,0.3967,0.4045,0.4076,0.4006,0.3975,0.3985,0.398,0.4062,0.4169,0.4192,0.4247,0.4199,0.4191,0.4189,0.4144,0.4058,0.4147,0.442,0.4444,0.459,0.4887,0.5029,0.5082,0.5073,0.5037,0.4846,0.496,0.496,0.4933,0.4838,0.4893,0.4922,0.4885,0.4861,0.4905,0.4818,0.4757,0.4736,0.4744,0.4735,0.4734,0.4729,0.4804,0.4788,0.4742,0.466,0.4708,0.4774,0.4899,0.4977,0.5006,0.5052,0.5099,0.5091,0.4776,0.4816,0.4754,0.4794,0.4719,0.4629,0.4532,0.4538,0.4592,0.4593,0.4503,0.449,0.4461,0.4593,0.456,0.4587,0.449,0.4582,0.4507,0.4484,0.4496,0.4528,0.4406,0.4414,0.4414,0.4418,0.43,0.4437,0.4504,0.4441,0.4415,0.4366,0.4305,0.4329,0.4359,0.432,0.426,0.4242,0.4254,0.4271,0.4334,0.4294,0.4364,0.4309,0.4343,0.4295,0.4348,0.4401,0.4476,0.4495,0.4561,0.4486,0.4341,0.4444,0.4399,0.4267,0.4236,0.4154,0.4148,0.4173,0.4174,0.4223,0.4236,0.4226,0.421,0.4336,0.4355,0.446,0.4424,0.4477,0.4408,0.443,0.4368,0.4392,0.4451,0.4347,0.4342,0.438,0.4395,0.4326,0.4243,0.4268,0.427,0.4263,0.4177,0.4362,0.4266,0.4266,0.428,0.4235,0.4204,0.4203,0.4192,0.4259,0.4267,0.4214,0.4092,0.4022,0.4095,0.4062,0.3946,0.3837,0.3866,0.369,0.3725,0.3786,0.3784,0.381,0.3865,0.3881,0.3784,0.3745,0.3692,0.3669,0.3711,0.3895,0.3897,0.391,0.3869,0.3803,0.3679,0.3684,0.3712,0.3713,0.3737,0.3807,0.3841,0.3907,0.3943,0.4087,0.4254,0.4478,0.4631,0.4771,0.4842,0.4822,0.4955,0.5038,0.5132,0.5122,0.5074,0.4991,0.4931,0.4808,0.4679,0.4732,0.477,0.4943,0.4883,0.477,0.4803,0.4662,0.4604,0.4577,0.4504,0.4437,0.4302,0.4326,0.4389,0.4576,0.4615,0.4802,0.4848,0.4899,0.4904,0.4983,0.4855,0.4704,0.457,0.4608,0.4752,0.4771,0.4738,0.4723,0.4589,0.4523,0.4466,0.4447,0.452,0.4571,0.4529,0.458,0.4576,0.4546,0.4532,0.4478,0.4559,0.4646,0.4722,0.4856,0.4861,0.4884,0.4881,0.489,0.4856,0.4854,0.4854,0.4933,0.5,0.4958,0.493,0.4922,0.5019,0.4888,0.4704,0.4613,0.4611,0.4656,0.4635,0.4617,0.4693,0.4774,0.4788,0.4759,0.4723,0.4714,0.4654,0.4547,0.4465,0.437,0.4328,0.4298,0.4341,0.4361,0.4376,0.4704,0.4451,0.4432,0.4379,0.4346,0.4253,0.43,0.4339,0.4391,0.4504,0.4617,0.4728,0.46,0.4515,0.4425,0.4351,0.4313,0.4361,0.436,0.4334,0.4329,0.4241,0.438,0.4183,0.4214,0.4137,0.4159,0.4216,0.4229,0.4231,0.4289,0.4318,0.4431,0.4539,0.4411,0.4305,0.439,0.428,0.4127,0.4208,0.4317,0.4276,0.4215,0.4502,0.4376,0.4541,0.5,0.4979,0.4975,0.4957,0.4964,0.4951,0.4981,0.5005,0.5055,0.5115,0.5095,0.5194,0.5246,0.5249,0.5222,0.5212,0.5196,0.5142,0.512,0.5072,0.5135,0.5141,0.5165,0.5195,0.5157,0.5134,0.5069,0.509,0.5038,0.497,0.4915,0.4879,0.4759,0.4732,0.4722,0.4728,0.4774,0.4844,0.5095,0.5123,0.5071,0.4852,0.4762,0.4589,0.4541,0.4504],\"type\":\"box\"},{\"name\":\"09.tsv\",\"y\":[],\"type\":\"box\"},{\"name\":\"10.tsv\",\"y\":[],\"type\":\"box\"},{\"name\":\"11.tsv\",\"y\":[0.5028737,0.5040966,0.5069557,0.5116616,0.5166966,0.5253208,0.5168918,0.506869,0.5047256,0.5035058,0.4243165,0.4281321,0.430971,0.4314881,0.4329671,0.4353222,0.4392256,0.4450897,0.4524566,0.4625838,0.4670298,0.4694018,0.4717966,0.476342,0.4818996,0.5005374,0.4989263,0.4968712,0.4943579,0.5001495,0.5052289,0.5090725,0.5100554,0.5090238,0.5052994,0.5046473,0.5052347,0.5072996,0.5088711,0.508165,0.5023906,0.5002221,0.4990749,0.49787,0.5021244,0.5068007,0.5051644,0.5063653,0.5077909,0.5032099,0.5003714,0.4984767,0.4959962,0.4966502,0.4994561,0.5009935,0.5035716,0.5070161,0.5076107,0.5088041,0.5106257,0.5146711,0.5190364,0.5237029,0.5210708,0.5080487,0.5041472,0.5011508,0.4998074,0.5014202,0.5043133,0.50782,0.5116157,0.5152915,0.5175245,0.5236564,0.5319245,0.566578,0.5588106,0.5585226,0.5662087,0.571371,0.5780852,0.586943,0.5912157,0.5954358,0.5889272,0.5796666,0.5748656,0.5748624,0.574389,0.5734063,0.5791928,0.5838782,0.5867062,0.5892653,0.5710374,0.56436,0.5638361,0.5604681,0.5574434,0.5582882,0.5540671,0.5474004,0.5448925,0.5381969,0.5297097,0.5285213,0.5239881,0.5173157,0.5178576,0.5172716,0.5156611,0.5130379,0.5111237,0.5099899,0.5135411,0.5174999,0.5216879,0.5212465,0.5200087,0.5182737,0.5143738,0.5103652,0.5068704,0.5018943,0.4978175,0.4968952,0.4950979,0.4925516,0.488475,0.4881835,0.4891299,0.488811,0.4909748,0.4938028,0.4929947,0.4889122,0.4835925,0.4862069,0.4830876,0.4759505,0.4762642,0.4732742,0.4672345,0.4700255,0.4745428,0.4809512,0.4873626,0.4930245,0.4974019,0.4896021,0.4832201,0.4771538,0.4712298,0.4706009,0.4703116,0.4675764,0.4669252,0.4641114,0.4519117,0.4499348,0.4524945,0.4564744,0.4554565,0.4516877,0.4467989,0.4457048,0.4476977,0.4567517,0.4600506,0.4591081,0.4631439,0.4651755,0.465327,0.4680546,0.4661713,0.4590229,0.4587136,0.4590846,0.4598349,0.4593256,0.4597548,0.4620151,0.4653358,0.4641111,0.4530059,0.4554389,0.4638908,0.4617819,0.4600765,0.4603494,0.4499013,0.4476103,0.4439388,0.4394559,0.4339577,0.4284843,0.4271219,0.4328147,0.4413032,0.4470495,0.4458707,0.4477822,0.4487786,0.4452065,0.442103,0.4392852,0.4369096,0.4360171,0.4350675,0.4308743,0.4318272,0.4355581,0.4395018,0.4387767,0.4353859,0.4365396,0.4362662,0.4348755,0.4341646,0.4331243,0.4317647,0.4369646,0.4416311,0.4455463,0.4415949,0.4370581,0.4324533,0.4273023,0.4238637,0.4235376,0.4263433,0.4295705,0.4324192,0.4399593,0.4478271,0.4532246,0.4615404,0.4708336,0.4800327,0.4844442,0.499659,0.4967552,0.4993156,0.4974436,0.5028557,0.5087577,0.5032549,0.5044753,0.5062342,0.5028847,0.4996859,0.4966221,0.4939926,0.4900911,0.4849177,0.4803965,0.4782211,0.4788704,0.4799875,0.480703,0.4807725,0.4881704,0.4928443,0.490783,0.492253,0.4870875,0.4749268,0.4684053,0.464688,0.4622288,0.4599398,0.4584804,0.462613,0.4659375,0.4682054,0.4636265,0.4660346,0.4741876,0.4490962,0.4424277,0.4376643,0.4343435,0.4336534,0.4314061,0.3696274,0.3608455,0.3541762,0.3493991,0.3503145,0.3529829,0.3574615,0.3689579,0.3777407,0.3828348,0.3880397,0.3930825,0.3978634,0.4001732,0.4011336,0.4002452,0.3972281,0.3940302,0.3914709,0.3858776,0.3826631,0.3840512,0.3870069,0.3893696,0.3932048,0.3969232,0.3962606,0.3948909,0.3934585,0.3949082,0.3967243,0.3986747,0.3986397,0.398345,0.3978631,0.4004697,0.4059558,0.4144628,0.4234009,0.5094989,0.5132558,0.5140836,0.510748,0.5101591,0.5119416,0.5196112,0.5250604,0.5294497,0.5360373,0.431782,0.4310688,0.4281521,0.4301392,0.4364659,0.4317588,0.4303089,0.4323876,0.437052,0.4320225,0.4339305,0.4289428,0.4210044,0.4163741,0.4112944,0.4058538,0.3996165,0.3925344,0.385277,0.3881661,0.3886414,0.3868884,0.3920743,0.3967934,0.4009593,0.409078,0.4270584,0.4310434,0.4347006,0.4363081,0.4347414,0.4333559,0.4344265,0.432475,0.4312166,0.4354813,0.3982443,0.397743,0.3969404,0.3960306,0.3981337,0.3991418,0.3991228,0.3923598,0.3946657,0.396285,0.3966444,0.4062861,0.4087835,0.4113002,0.4102515,0.4114248,0.4132041,0.4134875,0.4129345,0.410928,0.4022468,0.396268,0.3917428,0.3840705,0.376904,0.3701839,0.3647727,0.3617308,0.360947,0.3597507,0.3589078,0.3584787,0.3586929,0.3559273,0.3489207,0.3437178,0.3409455,0.3419724,0.3433945,0.3446478,0.3453872,0.3476759,0.3492965,0.3480665,0.3441096,0.3395907,0.3363073,0.3360054,0.3368012,0.3367542,0.3377131,0.339213,0.340741,0.3420083,0.3428319,0.3405198,0.3381064,0.3357225,0.3366819,0.3392303,0.3433176,0.3435225,0.342535,0.3402219,0.3381748,0.3386146,0.3425774,0.3437052,0.3451575,0.3478015,0.3465176,0.3447168,0.3434168,0.3436039,0.3439017,0.3434351,0.3443621,0.346047,0.348719,0.3478284,0.345484,0.343632,0.341493,0.3396339,0.3408518,0.3425542,0.3418459,0.3411433,0.3420482,0.3448707,0.3477063,0.3530771,0.3621248,0.3635294,0.3663736,0.3735596,0.3779737,0.3824181,0.3935425,0.3868105,0.3776883,0.371903,0.3693634,0.3706593,0.3681578,0.3636471,0.356607,0.3511922,0.3486993,0.3510912,0.3532428,0.3543574,0.3532511,0.3534152,0.3535917,0.3528071,0.3555219,0.358452,0.3575171,0.3525205,0.3463924,0.3438856,0.3438749,0.3461527,0.3303198,0.3270646,0.3250194,0.3189279,0.318788,0.3235596,0.318588,0.3171696,0.3194202,0.3206494,0.3245112,0.331712,0.3371083,0.3399695,0.3392035,0.3398172,0.3377233,0.3301769,0.3362896,0.3432158,0.3452334,0.3479075,0.3500045,0.3498257,0.3539012,0.3584142,0.3584316,0.361324,0.365272,0.3676121,0.3700475,0.3721728,0.3712794,0.3723929,0.374811,0.3811499,0.3769621,0.3725569,0.3687333,0.3656601,0.3570505,0.3478435,0.3384973,0.3401463,0.3420371,0.3412002,0.3402984,0.339433,0.3386879,0.3358661,0.334219,0.3379934,0.3409419,0.3444014,0.3511645,0.353301,0.3536088,0.3560847,0.3551082,0.3523547,0.3519103,0.3494056,0.3454682,0.3425304,0.34315,0.346902,0.3276001,0.3206508,0.3133672,0.3062663,0.295775,0.287792,0.2877444,0.2887625,0.2904958,0.2934476,0.2938882,0.2935502,0.2940244,0.2951885,0.2983252,0.3108798,0.3159128,0.3168596,0.3218193,0.3203575,0.3142642,0.309913,0.3051247,0.2999757,0.3022682,0.3025684,0.3007103,0.3038551,0.3061521,0.3070319,0.3094746,0.3127389,0.3183647,0.3140778,0.3098129,0.3058536,0.303646,0.3008831,0.2980112,0.2973182,0.2985536,0.3007811,0.2940673,0.2947229,0.302073,0.2972332,0.2951847,0.2962091,0.2959736,0.295404,0.2944727,0.2964819,0.2984037,0.2996733,0.29924,0.2993907,0.3012929,0.3040963,0.3056282,0.3034143,0.2967128,0.2909953,0.2930512,0.2931465,0.2926712,0.2931564,0.2936405,0.2951845,0.3032419,0.3132176,0.3235608,0.3257294,0.3342016,0.3473769,0.4005902,0.4030462,0.4390261,0.4393319,0.4384353,0.4366712,0.4321777,0.4285373,0.4308335,0.4318252,0.4319971,0.4309334,0.4264598,0.4173086,0.4194173,0.4213859,0.4232211,0.4238625,0.4265879,0.4317376,0.4344815,0.4362288],\"type\":\"box\"},{\"name\":\"12.tsv\",\"y\":[],\"type\":\"box\"},{\"name\":\"13.tsv\",\"y\":[0.8861588,0.8833046,0.8795843,0.8737453,0.8646959,0.8512529,0.8376781,0.8251901,0.8098986,0.7947324,0.7814033,0.75779,0.7333929,0.7161934,0.7054352,0.6970033,0.6878383,0.6794315,0.6718858,0.6671662,0.664952,0.6646858,0.6683644,0.6820648,0.7025125,0.7114759,0.722611,0.7356949,0.7506138,0.7688463,0.7906685,0.592145,0.5855553,0.5848121,0.5860353,0.5872468,0.5849062,0.5818713,0.5827138,0.5841357,0.5863397,0.5917654,0.5963643,0.5999046,0.5975047,0.5976726,0.5997224,0.596665,0.5922775,0.5866017,0.5785821,0.5712776,0.5648575,0.5692772,0.5760545,0.5851384,0.5875899,0.5912001,0.5982965,0.6038667,0.6102951,0.6192104,0.6192702,0.6167108,0.6133499,0.611736,0.6116778,0.6150037,0.6120893,0.6076191,0.6087807,0.6078893,0.6061252,0.6060735,0.6058555,0.6058573,0.60988,0.6092512,0.6048191,0.5994089,0.5969772,0.5974768,0.5947363,0.5942032,0.5963823,0.5976561,0.5982632,0.5979989,0.6037171,0.6116595,0.6221606,0.6277902,0.6313561,0.6324787,0.6318544,0.6303009,0.6274675,0.6281702,0.6288289,0.6230291,0.6240702,0.6252116,0.6264169,0.6268614,0.6277531,0.6290922,0.6314998,0.6333944,0.6346353,0.6380126,0.6405556,0.6416229,0.6441737,0.6484666,0.6555448,0.6597052,0.6668928,0.6822053,0.692237,0.6976445,0.6940315,0.6789277,0.6635531,0.6624924,0.6629106,0.6643651,0.6676838,0.6705061,0.6723939,0.6692873,0.6642343,0.6578122,0.651011,0.6422184,0.6320298,0.6352302,0.6362261,0.634982,0.6346855,0.6313865,0.6243545,0.6192512,0.6147655,0.6109681,0.6150558,0.6192008,0.6213965,0.6240061,0.6247707,0.6211143,0.6202352,0.6190404,0.6146514,0.6058623,0.5961128,0.5888406,0.5852517,0.583366,0.5814887,0.5834463,0.5872274,0.5880641,0.5899681,0.5923125,0.5901577,0.591333,0.5954124,0.6036522,0.6095597,0.6130589,0.6151175,0.6173809,0.6199604,0.6201741,0.6187532,0.615153,0.5512695,0.535355,0.5238136,0.5151352,0.5082446,0.5023534,0.5049024,0.5127261,0.5089967,0.508366,0.5104241,0.512998,0.5137482,0.512585,0.5172529,0.5206764,0.5222393,0.5183684,0.5133645,0.507376,0.5013062,0.4949681,0.4881419,0.4841561,0.4812517,0.4794363,0.4836676,0.4912259,0.5034577,0.5152829,0.5261112,0.5335718,0.5450376,0.5574728,0.5646071,0.5731683,0.5817364,0.5830836,0.5849043,0.5871596,0.590956,0.5961571,0.602549,0.6033668,0.6014335,0.5965672,0.5960403,0.5942003,0.5904276,0.589491,0.5882174,0.5859808,0.5848556,0.5865033,0.5931939,0.5967723,0.5997419,0.6029369,0.6030493,0.6022756,0.6016414,0.6017092,0.6013292,0.5979919,0.5915712,0.5844579,0.5820215,0.5820339,0.5840615,0.5909444,0.5874487,0.5765064,0.5690891,0.5630645,0.5582884,0.5544305,0.5530589,0.5543807,0.5534899,0.5565937,0.5650839,0.5732269,0.5819219,0.5915591,0.5982594,0.6051759,0.6134642,0.623949,0.634584,0.6700411,0.6732373,0.6728864,0.6681921,0.6652855,0.6624831,0.6550182,0.6496119,0.645135,0.6375302,0.6305691,0.6243121,0.6224672,0.6237901,0.6279907,0.6294817,0.6317554,0.6348904,0.6320131,0.6300328,0.6296563,0.6250936,0.6220033,0.6220403,0.6192684,0.6171495,0.6172952,0.6197582,0.6218742,0.6217274,0.6196966,0.6163718,0.6087555,0.6085632,0.6084533,0.6083491,0.6081763,0.6079898,0.6078346,0.6078435,0.6068132,0.6056319,0.6068924,0.607614,0.6080778,0.6094103,0.6102322,0.6109438,0.6184772,0.6228641,0.6242996,0.6257332,0.6271884,0.6286682,0.6301671,0.6309153,0.6306254,0.630702,0.6308563,0.63107,0.6312562,0.6314448,0.6316488,0.6318746,0.6320475,0.6320672,0.6321013,0.6321313,0.6321315,0.6321181,0.6323979,0.6340387,0.6347718,0.6350065,0.6350955,0.6366614,0.6390505,0.640033,0.6392844,0.6372904,0.638369,0.6397224,0.6413379,0.6420723,0.6412374,0.6386019,0.6323714,0.6282728,0.6274891,0.6269898,0.6263553,0.6254293,0.6245379,0.6239361,0.6239358,0.6239675,0.6239966,0.6239964,0.6248038,0.6258806,0.6269481,0.6284955,0.6297502,0.6286711,0.608264,0.5910196,0.5794637,0.5507122,0.5487425,0.5530282,0.5594718,0.5304884,0.5268909,0.5240366,0.5246425,0.5189242,0.5123001,0.5145044,0.5195214,0.511711,0.5071489,0.5052967,0.5028186,0.5004305,0.4981339,0.5021784,0.5052469,0.506888,0.5093489,0.5099868,0.5077891,0.5055246,0.5034006,0.501553,0.4996558,0.5000027,0.5055108,0.5075793,0.5087017,0.5098939,0.5107239,0.5117253,0.5138835,0.5178828,0.5238079,0.5591111,0.5550137,0.552384,0.551609,0.5520788,0.5513508,0.55053,0.5496241,0.5483075,0.5501308,0.5552484,0.5584444,0.5603434,0.560683,0.5604877,0.5452797,0.5369982,0.5260131,0.5200601,0.5153916,0.511151,0.5098801,0.5096074,0.5097025,0.4953549,0.4970514,0.4961187,0.4929067,0.4938844,0.495354,0.4973482,0.4973524,0.4956717,0.4919188,0.4884869,0.485542,0.4833163,0.4816314,0.4797146,0.4771822,0.4818369,0.4882367,0.4949384,0.4954568,0.47775,0.4771388,0.4799903,0.4807176,0.4791437,0.48007,0.4824312,0.4636225,0.4588745,0.4532564,0.4472348,0.4461251,0.447646,0.4515565,0.4517871,0.4520133,0.452235,0.4593261,0.4624451,0.4594952,0.4573442,0.4610453,0.4636316,0.4599015,0.4606152,0.460764,0.4545412,0.4485109,0.4427575,0.4378636,0.4372079,0.4410636,0.446619,0.4513043,0.4556282,0.4664779,0.4766067,0.48607,0.5000326,0.5137794,0.5272646,0.5370616,0.5453953,0.5520157,0.5544956,0.6168071,0.6102687,0.6042227,0.5983582,0.5911379,0.5856044,0.5813468,0.5764199,0.5745504,0.5755487,0.5743629,0.5740353,0.5747032,0.5740346,0.5746854,0.5135536,0.5111734,0.5104102,0.5114579,0.5080782,0.5042689,0.5002534,0.500112,0.5025699,0.5412827,0.5418499,0.5396721,0.5354156,0.5292627,0.5169733,0.5106118,0.5091023,0.5111712,0.4944985,0.4852408,0.476099,0.4675471,0.4661728,0.4670718,0.4690312,0.4673952,0.4642021,0.4598747,0.4595785,0.4614677,0.4654012,0.4924259,0.4941447,0.4962771,0.498419,0.4892372,0.4839976,0.4826375,0.4809894,0.4757271,0.4718548,0.4683027,0.4659181,0.4647872,0.4645453,0.4659317,0.4629243,0.4582426,0.4549541,0.4526935,0.451429,0.4533023,0.450684,0.4454431,0.4456424,0.443875,0.4404972,0.4376027,0.4368324,0.4381863,0.4410749,0.4444873,0.4576656,0.4486133,0.4456787,0.4456081,0.4488917,0.4499298,0.4506167,0.4529918,0.4552002,0.4436096,0.444253,0.4527045,0.4597472,0.4655891,0.4695875,0.4647502,0.4596416,0.4581139,0.456741,0.4566263,0.4600412,0.4576056,0.4542505,0.45555,0.4399134,0.4432761,0.4459126,0.4458042,0.4492901,0.4537367,0.4589729,0.4671633,0.4740591,0.4471909,0.4398122,0.4339685,0.4309821,0.4305453,0.4382088,0.4418168,0.4418775,0.4444611,0.4458572,0.4459872,0.4477508,0.4485001,0.4478492,0.4540206,0.4556579,0.4491048,0.4460984,0.4421503,0.4352903,0.4310678,0.4256425,0.4158591,0.4124797,0.4133458,0.4213724,0.4218266,0.4189686,0.4146032,0.416131,0.4206204,0.4256001,0.4238091,0.4190772,0.4245956,0.4221082,0.4148752,0.4285646,0.4342507,0.4336413,0.4330169,0.4321508,0.4370424,0.4395112,0.4371576,0.435066,0.4328779,0.4304149,0.4207326,0.4094534,0.3983587,0.3974607,0.4009304,0.4082566,0.412269,0.415179,0.4165418,0.4191668,0.4225194,0.4265496,0.4332173,0.4397538,0.4461711,0.4472506,0.4445875,0.4378043,0.4350955,0.4319694,0.4280108,0.4224673,0.4163367,0.4095227,0.4050313,0.4047776,0.4122641,0.4196369,0.4270329,0.4345555,0.4260553,0.4197355,0.4133251,0.4088534,0.4043674,0.4010739,0.4017435,0.3992059,0.3960771,0.3961929,0.40132,0.4083491,0.4110603,0.4149253,0.4190801,0.418659,0.4173415,0.4153346,0.413411,0.4130663,0.4142025,0.4115461,0.4094963,0.4081709,0.4067197,0.4086684,0.4153225,0.4191375,0.4276037,0.4194983,0.416078,0.4100186,0.4031449,0.3976166,0.3957645,0.3954351,0.3924423,0.3937351,0.3972565,0.3949468,0.3967385,0.4020325,0.4148235,0.4270069,0.4386112,0.4551384,0.4720182,0.4892362,0.5032993,0.5151099,0.5240412,0.523373,0.523625,0.5274537,0.5223551,0.5215499,0.4973381,0.4975603,0.4947761,0.4896201,0.486826,0.4846402,0.4830529,0.4832609,0.4700707,0.4619771],\"type\":\"box\"},{\"name\":\"14.tsv\",\"y\":[],\"type\":\"box\"}],                        {\"template\":{\"data\":{\"histogram2dcontour\":[{\"type\":\"histogram2dcontour\",\"colorbar\":{\"outlinewidth\":0,\"ticks\":\"\"},\"colorscale\":[[0.0,\"#0d0887\"],[0.1111111111111111,\"#46039f\"],[0.2222222222222222,\"#7201a8\"],[0.3333333333333333,\"#9c179e\"],[0.4444444444444444,\"#bd3786\"],[0.5555555555555556,\"#d8576b\"],[0.6666666666666666,\"#ed7953\"],[0.7777777777777778,\"#fb9f3a\"],[0.8888888888888888,\"#fdca26\"],[1.0,\"#f0f921\"]]}],\"choropleth\":[{\"type\":\"choropleth\",\"colorbar\":{\"outlinewidth\":0,\"ticks\":\"\"}}],\"histogram2d\":[{\"type\":\"histogram2d\",\"colorbar\":{\"outlinewidth\":0,\"ticks\":\"\"},\"colorscale\":[[0.0,\"#0d0887\"],[0.1111111111111111,\"#46039f\"],[0.2222222222222222,\"#7201a8\"],[0.3333333333333333,\"#9c179e\"],[0.4444444444444444,\"#bd3786\"],[0.5555555555555556,\"#d8576b\"],[0.6666666666666666,\"#ed7953\"],[0.7777777777777778,\"#fb9f3a\"],[0.8888888888888888,\"#fdca26\"],[1.0,\"#f0f921\"]]}],\"heatmap\":[{\"type\":\"heatmap\",\"colorbar\":{\"outlinewidth\":0,\"ticks\":\"\"},\"colorscale\":[[0.0,\"#0d0887\"],[0.1111111111111111,\"#46039f\"],[0.2222222222222222,\"#7201a8\"],[0.3333333333333333,\"#9c179e\"],[0.4444444444444444,\"#bd3786\"],[0.5555555555555556,\"#d8576b\"],[0.6666666666666666,\"#ed7953\"],[0.7777777777777778,\"#fb9f3a\"],[0.8888888888888888,\"#fdca26\"],[1.0,\"#f0f921\"]]}],\"heatmapgl\":[{\"type\":\"heatmapgl\",\"colorbar\":{\"outlinewidth\":0,\"ticks\":\"\"},\"colorscale\":[[0.0,\"#0d0887\"],[0.1111111111111111,\"#46039f\"],[0.2222222222222222,\"#7201a8\"],[0.3333333333333333,\"#9c179e\"],[0.4444444444444444,\"#bd3786\"],[0.5555555555555556,\"#d8576b\"],[0.6666666666666666,\"#ed7953\"],[0.7777777777777778,\"#fb9f3a\"],[0.8888888888888888,\"#fdca26\"],[1.0,\"#f0f921\"]]}],\"contourcarpet\":[{\"type\":\"contourcarpet\",\"colorbar\":{\"outlinewidth\":0,\"ticks\":\"\"}}],\"contour\":[{\"type\":\"contour\",\"colorbar\":{\"outlinewidth\":0,\"ticks\":\"\"},\"colorscale\":[[0.0,\"#0d0887\"],[0.1111111111111111,\"#46039f\"],[0.2222222222222222,\"#7201a8\"],[0.3333333333333333,\"#9c179e\"],[0.4444444444444444,\"#bd3786\"],[0.5555555555555556,\"#d8576b\"],[0.6666666666666666,\"#ed7953\"],[0.7777777777777778,\"#fb9f3a\"],[0.8888888888888888,\"#fdca26\"],[1.0,\"#f0f921\"]]}],\"surface\":[{\"type\":\"surface\",\"colorbar\":{\"outlinewidth\":0,\"ticks\":\"\"},\"colorscale\":[[0.0,\"#0d0887\"],[0.1111111111111111,\"#46039f\"],[0.2222222222222222,\"#7201a8\"],[0.3333333333333333,\"#9c179e\"],[0.4444444444444444,\"#bd3786\"],[0.5555555555555556,\"#d8576b\"],[0.6666666666666666,\"#ed7953\"],[0.7777777777777778,\"#fb9f3a\"],[0.8888888888888888,\"#fdca26\"],[1.0,\"#f0f921\"]]}],\"mesh3d\":[{\"type\":\"mesh3d\",\"colorbar\":{\"outlinewidth\":0,\"ticks\":\"\"}}],\"scatter\":[{\"fillpattern\":{\"fillmode\":\"overlay\",\"size\":10,\"solidity\":0.2},\"type\":\"scatter\"}],\"parcoords\":[{\"type\":\"parcoords\",\"line\":{\"colorbar\":{\"outlinewidth\":0,\"ticks\":\"\"}}}],\"scatterpolargl\":[{\"type\":\"scatterpolargl\",\"marker\":{\"colorbar\":{\"outlinewidth\":0,\"ticks\":\"\"}}}],\"bar\":[{\"error_x\":{\"color\":\"#2a3f5f\"},\"error_y\":{\"color\":\"#2a3f5f\"},\"marker\":{\"line\":{\"color\":\"#E5ECF6\",\"width\":0.5},\"pattern\":{\"fillmode\":\"overlay\",\"size\":10,\"solidity\":0.2}},\"type\":\"bar\"}],\"scattergeo\":[{\"type\":\"scattergeo\",\"marker\":{\"colorbar\":{\"outlinewidth\":0,\"ticks\":\"\"}}}],\"scatterpolar\":[{\"type\":\"scatterpolar\",\"marker\":{\"colorbar\":{\"outlinewidth\":0,\"ticks\":\"\"}}}],\"histogram\":[{\"marker\":{\"pattern\":{\"fillmode\":\"overlay\",\"size\":10,\"solidity\":0.2}},\"type\":\"histogram\"}],\"scattergl\":[{\"type\":\"scattergl\",\"marker\":{\"colorbar\":{\"outlinewidth\":0,\"ticks\":\"\"}}}],\"scatter3d\":[{\"type\":\"scatter3d\",\"line\":{\"colorbar\":{\"outlinewidth\":0,\"ticks\":\"\"}},\"marker\":{\"colorbar\":{\"outlinewidth\":0,\"ticks\":\"\"}}}],\"scattermapbox\":[{\"type\":\"scattermapbox\",\"marker\":{\"colorbar\":{\"outlinewidth\":0,\"ticks\":\"\"}}}],\"scatterternary\":[{\"type\":\"scatterternary\",\"marker\":{\"colorbar\":{\"outlinewidth\":0,\"ticks\":\"\"}}}],\"scattercarpet\":[{\"type\":\"scattercarpet\",\"marker\":{\"colorbar\":{\"outlinewidth\":0,\"ticks\":\"\"}}}],\"carpet\":[{\"aaxis\":{\"endlinecolor\":\"#2a3f5f\",\"gridcolor\":\"white\",\"linecolor\":\"white\",\"minorgridcolor\":\"white\",\"startlinecolor\":\"#2a3f5f\"},\"baxis\":{\"endlinecolor\":\"#2a3f5f\",\"gridcolor\":\"white\",\"linecolor\":\"white\",\"minorgridcolor\":\"white\",\"startlinecolor\":\"#2a3f5f\"},\"type\":\"carpet\"}],\"table\":[{\"cells\":{\"fill\":{\"color\":\"#EBF0F8\"},\"line\":{\"color\":\"white\"}},\"header\":{\"fill\":{\"color\":\"#C8D4E3\"},\"line\":{\"color\":\"white\"}},\"type\":\"table\"}],\"barpolar\":[{\"marker\":{\"line\":{\"color\":\"#E5ECF6\",\"width\":0.5},\"pattern\":{\"fillmode\":\"overlay\",\"size\":10,\"solidity\":0.2}},\"type\":\"barpolar\"}],\"pie\":[{\"automargin\":true,\"type\":\"pie\"}]},\"layout\":{\"autotypenumbers\":\"strict\",\"colorway\":[\"#636efa\",\"#EF553B\",\"#00cc96\",\"#ab63fa\",\"#FFA15A\",\"#19d3f3\",\"#FF6692\",\"#B6E880\",\"#FF97FF\",\"#FECB52\"],\"font\":{\"color\":\"#2a3f5f\"},\"hovermode\":\"closest\",\"hoverlabel\":{\"align\":\"left\"},\"paper_bgcolor\":\"white\",\"plot_bgcolor\":\"#E5ECF6\",\"polar\":{\"bgcolor\":\"#E5ECF6\",\"angularaxis\":{\"gridcolor\":\"white\",\"linecolor\":\"white\",\"ticks\":\"\"},\"radialaxis\":{\"gridcolor\":\"white\",\"linecolor\":\"white\",\"ticks\":\"\"}},\"ternary\":{\"bgcolor\":\"#E5ECF6\",\"aaxis\":{\"gridcolor\":\"white\",\"linecolor\":\"white\",\"ticks\":\"\"},\"baxis\":{\"gridcolor\":\"white\",\"linecolor\":\"white\",\"ticks\":\"\"},\"caxis\":{\"gridcolor\":\"white\",\"linecolor\":\"white\",\"ticks\":\"\"}},\"coloraxis\":{\"colorbar\":{\"outlinewidth\":0,\"ticks\":\"\"}},\"colorscale\":{\"sequential\":[[0.0,\"#0d0887\"],[0.1111111111111111,\"#46039f\"],[0.2222222222222222,\"#7201a8\"],[0.3333333333333333,\"#9c179e\"],[0.4444444444444444,\"#bd3786\"],[0.5555555555555556,\"#d8576b\"],[0.6666666666666666,\"#ed7953\"],[0.7777777777777778,\"#fb9f3a\"],[0.8888888888888888,\"#fdca26\"],[1.0,\"#f0f921\"]],\"sequentialminus\":[[0.0,\"#0d0887\"],[0.1111111111111111,\"#46039f\"],[0.2222222222222222,\"#7201a8\"],[0.3333333333333333,\"#9c179e\"],[0.4444444444444444,\"#bd3786\"],[0.5555555555555556,\"#d8576b\"],[0.6666666666666666,\"#ed7953\"],[0.7777777777777778,\"#fb9f3a\"],[0.8888888888888888,\"#fdca26\"],[1.0,\"#f0f921\"]],\"diverging\":[[0,\"#8e0152\"],[0.1,\"#c51b7d\"],[0.2,\"#de77ae\"],[0.3,\"#f1b6da\"],[0.4,\"#fde0ef\"],[0.5,\"#f7f7f7\"],[0.6,\"#e6f5d0\"],[0.7,\"#b8e186\"],[0.8,\"#7fbc41\"],[0.9,\"#4d9221\"],[1,\"#276419\"]]},\"xaxis\":{\"gridcolor\":\"white\",\"linecolor\":\"white\",\"ticks\":\"\",\"title\":{\"standoff\":15},\"zerolinecolor\":\"white\",\"automargin\":true,\"zerolinewidth\":2},\"yaxis\":{\"gridcolor\":\"white\",\"linecolor\":\"white\",\"ticks\":\"\",\"title\":{\"standoff\":15},\"zerolinecolor\":\"white\",\"automargin\":true,\"zerolinewidth\":2},\"scene\":{\"xaxis\":{\"backgroundcolor\":\"#E5ECF6\",\"gridcolor\":\"white\",\"linecolor\":\"white\",\"showbackground\":true,\"ticks\":\"\",\"zerolinecolor\":\"white\",\"gridwidth\":2},\"yaxis\":{\"backgroundcolor\":\"#E5ECF6\",\"gridcolor\":\"white\",\"linecolor\":\"white\",\"showbackground\":true,\"ticks\":\"\",\"zerolinecolor\":\"white\",\"gridwidth\":2},\"zaxis\":{\"backgroundcolor\":\"#E5ECF6\",\"gridcolor\":\"white\",\"linecolor\":\"white\",\"showbackground\":true,\"ticks\":\"\",\"zerolinecolor\":\"white\",\"gridwidth\":2}},\"shapedefaults\":{\"line\":{\"color\":\"#2a3f5f\"}},\"annotationdefaults\":{\"arrowcolor\":\"#2a3f5f\",\"arrowhead\":0,\"arrowwidth\":1},\"geo\":{\"bgcolor\":\"white\",\"landcolor\":\"#E5ECF6\",\"subunitcolor\":\"white\",\"showland\":true,\"showlakes\":true,\"lakecolor\":\"white\"},\"title\":{\"x\":0.05},\"mapbox\":{\"style\":\"light\"}}},\"title\":{\"text\":\"Distribution of Porosity for rows with negative hydrate saturation\"}},                        {\"responsive\": true}                    ).then(function(){\n",
       "                            \n",
       "var gd = document.getElementById('37e44650-947a-4992-8950-08d87e5c150a');\n",
       "var x = new MutationObserver(function (mutations, observer) {{\n",
       "        var display = window.getComputedStyle(gd).display;\n",
       "        if (!display || display === 'none') {{\n",
       "            console.log([gd, 'removed!']);\n",
       "            Plotly.purge(gd);\n",
       "            observer.disconnect();\n",
       "        }}\n",
       "}});\n",
       "\n",
       "// Listen for the removal of the full notebook cells\n",
       "var notebookContainer = gd.closest('#notebook-container');\n",
       "if (notebookContainer) {{\n",
       "    x.observe(notebookContainer, {childList: true});\n",
       "}}\n",
       "\n",
       "// Listen for the clearing of the current output cell\n",
       "var outputEl = gd.closest('.output');\n",
       "if (outputEl) {{\n",
       "    x.observe(outputEl, {childList: true});\n",
       "}}\n",
       "\n",
       "                        })                };                });            </script>        </div>"
      ]
     },
     "metadata": {},
     "output_type": "display_data"
    }
   ],
   "source": [
    "# Plot the distribution of porosity for the rows with negative hydrate saturation\n",
    "porosity_data = []\n",
    "for idx, sensor_data in enumerate(sensor_data_list):\n",
    "    condition = sensor_data['Hydrate Saturation'] < 0\n",
    "    porosity_data.append(sensor_data[condition]['Porosity'].dropna())\n",
    "\n",
    "fig = go.Figure()\n",
    "for idx, data in enumerate(porosity_data):\n",
    "    fig.add_trace(go.Box(y=data, name=sensor_data_files[idx]))\n",
    "fig.update_layout(title_text='Distribution of Porosity for rows with negative hydrate saturation')\n",
    "fig.show()\n",
    "    \n",
    "    "
   ]
  }
 ],
 "metadata": {
  "kernelspec": {
   "display_name": "base",
   "language": "python",
   "name": "python3"
  },
  "language_info": {
   "codemirror_mode": {
    "name": "ipython",
    "version": 3
   },
   "file_extension": ".py",
   "mimetype": "text/x-python",
   "name": "python",
   "nbconvert_exporter": "python",
   "pygments_lexer": "ipython3",
   "version": "3.12.3"
  }
 },
 "nbformat": 4,
 "nbformat_minor": 2
}
