{
 "cells": [
  {
   "cell_type": "markdown",
   "metadata": {},
   "source": [
    "# Load Data and Preprocessing"
   ]
  },
  {
   "cell_type": "code",
   "execution_count": 11,
   "metadata": {},
   "outputs": [
    {
     "name": "stdout",
     "output_type": "stream",
     "text": [
      "  Well      X      Y\n",
      "0  w01  34500  45000\n",
      "1  w02  36000  45050\n",
      "2  w03  37050  45020\n",
      "3  w04  37880  46000\n",
      "4  w05  35000  46030\n",
      "       Depth  Porosity  Hydrate Saturation\n",
      "0  1814.9316       NaN                 NaN\n",
      "1  1815.0840       NaN                 NaN\n",
      "2  1815.2364       NaN                 NaN\n",
      "3  1815.3888       NaN                 NaN\n",
      "4  1815.5412       NaN                 NaN\n"
     ]
    }
   ],
   "source": [
    "import pandas as pd\n",
    "import os\n",
    "import plotly.graph_objects as go\n",
    "import numpy as np\n",
    "import matplotlib.pyplot as plt\n",
    "\n",
    "# Set the default DPI\n",
    "plt.rcParams['figure.dpi'] = 100  \n",
    "\n",
    "well_info = pd.read_csv('well-loc.tsv', sep='\\t')\n",
    "\n",
    "# Path to the sensor data directory\n",
    "sensor_data_path = 'sensor-data'\n",
    "\n",
    "# List all TSV files in the directory\n",
    "sensor_data_files = [f for f in os.listdir(sensor_data_path) if f.endswith('.tsv')]\n",
    "\n",
    "# Sort the sensor_data_files list\n",
    "sensor_data_files.sort(key= lambda x: int(x.split('.')[0]))\n",
    "\n",
    "# Load and concatenate all sensor data files into one DataFrame\n",
    "sensor_data_list = [pd.read_csv(os.path.join(sensor_data_path, file), sep='\\t',\n",
    "                                na_values=\"-9999\") for file in sensor_data_files]\n",
    "\n",
    "\n",
    "# Reset the index of the well_loc DataFrame to Well, X, Y\n",
    "well_info.rename(columns={'井': 'Well'}, inplace=True)\n",
    "\n",
    "# Reset the index of the sensor data DataFrame to Depth, Porosity, Hydrate Saturation\n",
    "for idx, _ in enumerate(sensor_data_list):\n",
    "\tsensor_data_list[idx].columns = ['Depth', 'Porosity', 'Hydrate Saturation']\n",
    "\n",
    "print(well_info.head())  # Display the first few rows to verify it's loaded correctly\n",
    "print(sensor_data_list[0].head())  # Display the first few rows to verify it's loaded correctly"
   ]
  },
  {
   "cell_type": "code",
   "execution_count": 12,
   "metadata": {},
   "outputs": [
    {
     "name": "stdout",
     "output_type": "stream",
     "text": [
      "Descriptive Statistics for Well Information:\n",
      "                  X             Y\n",
      "count     14.000000     14.000000\n",
      "mean   35729.285714  47391.428571\n",
      "std     1281.072053   1859.341724\n",
      "min    34000.000000  45000.000000\n",
      "25%    34670.000000  46007.500000\n",
      "50%    35750.000000  47215.000000\n",
      "75%    36150.000000  49107.500000\n",
      "max    38000.000000  50000.000000\n",
      "\n",
      "Descriptive Statistics for Sensor Data:\n",
      "\n",
      "Sensor Data File 1:\n",
      "            Depth     Porosity  Hydrate Saturation\n",
      "count  1923.00000  1801.000000         1609.000000\n",
      "mean   1961.38800     0.488843            0.001296\n",
      "std      84.62263     0.044011            0.006527\n",
      "min    1814.93160     0.391800            0.000000\n",
      "25%    1888.15980     0.457700            0.000000\n",
      "50%    1961.38800     0.488900            0.000000\n",
      "75%    2034.61620     0.517700            0.000000\n",
      "max    2107.84440     0.748600            0.088900\n",
      "\n",
      "Sensor Data File 2:\n",
      "             Depth     Porosity  Hydrate Saturation\n",
      "count  1787.000000  1655.000000         1408.000000\n",
      "mean   1604.300000     0.508038            0.172149\n",
      "std      51.600678     0.085347            0.242259\n",
      "min    1515.000000     0.372943           -0.095347\n",
      "25%    1559.650000     0.452836            0.017835\n",
      "50%    1604.300000     0.487566            0.073318\n",
      "75%    1648.950000     0.541292            0.216235\n",
      "max    1693.600000     0.900575            0.889902\n",
      "\n",
      "Sensor Data File 3:\n",
      "             Depth     Porosity  Hydrate Saturation\n",
      "count  1654.000000  1487.000000         1264.000000\n",
      "mean   1782.650000     0.456307            0.004407\n",
      "std      47.761299     0.103604            0.011378\n",
      "min    1700.000000     0.299100            0.000000\n",
      "25%    1741.325000     0.388400            0.000000\n",
      "50%    1782.650000     0.430400            0.000000\n",
      "75%    1823.975000     0.488900            0.000000\n",
      "max    1865.300000     0.926100            0.074600\n",
      "\n",
      "Sensor Data File 4:\n",
      "             Depth     Porosity  Hydrate Saturation\n",
      "count  1829.000000  1690.000000         1474.000000\n",
      "mean   1636.400000     0.510441            0.173410\n",
      "std      52.813114     0.099198            0.174286\n",
      "min    1545.000000     0.292291           -0.673800\n",
      "25%    1590.700000     0.429363            0.000000\n",
      "50%    1636.400000     0.509030            0.185950\n",
      "75%    1682.100000     0.585026            0.317739\n",
      "max    1727.800000     0.827095            0.651820\n",
      "\n",
      "Sensor Data File 5:\n",
      "           Depth     Porosity  Hydrate Saturation\n",
      "count  2048.0000  1835.000000         1599.000000\n",
      "mean   1658.3500     0.467805           -0.020579\n",
      "std      59.1351     0.094342            0.076715\n",
      "min    1556.0000     0.276610           -0.662127\n",
      "25%    1607.1750     0.396600           -0.019038\n",
      "50%    1658.3500     0.457644            0.000000\n",
      "75%    1709.5250     0.532162            0.000000\n",
      "max    1760.7000     0.820117            0.077287\n",
      "\n",
      "Sensor Data File 6:\n",
      "             Depth     Porosity  Hydrate Saturation\n",
      "count  1901.000000  1780.000000         1480.000000\n",
      "mean   1836.000000     0.462810           -0.024724\n",
      "std      54.891575     0.091795            0.047725\n",
      "min    1741.000000     0.309091           -0.179033\n",
      "25%    1788.500000     0.401818           -0.058011\n",
      "50%    1836.000000     0.454413           -0.019236\n",
      "75%    1883.500000     0.523589            0.004879\n",
      "max    1931.000000     0.903613            0.105548\n",
      "\n",
      "Sensor Data File 7:\n",
      "             Depth    Porosity  Hydrate Saturation\n",
      "count   942.000000  756.000000          609.000000\n",
      "mean   1836.648600    0.530543            0.086495\n",
      "std      41.464424    0.043353            0.066015\n",
      "min    1764.944400    0.407900            0.000000\n",
      "25%    1800.796500    0.499200            0.043800\n",
      "50%    1836.648600    0.532600            0.082300\n",
      "75%    1872.500700    0.557225            0.116800\n",
      "max    1908.352800    0.645800            0.346700\n",
      "\n",
      "Sensor Data File 8:\n",
      "             Depth     Porosity  Hydrate Saturation\n",
      "count  2197.000000  1772.000000         1624.000000\n",
      "mean   1753.819200     0.471518           -0.103858\n",
      "std      96.677011     0.062733            0.332528\n",
      "min    1586.484000     0.000100           -4.469665\n",
      "25%    1670.151600     0.432000           -0.067706\n",
      "50%    1753.819200     0.471600            0.000000\n",
      "75%    1837.486800     0.507100            0.000000\n",
      "max    1921.154400     0.676700            0.155016\n",
      "\n",
      "Sensor Data File 9:\n",
      "             Depth     Porosity  Hydrate Saturation\n",
      "count  1430.000000  1280.000000         1118.000000\n",
      "mean   1838.782200     0.495177            0.178540\n",
      "std      62.933543     0.080942            0.135718\n",
      "min    1729.892400     0.260700            0.000000\n",
      "25%    1784.337300     0.436475            0.072500\n",
      "50%    1838.782200     0.487500            0.157700\n",
      "75%    1893.227100     0.535400            0.261650\n",
      "max    1947.672000     0.923200            0.702800\n",
      "\n",
      "Sensor Data File 10:\n",
      "             Depth    Porosity  Hydrate Saturation\n",
      "count   674.000000  567.000000          420.000000\n",
      "mean   1771.269000    0.523384            0.116739\n",
      "std      29.674006    0.063430            0.108913\n",
      "min    1719.986400    0.374900            0.000000\n",
      "25%    1745.627700    0.481850            0.036050\n",
      "50%    1771.269000    0.518600            0.088450\n",
      "75%    1796.910300    0.551700            0.159675\n",
      "max    1822.551600    0.767700            0.434500\n",
      "\n",
      "Sensor Data File 11:\n",
      "             Depth     Porosity  Hydrate Saturation\n",
      "count  2121.000000  1992.000000         1390.000000\n",
      "mean   1844.000000     0.446785           -0.012340\n",
      "std      61.242428     0.079919            0.047527\n",
      "min    1738.000000     0.287744           -0.211102\n",
      "25%    1791.000000     0.377917           -0.035446\n",
      "50%    1844.000000     0.448905            0.000000\n",
      "75%    1897.000000     0.500168            0.002847\n",
      "max    1950.000000     0.764798            0.216866\n",
      "\n",
      "Sensor Data File 12:\n",
      "             Depth    Porosity  Hydrate Saturation\n",
      "count   672.000000  550.000000          402.000000\n",
      "mean   1781.022600    0.516368            0.001983\n",
      "std      29.586018    0.060835            0.006803\n",
      "min    1729.892400    0.401800            0.000000\n",
      "25%    1755.457500    0.457750            0.000000\n",
      "50%    1781.022600    0.521300            0.000000\n",
      "75%    1806.587700    0.546975            0.000100\n",
      "max    1832.152800    0.695500            0.069300\n",
      "\n",
      "Sensor Data File 13:\n",
      "             Depth     Porosity  Hydrate Saturation\n",
      "count  1846.000000  1655.000000         1409.000000\n",
      "mean   1602.250000     0.526135           -0.022507\n",
      "std      53.303862     0.091029            0.110989\n",
      "min    1510.000000     0.392442           -0.583767\n",
      "25%    1556.125000     0.446003           -0.038089\n",
      "50%    1602.250000     0.509349           -0.003593\n",
      "75%    1648.375000     0.598565            0.013295\n",
      "max    1694.500000     0.886159            0.620332\n",
      "\n",
      "Sensor Data File 14:\n",
      "            Depth     Porosity  Hydrate Saturation\n",
      "count  1879.00000  1733.000000         1478.000000\n",
      "mean   1913.07720     0.491331            0.008666\n",
      "std      82.68689     0.070255            0.015802\n",
      "min    1769.97360     0.363200            0.000000\n",
      "25%    1841.52540     0.438600            0.000000\n",
      "50%    1913.07720     0.475700            0.000000\n",
      "75%    1984.62900     0.547100            0.008575\n",
      "max    2056.18080     0.740200            0.108300\n",
      "\n",
      "Checking for missing values in Well Information:\n",
      "Well    0\n",
      "X       0\n",
      "Y       0\n",
      "dtype: int64\n",
      "\n",
      "Checking for missing values in Sensor Data:\n",
      "\n",
      "Sensor Data File 1 Missing Values:\n",
      "Depth                   0\n",
      "Porosity              122\n",
      "Hydrate Saturation    314\n",
      "dtype: int64\n",
      "\n",
      "Sensor Data File 2 Missing Values:\n",
      "Depth                   0\n",
      "Porosity              132\n",
      "Hydrate Saturation    379\n",
      "dtype: int64\n",
      "\n",
      "Sensor Data File 3 Missing Values:\n",
      "Depth                   0\n",
      "Porosity              167\n",
      "Hydrate Saturation    390\n",
      "dtype: int64\n",
      "\n",
      "Sensor Data File 4 Missing Values:\n",
      "Depth                   0\n",
      "Porosity              139\n",
      "Hydrate Saturation    355\n",
      "dtype: int64\n",
      "\n",
      "Sensor Data File 5 Missing Values:\n",
      "Depth                   0\n",
      "Porosity              213\n",
      "Hydrate Saturation    449\n",
      "dtype: int64\n",
      "\n",
      "Sensor Data File 6 Missing Values:\n",
      "Depth                   0\n",
      "Porosity              121\n",
      "Hydrate Saturation    421\n",
      "dtype: int64\n",
      "\n",
      "Sensor Data File 7 Missing Values:\n",
      "Depth                   0\n",
      "Porosity              186\n",
      "Hydrate Saturation    333\n",
      "dtype: int64\n",
      "\n",
      "Sensor Data File 8 Missing Values:\n",
      "Depth                   0\n",
      "Porosity              425\n",
      "Hydrate Saturation    573\n",
      "dtype: int64\n",
      "\n",
      "Sensor Data File 9 Missing Values:\n",
      "Depth                   0\n",
      "Porosity              150\n",
      "Hydrate Saturation    312\n",
      "dtype: int64\n",
      "\n",
      "Sensor Data File 10 Missing Values:\n",
      "Depth                   0\n",
      "Porosity              107\n",
      "Hydrate Saturation    254\n",
      "dtype: int64\n",
      "\n",
      "Sensor Data File 11 Missing Values:\n",
      "Depth                   0\n",
      "Porosity              129\n",
      "Hydrate Saturation    731\n",
      "dtype: int64\n",
      "\n",
      "Sensor Data File 12 Missing Values:\n",
      "Depth                   0\n",
      "Porosity              122\n",
      "Hydrate Saturation    270\n",
      "dtype: int64\n",
      "\n",
      "Sensor Data File 13 Missing Values:\n",
      "Depth                   0\n",
      "Porosity              191\n",
      "Hydrate Saturation    437\n",
      "dtype: int64\n",
      "\n",
      "Sensor Data File 14 Missing Values:\n",
      "Depth                   0\n",
      "Porosity              146\n",
      "Hydrate Saturation    401\n",
      "dtype: int64\n",
      "\n",
      "Checking for duplicate rows in Well Information:\n",
      "0\n",
      "\n",
      "Sensor Data File 1 Duplicate Rows:\n",
      "0\n",
      "\n",
      "Sensor Data File 2 Duplicate Rows:\n",
      "0\n",
      "\n",
      "Sensor Data File 3 Duplicate Rows:\n",
      "0\n",
      "\n",
      "Sensor Data File 4 Duplicate Rows:\n",
      "0\n",
      "\n",
      "Sensor Data File 5 Duplicate Rows:\n",
      "0\n",
      "\n",
      "Sensor Data File 6 Duplicate Rows:\n",
      "0\n",
      "\n",
      "Sensor Data File 7 Duplicate Rows:\n",
      "0\n",
      "\n",
      "Sensor Data File 8 Duplicate Rows:\n",
      "0\n",
      "\n",
      "Sensor Data File 9 Duplicate Rows:\n",
      "0\n",
      "\n",
      "Sensor Data File 10 Duplicate Rows:\n",
      "0\n",
      "\n",
      "Sensor Data File 11 Duplicate Rows:\n",
      "0\n",
      "\n",
      "Sensor Data File 12 Duplicate Rows:\n",
      "0\n",
      "\n",
      "Sensor Data File 13 Duplicate Rows:\n",
      "0\n",
      "\n",
      "Sensor Data File 14 Duplicate Rows:\n",
      "0\n"
     ]
    },
    {
     "data": {
      "image/png": "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",
      "text/plain": [
       "<Figure size 800x600 with 2 Axes>"
      ]
     },
     "metadata": {},
     "output_type": "display_data"
    }
   ],
   "source": [
    "# Show the summary of the dataset\n",
    "import pandas as pd\n",
    "import os\n",
    "import matplotlib.pyplot as plt\n",
    "import seaborn as sns  # For enhanced visualizations\n",
    "\n",
    "# Assuming previous code has already been run and data is loaded\n",
    "\n",
    "# 1. Descriptive Statistics\n",
    "print(\"Descriptive Statistics for Well Information:\")\n",
    "print(well_info.describe())\n",
    "print(\"\\nDescriptive Statistics for Sensor Data:\")\n",
    "for idx, sensor_data in enumerate(sensor_data_list):\n",
    "    print(f\"\\nSensor Data File {idx + 1}:\")\n",
    "    print(sensor_data.describe())\n",
    "\n",
    "# 2. Data Quality Checks\n",
    "print(\"\\nChecking for missing values in Well Information:\")\n",
    "print(well_info.isnull().sum())\n",
    "print(\"\\nChecking for missing values in Sensor Data:\")\n",
    "for idx, sensor_data in enumerate(sensor_data_list):\n",
    "    print(f\"\\nSensor Data File {idx + 1} Missing Values:\")\n",
    "    print(sensor_data.isnull().sum())\n",
    "\n",
    "print(\"\\nChecking for duplicate rows in Well Information:\")\n",
    "print(well_info.duplicated().sum())\n",
    "for idx, sensor_data in enumerate(sensor_data_list):\n",
    "    print(f\"\\nSensor Data File {idx + 1} Duplicate Rows:\")\n",
    "    print(sensor_data.duplicated().sum())\n",
    "\n",
    "# 3. Correlation Analysis\n",
    "# Assuming sensor data has common columns that can be concatenated for correlation analysis\n",
    "if len(sensor_data_list) > 0:\n",
    "    combined_sensor_data = pd.concat(sensor_data_list, ignore_index=True)\n",
    "    plt.figure(figsize=(8, 6))\n",
    "    sns.heatmap(combined_sensor_data.corr(), annot=True, fmt=\".2f\", cmap='coolwarm')\n",
    "    plt.title('Correlation Matrix of Combined Sensor Data')\n",
    "    plt.show()\n",
    "\n",
    "# Note: Ensure all plots are properly displayed\n",
    "plt.show()\n"
   ]
  },
  {
   "cell_type": "code",
   "execution_count": 20,
   "metadata": {},
   "outputs": [
    {
     "data": {
      "application/vnd.plotly.v1+json": {
       "config": {
        "plotlyServerURL": "https://plot.ly"
       },
       "data": [
        {
         "name": "Hydrate Saturation",
         "type": "bar",
         "x": [
          "01.tsv",
          "02.tsv",
          "03.tsv",
          "04.tsv",
          "05.tsv",
          "06.tsv",
          "07.tsv",
          "08.tsv",
          "09.tsv",
          "10.tsv",
          "11.tsv",
          "12.tsv",
          "13.tsv",
          "14.tsv"
         ],
         "xaxis": "x",
         "y": [
          0,
          8.897593732512592,
          0,
          3.7178786221979223,
          27.1484375,
          48.81641241451867,
          0,
          32.45334547109695,
          0,
          0,
          30.975954738330977,
          0,
          40.84507042253521,
          0
         ],
         "yaxis": "y"
        },
        {
         "name": "Porosity",
         "type": "bar",
         "x": [
          "01.tsv",
          "02.tsv",
          "03.tsv",
          "04.tsv",
          "05.tsv",
          "06.tsv",
          "07.tsv",
          "08.tsv",
          "09.tsv",
          "10.tsv",
          "11.tsv",
          "12.tsv",
          "13.tsv",
          "14.tsv"
         ],
         "xaxis": "x2",
         "y": [
          0,
          0,
          0,
          0,
          0,
          0,
          0,
          0,
          0,
          0,
          0,
          0,
          0,
          0
         ],
         "yaxis": "y2"
        }
       ],
       "layout": {
        "annotations": [
         {
          "font": {
           "size": 16
          },
          "showarrow": false,
          "text": "Hydrate Saturation (%)",
          "x": 0.225,
          "xanchor": "center",
          "xref": "paper",
          "y": 1,
          "yanchor": "bottom",
          "yref": "paper"
         },
         {
          "font": {
           "size": 16
          },
          "showarrow": false,
          "text": "Porosity (%)",
          "x": 0.775,
          "xanchor": "center",
          "xref": "paper",
          "y": 1,
          "yanchor": "bottom",
          "yref": "paper"
         }
        ],
        "showlegend": false,
        "template": {
         "data": {
          "bar": [
           {
            "error_x": {
             "color": "#2a3f5f"
            },
            "error_y": {
             "color": "#2a3f5f"
            },
            "marker": {
             "line": {
              "color": "#E5ECF6",
              "width": 0.5
             },
             "pattern": {
              "fillmode": "overlay",
              "size": 10,
              "solidity": 0.2
             }
            },
            "type": "bar"
           }
          ],
          "barpolar": [
           {
            "marker": {
             "line": {
              "color": "#E5ECF6",
              "width": 0.5
             },
             "pattern": {
              "fillmode": "overlay",
              "size": 10,
              "solidity": 0.2
             }
            },
            "type": "barpolar"
           }
          ],
          "carpet": [
           {
            "aaxis": {
             "endlinecolor": "#2a3f5f",
             "gridcolor": "white",
             "linecolor": "white",
             "minorgridcolor": "white",
             "startlinecolor": "#2a3f5f"
            },
            "baxis": {
             "endlinecolor": "#2a3f5f",
             "gridcolor": "white",
             "linecolor": "white",
             "minorgridcolor": "white",
             "startlinecolor": "#2a3f5f"
            },
            "type": "carpet"
           }
          ],
          "choropleth": [
           {
            "colorbar": {
             "outlinewidth": 0,
             "ticks": ""
            },
            "type": "choropleth"
           }
          ],
          "contour": [
           {
            "colorbar": {
             "outlinewidth": 0,
             "ticks": ""
            },
            "colorscale": [
             [
              0,
              "#0d0887"
             ],
             [
              0.1111111111111111,
              "#46039f"
             ],
             [
              0.2222222222222222,
              "#7201a8"
             ],
             [
              0.3333333333333333,
              "#9c179e"
             ],
             [
              0.4444444444444444,
              "#bd3786"
             ],
             [
              0.5555555555555556,
              "#d8576b"
             ],
             [
              0.6666666666666666,
              "#ed7953"
             ],
             [
              0.7777777777777778,
              "#fb9f3a"
             ],
             [
              0.8888888888888888,
              "#fdca26"
             ],
             [
              1,
              "#f0f921"
             ]
            ],
            "type": "contour"
           }
          ],
          "contourcarpet": [
           {
            "colorbar": {
             "outlinewidth": 0,
             "ticks": ""
            },
            "type": "contourcarpet"
           }
          ],
          "heatmap": [
           {
            "colorbar": {
             "outlinewidth": 0,
             "ticks": ""
            },
            "colorscale": [
             [
              0,
              "#0d0887"
             ],
             [
              0.1111111111111111,
              "#46039f"
             ],
             [
              0.2222222222222222,
              "#7201a8"
             ],
             [
              0.3333333333333333,
              "#9c179e"
             ],
             [
              0.4444444444444444,
              "#bd3786"
             ],
             [
              0.5555555555555556,
              "#d8576b"
             ],
             [
              0.6666666666666666,
              "#ed7953"
             ],
             [
              0.7777777777777778,
              "#fb9f3a"
             ],
             [
              0.8888888888888888,
              "#fdca26"
             ],
             [
              1,
              "#f0f921"
             ]
            ],
            "type": "heatmap"
           }
          ],
          "heatmapgl": [
           {
            "colorbar": {
             "outlinewidth": 0,
             "ticks": ""
            },
            "colorscale": [
             [
              0,
              "#0d0887"
             ],
             [
              0.1111111111111111,
              "#46039f"
             ],
             [
              0.2222222222222222,
              "#7201a8"
             ],
             [
              0.3333333333333333,
              "#9c179e"
             ],
             [
              0.4444444444444444,
              "#bd3786"
             ],
             [
              0.5555555555555556,
              "#d8576b"
             ],
             [
              0.6666666666666666,
              "#ed7953"
             ],
             [
              0.7777777777777778,
              "#fb9f3a"
             ],
             [
              0.8888888888888888,
              "#fdca26"
             ],
             [
              1,
              "#f0f921"
             ]
            ],
            "type": "heatmapgl"
           }
          ],
          "histogram": [
           {
            "marker": {
             "pattern": {
              "fillmode": "overlay",
              "size": 10,
              "solidity": 0.2
             }
            },
            "type": "histogram"
           }
          ],
          "histogram2d": [
           {
            "colorbar": {
             "outlinewidth": 0,
             "ticks": ""
            },
            "colorscale": [
             [
              0,
              "#0d0887"
             ],
             [
              0.1111111111111111,
              "#46039f"
             ],
             [
              0.2222222222222222,
              "#7201a8"
             ],
             [
              0.3333333333333333,
              "#9c179e"
             ],
             [
              0.4444444444444444,
              "#bd3786"
             ],
             [
              0.5555555555555556,
              "#d8576b"
             ],
             [
              0.6666666666666666,
              "#ed7953"
             ],
             [
              0.7777777777777778,
              "#fb9f3a"
             ],
             [
              0.8888888888888888,
              "#fdca26"
             ],
             [
              1,
              "#f0f921"
             ]
            ],
            "type": "histogram2d"
           }
          ],
          "histogram2dcontour": [
           {
            "colorbar": {
             "outlinewidth": 0,
             "ticks": ""
            },
            "colorscale": [
             [
              0,
              "#0d0887"
             ],
             [
              0.1111111111111111,
              "#46039f"
             ],
             [
              0.2222222222222222,
              "#7201a8"
             ],
             [
              0.3333333333333333,
              "#9c179e"
             ],
             [
              0.4444444444444444,
              "#bd3786"
             ],
             [
              0.5555555555555556,
              "#d8576b"
             ],
             [
              0.6666666666666666,
              "#ed7953"
             ],
             [
              0.7777777777777778,
              "#fb9f3a"
             ],
             [
              0.8888888888888888,
              "#fdca26"
             ],
             [
              1,
              "#f0f921"
             ]
            ],
            "type": "histogram2dcontour"
           }
          ],
          "mesh3d": [
           {
            "colorbar": {
             "outlinewidth": 0,
             "ticks": ""
            },
            "type": "mesh3d"
           }
          ],
          "parcoords": [
           {
            "line": {
             "colorbar": {
              "outlinewidth": 0,
              "ticks": ""
             }
            },
            "type": "parcoords"
           }
          ],
          "pie": [
           {
            "automargin": true,
            "type": "pie"
           }
          ],
          "scatter": [
           {
            "fillpattern": {
             "fillmode": "overlay",
             "size": 10,
             "solidity": 0.2
            },
            "type": "scatter"
           }
          ],
          "scatter3d": [
           {
            "line": {
             "colorbar": {
              "outlinewidth": 0,
              "ticks": ""
             }
            },
            "marker": {
             "colorbar": {
              "outlinewidth": 0,
              "ticks": ""
             }
            },
            "type": "scatter3d"
           }
          ],
          "scattercarpet": [
           {
            "marker": {
             "colorbar": {
              "outlinewidth": 0,
              "ticks": ""
             }
            },
            "type": "scattercarpet"
           }
          ],
          "scattergeo": [
           {
            "marker": {
             "colorbar": {
              "outlinewidth": 0,
              "ticks": ""
             }
            },
            "type": "scattergeo"
           }
          ],
          "scattergl": [
           {
            "marker": {
             "colorbar": {
              "outlinewidth": 0,
              "ticks": ""
             }
            },
            "type": "scattergl"
           }
          ],
          "scattermapbox": [
           {
            "marker": {
             "colorbar": {
              "outlinewidth": 0,
              "ticks": ""
             }
            },
            "type": "scattermapbox"
           }
          ],
          "scatterpolar": [
           {
            "marker": {
             "colorbar": {
              "outlinewidth": 0,
              "ticks": ""
             }
            },
            "type": "scatterpolar"
           }
          ],
          "scatterpolargl": [
           {
            "marker": {
             "colorbar": {
              "outlinewidth": 0,
              "ticks": ""
             }
            },
            "type": "scatterpolargl"
           }
          ],
          "scatterternary": [
           {
            "marker": {
             "colorbar": {
              "outlinewidth": 0,
              "ticks": ""
             }
            },
            "type": "scatterternary"
           }
          ],
          "surface": [
           {
            "colorbar": {
             "outlinewidth": 0,
             "ticks": ""
            },
            "colorscale": [
             [
              0,
              "#0d0887"
             ],
             [
              0.1111111111111111,
              "#46039f"
             ],
             [
              0.2222222222222222,
              "#7201a8"
             ],
             [
              0.3333333333333333,
              "#9c179e"
             ],
             [
              0.4444444444444444,
              "#bd3786"
             ],
             [
              0.5555555555555556,
              "#d8576b"
             ],
             [
              0.6666666666666666,
              "#ed7953"
             ],
             [
              0.7777777777777778,
              "#fb9f3a"
             ],
             [
              0.8888888888888888,
              "#fdca26"
             ],
             [
              1,
              "#f0f921"
             ]
            ],
            "type": "surface"
           }
          ],
          "table": [
           {
            "cells": {
             "fill": {
              "color": "#EBF0F8"
             },
             "line": {
              "color": "white"
             }
            },
            "header": {
             "fill": {
              "color": "#C8D4E3"
             },
             "line": {
              "color": "white"
             }
            },
            "type": "table"
           }
          ]
         },
         "layout": {
          "annotationdefaults": {
           "arrowcolor": "#2a3f5f",
           "arrowhead": 0,
           "arrowwidth": 1
          },
          "autotypenumbers": "strict",
          "coloraxis": {
           "colorbar": {
            "outlinewidth": 0,
            "ticks": ""
           }
          },
          "colorscale": {
           "diverging": [
            [
             0,
             "#8e0152"
            ],
            [
             0.1,
             "#c51b7d"
            ],
            [
             0.2,
             "#de77ae"
            ],
            [
             0.3,
             "#f1b6da"
            ],
            [
             0.4,
             "#fde0ef"
            ],
            [
             0.5,
             "#f7f7f7"
            ],
            [
             0.6,
             "#e6f5d0"
            ],
            [
             0.7,
             "#b8e186"
            ],
            [
             0.8,
             "#7fbc41"
            ],
            [
             0.9,
             "#4d9221"
            ],
            [
             1,
             "#276419"
            ]
           ],
           "sequential": [
            [
             0,
             "#0d0887"
            ],
            [
             0.1111111111111111,
             "#46039f"
            ],
            [
             0.2222222222222222,
             "#7201a8"
            ],
            [
             0.3333333333333333,
             "#9c179e"
            ],
            [
             0.4444444444444444,
             "#bd3786"
            ],
            [
             0.5555555555555556,
             "#d8576b"
            ],
            [
             0.6666666666666666,
             "#ed7953"
            ],
            [
             0.7777777777777778,
             "#fb9f3a"
            ],
            [
             0.8888888888888888,
             "#fdca26"
            ],
            [
             1,
             "#f0f921"
            ]
           ],
           "sequentialminus": [
            [
             0,
             "#0d0887"
            ],
            [
             0.1111111111111111,
             "#46039f"
            ],
            [
             0.2222222222222222,
             "#7201a8"
            ],
            [
             0.3333333333333333,
             "#9c179e"
            ],
            [
             0.4444444444444444,
             "#bd3786"
            ],
            [
             0.5555555555555556,
             "#d8576b"
            ],
            [
             0.6666666666666666,
             "#ed7953"
            ],
            [
             0.7777777777777778,
             "#fb9f3a"
            ],
            [
             0.8888888888888888,
             "#fdca26"
            ],
            [
             1,
             "#f0f921"
            ]
           ]
          },
          "colorway": [
           "#636efa",
           "#EF553B",
           "#00cc96",
           "#ab63fa",
           "#FFA15A",
           "#19d3f3",
           "#FF6692",
           "#B6E880",
           "#FF97FF",
           "#FECB52"
          ],
          "font": {
           "color": "#2a3f5f"
          },
          "geo": {
           "bgcolor": "white",
           "lakecolor": "white",
           "landcolor": "#E5ECF6",
           "showlakes": true,
           "showland": true,
           "subunitcolor": "white"
          },
          "hoverlabel": {
           "align": "left"
          },
          "hovermode": "closest",
          "mapbox": {
           "style": "light"
          },
          "paper_bgcolor": "white",
          "plot_bgcolor": "#E5ECF6",
          "polar": {
           "angularaxis": {
            "gridcolor": "white",
            "linecolor": "white",
            "ticks": ""
           },
           "bgcolor": "#E5ECF6",
           "radialaxis": {
            "gridcolor": "white",
            "linecolor": "white",
            "ticks": ""
           }
          },
          "scene": {
           "xaxis": {
            "backgroundcolor": "#E5ECF6",
            "gridcolor": "white",
            "gridwidth": 2,
            "linecolor": "white",
            "showbackground": true,
            "ticks": "",
            "zerolinecolor": "white"
           },
           "yaxis": {
            "backgroundcolor": "#E5ECF6",
            "gridcolor": "white",
            "gridwidth": 2,
            "linecolor": "white",
            "showbackground": true,
            "ticks": "",
            "zerolinecolor": "white"
           },
           "zaxis": {
            "backgroundcolor": "#E5ECF6",
            "gridcolor": "white",
            "gridwidth": 2,
            "linecolor": "white",
            "showbackground": true,
            "ticks": "",
            "zerolinecolor": "white"
           }
          },
          "shapedefaults": {
           "line": {
            "color": "#2a3f5f"
           }
          },
          "ternary": {
           "aaxis": {
            "gridcolor": "white",
            "linecolor": "white",
            "ticks": ""
           },
           "baxis": {
            "gridcolor": "white",
            "linecolor": "white",
            "ticks": ""
           },
           "bgcolor": "#E5ECF6",
           "caxis": {
            "gridcolor": "white",
            "linecolor": "white",
            "ticks": ""
           }
          },
          "title": {
           "x": 0.05
          },
          "xaxis": {
           "automargin": true,
           "gridcolor": "white",
           "linecolor": "white",
           "ticks": "",
           "title": {
            "standoff": 15
           },
           "zerolinecolor": "white",
           "zerolinewidth": 2
          },
          "yaxis": {
           "automargin": true,
           "gridcolor": "white",
           "linecolor": "white",
           "ticks": "",
           "title": {
            "standoff": 15
           },
           "zerolinecolor": "white",
           "zerolinewidth": 2
          }
         }
        },
        "title": {
         "text": "Percentage of Negative Data Points in Each Sensor Data File"
        },
        "xaxis": {
         "anchor": "y",
         "domain": [
          0,
          0.45
         ]
        },
        "xaxis2": {
         "anchor": "y2",
         "domain": [
          0.55,
          1
         ]
        },
        "yaxis": {
         "anchor": "x",
         "domain": [
          0,
          1
         ]
        },
        "yaxis2": {
         "anchor": "x2",
         "domain": [
          0,
          1
         ]
        }
       }
      },
      "text/html": [
       "<div>                            <div id=\"4919e150-158e-443f-8ab6-64b6aa66bef8\" class=\"plotly-graph-div\" style=\"height:525px; width:100%;\"></div>            <script type=\"text/javascript\">                require([\"plotly\"], function(Plotly) {                    window.PLOTLYENV=window.PLOTLYENV || {};                                    if (document.getElementById(\"4919e150-158e-443f-8ab6-64b6aa66bef8\")) {                    Plotly.newPlot(                        \"4919e150-158e-443f-8ab6-64b6aa66bef8\",                        [{\"x\":[\"01.tsv\",\"02.tsv\",\"03.tsv\",\"04.tsv\",\"05.tsv\",\"06.tsv\",\"07.tsv\",\"08.tsv\",\"09.tsv\",\"10.tsv\",\"11.tsv\",\"12.tsv\",\"13.tsv\",\"14.tsv\"],\"y\":[0.0,0.0889759373251259,0.0,0.037178786221979225,0.271484375,0.48816412414518673,0.0,0.3245334547109695,0.0,0.0,0.30975954738330974,0.0,0.4084507042253521,0.0],\"type\":\"bar\"}],                        {\"template\":{\"data\":{\"histogram2dcontour\":[{\"type\":\"histogram2dcontour\",\"colorbar\":{\"outlinewidth\":0,\"ticks\":\"\"},\"colorscale\":[[0.0,\"#0d0887\"],[0.1111111111111111,\"#46039f\"],[0.2222222222222222,\"#7201a8\"],[0.3333333333333333,\"#9c179e\"],[0.4444444444444444,\"#bd3786\"],[0.5555555555555556,\"#d8576b\"],[0.6666666666666666,\"#ed7953\"],[0.7777777777777778,\"#fb9f3a\"],[0.8888888888888888,\"#fdca26\"],[1.0,\"#f0f921\"]]}],\"choropleth\":[{\"type\":\"choropleth\",\"colorbar\":{\"outlinewidth\":0,\"ticks\":\"\"}}],\"histogram2d\":[{\"type\":\"histogram2d\",\"colorbar\":{\"outlinewidth\":0,\"ticks\":\"\"},\"colorscale\":[[0.0,\"#0d0887\"],[0.1111111111111111,\"#46039f\"],[0.2222222222222222,\"#7201a8\"],[0.3333333333333333,\"#9c179e\"],[0.4444444444444444,\"#bd3786\"],[0.5555555555555556,\"#d8576b\"],[0.6666666666666666,\"#ed7953\"],[0.7777777777777778,\"#fb9f3a\"],[0.8888888888888888,\"#fdca26\"],[1.0,\"#f0f921\"]]}],\"heatmap\":[{\"type\":\"heatmap\",\"colorbar\":{\"outlinewidth\":0,\"ticks\":\"\"},\"colorscale\":[[0.0,\"#0d0887\"],[0.1111111111111111,\"#46039f\"],[0.2222222222222222,\"#7201a8\"],[0.3333333333333333,\"#9c179e\"],[0.4444444444444444,\"#bd3786\"],[0.5555555555555556,\"#d8576b\"],[0.6666666666666666,\"#ed7953\"],[0.7777777777777778,\"#fb9f3a\"],[0.8888888888888888,\"#fdca26\"],[1.0,\"#f0f921\"]]}],\"heatmapgl\":[{\"type\":\"heatmapgl\",\"colorbar\":{\"outlinewidth\":0,\"ticks\":\"\"},\"colorscale\":[[0.0,\"#0d0887\"],[0.1111111111111111,\"#46039f\"],[0.2222222222222222,\"#7201a8\"],[0.3333333333333333,\"#9c179e\"],[0.4444444444444444,\"#bd3786\"],[0.5555555555555556,\"#d8576b\"],[0.6666666666666666,\"#ed7953\"],[0.7777777777777778,\"#fb9f3a\"],[0.8888888888888888,\"#fdca26\"],[1.0,\"#f0f921\"]]}],\"contourcarpet\":[{\"type\":\"contourcarpet\",\"colorbar\":{\"outlinewidth\":0,\"ticks\":\"\"}}],\"contour\":[{\"type\":\"contour\",\"colorbar\":{\"outlinewidth\":0,\"ticks\":\"\"},\"colorscale\":[[0.0,\"#0d0887\"],[0.1111111111111111,\"#46039f\"],[0.2222222222222222,\"#7201a8\"],[0.3333333333333333,\"#9c179e\"],[0.4444444444444444,\"#bd3786\"],[0.5555555555555556,\"#d8576b\"],[0.6666666666666666,\"#ed7953\"],[0.7777777777777778,\"#fb9f3a\"],[0.8888888888888888,\"#fdca26\"],[1.0,\"#f0f921\"]]}],\"surface\":[{\"type\":\"surface\",\"colorbar\":{\"outlinewidth\":0,\"ticks\":\"\"},\"colorscale\":[[0.0,\"#0d0887\"],[0.1111111111111111,\"#46039f\"],[0.2222222222222222,\"#7201a8\"],[0.3333333333333333,\"#9c179e\"],[0.4444444444444444,\"#bd3786\"],[0.5555555555555556,\"#d8576b\"],[0.6666666666666666,\"#ed7953\"],[0.7777777777777778,\"#fb9f3a\"],[0.8888888888888888,\"#fdca26\"],[1.0,\"#f0f921\"]]}],\"mesh3d\":[{\"type\":\"mesh3d\",\"colorbar\":{\"outlinewidth\":0,\"ticks\":\"\"}}],\"scatter\":[{\"fillpattern\":{\"fillmode\":\"overlay\",\"size\":10,\"solidity\":0.2},\"type\":\"scatter\"}],\"parcoords\":[{\"type\":\"parcoords\",\"line\":{\"colorbar\":{\"outlinewidth\":0,\"ticks\":\"\"}}}],\"scatterpolargl\":[{\"type\":\"scatterpolargl\",\"marker\":{\"colorbar\":{\"outlinewidth\":0,\"ticks\":\"\"}}}],\"bar\":[{\"error_x\":{\"color\":\"#2a3f5f\"},\"error_y\":{\"color\":\"#2a3f5f\"},\"marker\":{\"line\":{\"color\":\"#E5ECF6\",\"width\":0.5},\"pattern\":{\"fillmode\":\"overlay\",\"size\":10,\"solidity\":0.2}},\"type\":\"bar\"}],\"scattergeo\":[{\"type\":\"scattergeo\",\"marker\":{\"colorbar\":{\"outlinewidth\":0,\"ticks\":\"\"}}}],\"scatterpolar\":[{\"type\":\"scatterpolar\",\"marker\":{\"colorbar\":{\"outlinewidth\":0,\"ticks\":\"\"}}}],\"histogram\":[{\"marker\":{\"pattern\":{\"fillmode\":\"overlay\",\"size\":10,\"solidity\":0.2}},\"type\":\"histogram\"}],\"scattergl\":[{\"type\":\"scattergl\",\"marker\":{\"colorbar\":{\"outlinewidth\":0,\"ticks\":\"\"}}}],\"scatter3d\":[{\"type\":\"scatter3d\",\"line\":{\"colorbar\":{\"outlinewidth\":0,\"ticks\":\"\"}},\"marker\":{\"colorbar\":{\"outlinewidth\":0,\"ticks\":\"\"}}}],\"scattermapbox\":[{\"type\":\"scattermapbox\",\"marker\":{\"colorbar\":{\"outlinewidth\":0,\"ticks\":\"\"}}}],\"scatterternary\":[{\"type\":\"scatterternary\",\"marker\":{\"colorbar\":{\"outlinewidth\":0,\"ticks\":\"\"}}}],\"scattercarpet\":[{\"type\":\"scattercarpet\",\"marker\":{\"colorbar\":{\"outlinewidth\":0,\"ticks\":\"\"}}}],\"carpet\":[{\"aaxis\":{\"endlinecolor\":\"#2a3f5f\",\"gridcolor\":\"white\",\"linecolor\":\"white\",\"minorgridcolor\":\"white\",\"startlinecolor\":\"#2a3f5f\"},\"baxis\":{\"endlinecolor\":\"#2a3f5f\",\"gridcolor\":\"white\",\"linecolor\":\"white\",\"minorgridcolor\":\"white\",\"startlinecolor\":\"#2a3f5f\"},\"type\":\"carpet\"}],\"table\":[{\"cells\":{\"fill\":{\"color\":\"#EBF0F8\"},\"line\":{\"color\":\"white\"}},\"header\":{\"fill\":{\"color\":\"#C8D4E3\"},\"line\":{\"color\":\"white\"}},\"type\":\"table\"}],\"barpolar\":[{\"marker\":{\"line\":{\"color\":\"#E5ECF6\",\"width\":0.5},\"pattern\":{\"fillmode\":\"overlay\",\"size\":10,\"solidity\":0.2}},\"type\":\"barpolar\"}],\"pie\":[{\"automargin\":true,\"type\":\"pie\"}]},\"layout\":{\"autotypenumbers\":\"strict\",\"colorway\":[\"#636efa\",\"#EF553B\",\"#00cc96\",\"#ab63fa\",\"#FFA15A\",\"#19d3f3\",\"#FF6692\",\"#B6E880\",\"#FF97FF\",\"#FECB52\"],\"font\":{\"color\":\"#2a3f5f\"},\"hovermode\":\"closest\",\"hoverlabel\":{\"align\":\"left\"},\"paper_bgcolor\":\"white\",\"plot_bgcolor\":\"#E5ECF6\",\"polar\":{\"bgcolor\":\"#E5ECF6\",\"angularaxis\":{\"gridcolor\":\"white\",\"linecolor\":\"white\",\"ticks\":\"\"},\"radialaxis\":{\"gridcolor\":\"white\",\"linecolor\":\"white\",\"ticks\":\"\"}},\"ternary\":{\"bgcolor\":\"#E5ECF6\",\"aaxis\":{\"gridcolor\":\"white\",\"linecolor\":\"white\",\"ticks\":\"\"},\"baxis\":{\"gridcolor\":\"white\",\"linecolor\":\"white\",\"ticks\":\"\"},\"caxis\":{\"gridcolor\":\"white\",\"linecolor\":\"white\",\"ticks\":\"\"}},\"coloraxis\":{\"colorbar\":{\"outlinewidth\":0,\"ticks\":\"\"}},\"colorscale\":{\"sequential\":[[0.0,\"#0d0887\"],[0.1111111111111111,\"#46039f\"],[0.2222222222222222,\"#7201a8\"],[0.3333333333333333,\"#9c179e\"],[0.4444444444444444,\"#bd3786\"],[0.5555555555555556,\"#d8576b\"],[0.6666666666666666,\"#ed7953\"],[0.7777777777777778,\"#fb9f3a\"],[0.8888888888888888,\"#fdca26\"],[1.0,\"#f0f921\"]],\"sequentialminus\":[[0.0,\"#0d0887\"],[0.1111111111111111,\"#46039f\"],[0.2222222222222222,\"#7201a8\"],[0.3333333333333333,\"#9c179e\"],[0.4444444444444444,\"#bd3786\"],[0.5555555555555556,\"#d8576b\"],[0.6666666666666666,\"#ed7953\"],[0.7777777777777778,\"#fb9f3a\"],[0.8888888888888888,\"#fdca26\"],[1.0,\"#f0f921\"]],\"diverging\":[[0,\"#8e0152\"],[0.1,\"#c51b7d\"],[0.2,\"#de77ae\"],[0.3,\"#f1b6da\"],[0.4,\"#fde0ef\"],[0.5,\"#f7f7f7\"],[0.6,\"#e6f5d0\"],[0.7,\"#b8e186\"],[0.8,\"#7fbc41\"],[0.9,\"#4d9221\"],[1,\"#276419\"]]},\"xaxis\":{\"gridcolor\":\"white\",\"linecolor\":\"white\",\"ticks\":\"\",\"title\":{\"standoff\":15},\"zerolinecolor\":\"white\",\"automargin\":true,\"zerolinewidth\":2},\"yaxis\":{\"gridcolor\":\"white\",\"linecolor\":\"white\",\"ticks\":\"\",\"title\":{\"standoff\":15},\"zerolinecolor\":\"white\",\"automargin\":true,\"zerolinewidth\":2},\"scene\":{\"xaxis\":{\"backgroundcolor\":\"#E5ECF6\",\"gridcolor\":\"white\",\"linecolor\":\"white\",\"showbackground\":true,\"ticks\":\"\",\"zerolinecolor\":\"white\",\"gridwidth\":2},\"yaxis\":{\"backgroundcolor\":\"#E5ECF6\",\"gridcolor\":\"white\",\"linecolor\":\"white\",\"showbackground\":true,\"ticks\":\"\",\"zerolinecolor\":\"white\",\"gridwidth\":2},\"zaxis\":{\"backgroundcolor\":\"#E5ECF6\",\"gridcolor\":\"white\",\"linecolor\":\"white\",\"showbackground\":true,\"ticks\":\"\",\"zerolinecolor\":\"white\",\"gridwidth\":2}},\"shapedefaults\":{\"line\":{\"color\":\"#2a3f5f\"}},\"annotationdefaults\":{\"arrowcolor\":\"#2a3f5f\",\"arrowhead\":0,\"arrowwidth\":1},\"geo\":{\"bgcolor\":\"white\",\"landcolor\":\"#E5ECF6\",\"subunitcolor\":\"white\",\"showland\":true,\"showlakes\":true,\"lakecolor\":\"white\"},\"title\":{\"x\":0.05},\"mapbox\":{\"style\":\"light\"}}},\"title\":{\"text\":\"Percentage of negative Hydrate Saturation points in each sensor data file\"}},                        {\"responsive\": true}                    ).then(function(){\n",
       "                            \n",
       "var gd = document.getElementById('4919e150-158e-443f-8ab6-64b6aa66bef8');\n",
       "var x = new MutationObserver(function (mutations, observer) {{\n",
       "        var display = window.getComputedStyle(gd).display;\n",
       "        if (!display || display === 'none') {{\n",
       "            console.log([gd, 'removed!']);\n",
       "            Plotly.purge(gd);\n",
       "            observer.disconnect();\n",
       "        }}\n",
       "}});\n",
       "\n",
       "// Listen for the removal of the full notebook cells\n",
       "var notebookContainer = gd.closest('#notebook-container');\n",
       "if (notebookContainer) {{\n",
       "    x.observe(notebookContainer, {childList: true});\n",
       "}}\n",
       "\n",
       "// Listen for the clearing of the current output cell\n",
       "var outputEl = gd.closest('.output');\n",
       "if (outputEl) {{\n",
       "    x.observe(outputEl, {childList: true});\n",
       "}}\n",
       "\n",
       "                        })                };                });            </script>        </div>"
      ]
     },
     "metadata": {},
     "output_type": "display_data"
    },
    {
     "data": {
      "text/plain": [
       "22903"
      ]
     },
     "execution_count": 20,
     "metadata": {},
     "output_type": "execute_result"
    }
   ],
   "source": [
    "import plotly.graph_objects as go\n",
    "from plotly.subplots import make_subplots\n",
    "\n",
    "def calculate_negative_percentage(sensor_data_list, key):\n",
    "    \"\"\"\n",
    "    Calculate the percentage of negative values for a given key in each sensor data list.\n",
    "    \"\"\"\n",
    "    negative_percentages = []\n",
    "    for sensor_data in sensor_data_list:\n",
    "        condition = (sensor_data[key] < 0)\n",
    "        negative_percentages.append(100 * len(sensor_data[condition]) / len(sensor_data))\n",
    "    return negative_percentages\n",
    "\n",
    "# Calculate negative percentages for both keys\n",
    "hydrate_negative = calculate_negative_percentage(sensor_data_list, 'Hydrate Saturation')\n",
    "porosity_negative = calculate_negative_percentage(sensor_data_list, 'Porosity')\n",
    "\n",
    "# Create subplots\n",
    "fig = make_subplots(rows=1, cols=2, subplot_titles=('Hydrate Saturation (%)', 'Porosity (%)'))\n",
    "\n",
    "# Add data to subplots\n",
    "fig.add_trace(go.Bar(x=sensor_data_files, y=hydrate_negative, name='Hydrate Saturation'), row=1, col=1)\n",
    "fig.add_trace(go.Bar(x=sensor_data_files, y=porosity_negative, name='Porosity'), row=1, col=2)\n",
    "\n",
    "# Update layout and display the figure\n",
    "fig.update_layout(title_text='Percentage of Negative Data Points in Each Sensor Data File', showlegend=False)\n",
    "fig.show()\n",
    "\n",
    "# Calculate total data points in the sensor data\n",
    "total_data_points = sum(len(sensor_data) for sensor_data in sensor_data_list)\n",
    "print(\"Total data points:\", total_data_points)\n"
   ]
  },
  {
   "cell_type": "code",
   "execution_count": 21,
   "metadata": {},
   "outputs": [
    {
     "data": {
      "application/vnd.plotly.v1+json": {
       "config": {
        "plotlyServerURL": "https://plot.ly"
       },
       "data": [
        {
         "type": "bar",
         "x": [
          "01.tsv",
          "02.tsv",
          "03.tsv",
          "04.tsv",
          "05.tsv",
          "06.tsv",
          "07.tsv",
          "08.tsv",
          "09.tsv",
          "10.tsv",
          "11.tsv",
          "12.tsv",
          "13.tsv",
          "14.tsv"
         ],
         "y": [
          0,
          0,
          0,
          0,
          0,
          0,
          0,
          0,
          0,
          0,
          0,
          0,
          0,
          0
         ]
        }
       ],
       "layout": {
        "template": {
         "data": {
          "bar": [
           {
            "error_x": {
             "color": "#2a3f5f"
            },
            "error_y": {
             "color": "#2a3f5f"
            },
            "marker": {
             "line": {
              "color": "#E5ECF6",
              "width": 0.5
             },
             "pattern": {
              "fillmode": "overlay",
              "size": 10,
              "solidity": 0.2
             }
            },
            "type": "bar"
           }
          ],
          "barpolar": [
           {
            "marker": {
             "line": {
              "color": "#E5ECF6",
              "width": 0.5
             },
             "pattern": {
              "fillmode": "overlay",
              "size": 10,
              "solidity": 0.2
             }
            },
            "type": "barpolar"
           }
          ],
          "carpet": [
           {
            "aaxis": {
             "endlinecolor": "#2a3f5f",
             "gridcolor": "white",
             "linecolor": "white",
             "minorgridcolor": "white",
             "startlinecolor": "#2a3f5f"
            },
            "baxis": {
             "endlinecolor": "#2a3f5f",
             "gridcolor": "white",
             "linecolor": "white",
             "minorgridcolor": "white",
             "startlinecolor": "#2a3f5f"
            },
            "type": "carpet"
           }
          ],
          "choropleth": [
           {
            "colorbar": {
             "outlinewidth": 0,
             "ticks": ""
            },
            "type": "choropleth"
           }
          ],
          "contour": [
           {
            "colorbar": {
             "outlinewidth": 0,
             "ticks": ""
            },
            "colorscale": [
             [
              0,
              "#0d0887"
             ],
             [
              0.1111111111111111,
              "#46039f"
             ],
             [
              0.2222222222222222,
              "#7201a8"
             ],
             [
              0.3333333333333333,
              "#9c179e"
             ],
             [
              0.4444444444444444,
              "#bd3786"
             ],
             [
              0.5555555555555556,
              "#d8576b"
             ],
             [
              0.6666666666666666,
              "#ed7953"
             ],
             [
              0.7777777777777778,
              "#fb9f3a"
             ],
             [
              0.8888888888888888,
              "#fdca26"
             ],
             [
              1,
              "#f0f921"
             ]
            ],
            "type": "contour"
           }
          ],
          "contourcarpet": [
           {
            "colorbar": {
             "outlinewidth": 0,
             "ticks": ""
            },
            "type": "contourcarpet"
           }
          ],
          "heatmap": [
           {
            "colorbar": {
             "outlinewidth": 0,
             "ticks": ""
            },
            "colorscale": [
             [
              0,
              "#0d0887"
             ],
             [
              0.1111111111111111,
              "#46039f"
             ],
             [
              0.2222222222222222,
              "#7201a8"
             ],
             [
              0.3333333333333333,
              "#9c179e"
             ],
             [
              0.4444444444444444,
              "#bd3786"
             ],
             [
              0.5555555555555556,
              "#d8576b"
             ],
             [
              0.6666666666666666,
              "#ed7953"
             ],
             [
              0.7777777777777778,
              "#fb9f3a"
             ],
             [
              0.8888888888888888,
              "#fdca26"
             ],
             [
              1,
              "#f0f921"
             ]
            ],
            "type": "heatmap"
           }
          ],
          "heatmapgl": [
           {
            "colorbar": {
             "outlinewidth": 0,
             "ticks": ""
            },
            "colorscale": [
             [
              0,
              "#0d0887"
             ],
             [
              0.1111111111111111,
              "#46039f"
             ],
             [
              0.2222222222222222,
              "#7201a8"
             ],
             [
              0.3333333333333333,
              "#9c179e"
             ],
             [
              0.4444444444444444,
              "#bd3786"
             ],
             [
              0.5555555555555556,
              "#d8576b"
             ],
             [
              0.6666666666666666,
              "#ed7953"
             ],
             [
              0.7777777777777778,
              "#fb9f3a"
             ],
             [
              0.8888888888888888,
              "#fdca26"
             ],
             [
              1,
              "#f0f921"
             ]
            ],
            "type": "heatmapgl"
           }
          ],
          "histogram": [
           {
            "marker": {
             "pattern": {
              "fillmode": "overlay",
              "size": 10,
              "solidity": 0.2
             }
            },
            "type": "histogram"
           }
          ],
          "histogram2d": [
           {
            "colorbar": {
             "outlinewidth": 0,
             "ticks": ""
            },
            "colorscale": [
             [
              0,
              "#0d0887"
             ],
             [
              0.1111111111111111,
              "#46039f"
             ],
             [
              0.2222222222222222,
              "#7201a8"
             ],
             [
              0.3333333333333333,
              "#9c179e"
             ],
             [
              0.4444444444444444,
              "#bd3786"
             ],
             [
              0.5555555555555556,
              "#d8576b"
             ],
             [
              0.6666666666666666,
              "#ed7953"
             ],
             [
              0.7777777777777778,
              "#fb9f3a"
             ],
             [
              0.8888888888888888,
              "#fdca26"
             ],
             [
              1,
              "#f0f921"
             ]
            ],
            "type": "histogram2d"
           }
          ],
          "histogram2dcontour": [
           {
            "colorbar": {
             "outlinewidth": 0,
             "ticks": ""
            },
            "colorscale": [
             [
              0,
              "#0d0887"
             ],
             [
              0.1111111111111111,
              "#46039f"
             ],
             [
              0.2222222222222222,
              "#7201a8"
             ],
             [
              0.3333333333333333,
              "#9c179e"
             ],
             [
              0.4444444444444444,
              "#bd3786"
             ],
             [
              0.5555555555555556,
              "#d8576b"
             ],
             [
              0.6666666666666666,
              "#ed7953"
             ],
             [
              0.7777777777777778,
              "#fb9f3a"
             ],
             [
              0.8888888888888888,
              "#fdca26"
             ],
             [
              1,
              "#f0f921"
             ]
            ],
            "type": "histogram2dcontour"
           }
          ],
          "mesh3d": [
           {
            "colorbar": {
             "outlinewidth": 0,
             "ticks": ""
            },
            "type": "mesh3d"
           }
          ],
          "parcoords": [
           {
            "line": {
             "colorbar": {
              "outlinewidth": 0,
              "ticks": ""
             }
            },
            "type": "parcoords"
           }
          ],
          "pie": [
           {
            "automargin": true,
            "type": "pie"
           }
          ],
          "scatter": [
           {
            "fillpattern": {
             "fillmode": "overlay",
             "size": 10,
             "solidity": 0.2
            },
            "type": "scatter"
           }
          ],
          "scatter3d": [
           {
            "line": {
             "colorbar": {
              "outlinewidth": 0,
              "ticks": ""
             }
            },
            "marker": {
             "colorbar": {
              "outlinewidth": 0,
              "ticks": ""
             }
            },
            "type": "scatter3d"
           }
          ],
          "scattercarpet": [
           {
            "marker": {
             "colorbar": {
              "outlinewidth": 0,
              "ticks": ""
             }
            },
            "type": "scattercarpet"
           }
          ],
          "scattergeo": [
           {
            "marker": {
             "colorbar": {
              "outlinewidth": 0,
              "ticks": ""
             }
            },
            "type": "scattergeo"
           }
          ],
          "scattergl": [
           {
            "marker": {
             "colorbar": {
              "outlinewidth": 0,
              "ticks": ""
             }
            },
            "type": "scattergl"
           }
          ],
          "scattermapbox": [
           {
            "marker": {
             "colorbar": {
              "outlinewidth": 0,
              "ticks": ""
             }
            },
            "type": "scattermapbox"
           }
          ],
          "scatterpolar": [
           {
            "marker": {
             "colorbar": {
              "outlinewidth": 0,
              "ticks": ""
             }
            },
            "type": "scatterpolar"
           }
          ],
          "scatterpolargl": [
           {
            "marker": {
             "colorbar": {
              "outlinewidth": 0,
              "ticks": ""
             }
            },
            "type": "scatterpolargl"
           }
          ],
          "scatterternary": [
           {
            "marker": {
             "colorbar": {
              "outlinewidth": 0,
              "ticks": ""
             }
            },
            "type": "scatterternary"
           }
          ],
          "surface": [
           {
            "colorbar": {
             "outlinewidth": 0,
             "ticks": ""
            },
            "colorscale": [
             [
              0,
              "#0d0887"
             ],
             [
              0.1111111111111111,
              "#46039f"
             ],
             [
              0.2222222222222222,
              "#7201a8"
             ],
             [
              0.3333333333333333,
              "#9c179e"
             ],
             [
              0.4444444444444444,
              "#bd3786"
             ],
             [
              0.5555555555555556,
              "#d8576b"
             ],
             [
              0.6666666666666666,
              "#ed7953"
             ],
             [
              0.7777777777777778,
              "#fb9f3a"
             ],
             [
              0.8888888888888888,
              "#fdca26"
             ],
             [
              1,
              "#f0f921"
             ]
            ],
            "type": "surface"
           }
          ],
          "table": [
           {
            "cells": {
             "fill": {
              "color": "#EBF0F8"
             },
             "line": {
              "color": "white"
             }
            },
            "header": {
             "fill": {
              "color": "#C8D4E3"
             },
             "line": {
              "color": "white"
             }
            },
            "type": "table"
           }
          ]
         },
         "layout": {
          "annotationdefaults": {
           "arrowcolor": "#2a3f5f",
           "arrowhead": 0,
           "arrowwidth": 1
          },
          "autotypenumbers": "strict",
          "coloraxis": {
           "colorbar": {
            "outlinewidth": 0,
            "ticks": ""
           }
          },
          "colorscale": {
           "diverging": [
            [
             0,
             "#8e0152"
            ],
            [
             0.1,
             "#c51b7d"
            ],
            [
             0.2,
             "#de77ae"
            ],
            [
             0.3,
             "#f1b6da"
            ],
            [
             0.4,
             "#fde0ef"
            ],
            [
             0.5,
             "#f7f7f7"
            ],
            [
             0.6,
             "#e6f5d0"
            ],
            [
             0.7,
             "#b8e186"
            ],
            [
             0.8,
             "#7fbc41"
            ],
            [
             0.9,
             "#4d9221"
            ],
            [
             1,
             "#276419"
            ]
           ],
           "sequential": [
            [
             0,
             "#0d0887"
            ],
            [
             0.1111111111111111,
             "#46039f"
            ],
            [
             0.2222222222222222,
             "#7201a8"
            ],
            [
             0.3333333333333333,
             "#9c179e"
            ],
            [
             0.4444444444444444,
             "#bd3786"
            ],
            [
             0.5555555555555556,
             "#d8576b"
            ],
            [
             0.6666666666666666,
             "#ed7953"
            ],
            [
             0.7777777777777778,
             "#fb9f3a"
            ],
            [
             0.8888888888888888,
             "#fdca26"
            ],
            [
             1,
             "#f0f921"
            ]
           ],
           "sequentialminus": [
            [
             0,
             "#0d0887"
            ],
            [
             0.1111111111111111,
             "#46039f"
            ],
            [
             0.2222222222222222,
             "#7201a8"
            ],
            [
             0.3333333333333333,
             "#9c179e"
            ],
            [
             0.4444444444444444,
             "#bd3786"
            ],
            [
             0.5555555555555556,
             "#d8576b"
            ],
            [
             0.6666666666666666,
             "#ed7953"
            ],
            [
             0.7777777777777778,
             "#fb9f3a"
            ],
            [
             0.8888888888888888,
             "#fdca26"
            ],
            [
             1,
             "#f0f921"
            ]
           ]
          },
          "colorway": [
           "#636efa",
           "#EF553B",
           "#00cc96",
           "#ab63fa",
           "#FFA15A",
           "#19d3f3",
           "#FF6692",
           "#B6E880",
           "#FF97FF",
           "#FECB52"
          ],
          "font": {
           "color": "#2a3f5f"
          },
          "geo": {
           "bgcolor": "white",
           "lakecolor": "white",
           "landcolor": "#E5ECF6",
           "showlakes": true,
           "showland": true,
           "subunitcolor": "white"
          },
          "hoverlabel": {
           "align": "left"
          },
          "hovermode": "closest",
          "mapbox": {
           "style": "light"
          },
          "paper_bgcolor": "white",
          "plot_bgcolor": "#E5ECF6",
          "polar": {
           "angularaxis": {
            "gridcolor": "white",
            "linecolor": "white",
            "ticks": ""
           },
           "bgcolor": "#E5ECF6",
           "radialaxis": {
            "gridcolor": "white",
            "linecolor": "white",
            "ticks": ""
           }
          },
          "scene": {
           "xaxis": {
            "backgroundcolor": "#E5ECF6",
            "gridcolor": "white",
            "gridwidth": 2,
            "linecolor": "white",
            "showbackground": true,
            "ticks": "",
            "zerolinecolor": "white"
           },
           "yaxis": {
            "backgroundcolor": "#E5ECF6",
            "gridcolor": "white",
            "gridwidth": 2,
            "linecolor": "white",
            "showbackground": true,
            "ticks": "",
            "zerolinecolor": "white"
           },
           "zaxis": {
            "backgroundcolor": "#E5ECF6",
            "gridcolor": "white",
            "gridwidth": 2,
            "linecolor": "white",
            "showbackground": true,
            "ticks": "",
            "zerolinecolor": "white"
           }
          },
          "shapedefaults": {
           "line": {
            "color": "#2a3f5f"
           }
          },
          "ternary": {
           "aaxis": {
            "gridcolor": "white",
            "linecolor": "white",
            "ticks": ""
           },
           "baxis": {
            "gridcolor": "white",
            "linecolor": "white",
            "ticks": ""
           },
           "bgcolor": "#E5ECF6",
           "caxis": {
            "gridcolor": "white",
            "linecolor": "white",
            "ticks": ""
           }
          },
          "title": {
           "x": 0.05
          },
          "xaxis": {
           "automargin": true,
           "gridcolor": "white",
           "linecolor": "white",
           "ticks": "",
           "title": {
            "standoff": 15
           },
           "zerolinecolor": "white",
           "zerolinewidth": 2
          },
          "yaxis": {
           "automargin": true,
           "gridcolor": "white",
           "linecolor": "white",
           "ticks": "",
           "title": {
            "standoff": 15
           },
           "zerolinecolor": "white",
           "zerolinewidth": 2
          }
         }
        },
        "title": {
         "text": "Percentage of negative Porosity data points in each sensor data file"
        }
       }
      },
      "text/html": [
       "<div>                            <div id=\"b97b251b-efcc-43e0-b6d3-17ea0e4523c8\" class=\"plotly-graph-div\" style=\"height:525px; width:100%;\"></div>            <script type=\"text/javascript\">                require([\"plotly\"], function(Plotly) {                    window.PLOTLYENV=window.PLOTLYENV || {};                                    if (document.getElementById(\"b97b251b-efcc-43e0-b6d3-17ea0e4523c8\")) {                    Plotly.newPlot(                        \"b97b251b-efcc-43e0-b6d3-17ea0e4523c8\",                        [{\"x\":[\"01.tsv\",\"02.tsv\",\"03.tsv\",\"04.tsv\",\"05.tsv\",\"06.tsv\",\"07.tsv\",\"08.tsv\",\"09.tsv\",\"10.tsv\",\"11.tsv\",\"12.tsv\",\"13.tsv\",\"14.tsv\"],\"y\":[0.0,0.0,0.0,0.0,0.0,0.0,0.0,0.0,0.0,0.0,0.0,0.0,0.0,0.0],\"type\":\"bar\"}],                        {\"template\":{\"data\":{\"histogram2dcontour\":[{\"type\":\"histogram2dcontour\",\"colorbar\":{\"outlinewidth\":0,\"ticks\":\"\"},\"colorscale\":[[0.0,\"#0d0887\"],[0.1111111111111111,\"#46039f\"],[0.2222222222222222,\"#7201a8\"],[0.3333333333333333,\"#9c179e\"],[0.4444444444444444,\"#bd3786\"],[0.5555555555555556,\"#d8576b\"],[0.6666666666666666,\"#ed7953\"],[0.7777777777777778,\"#fb9f3a\"],[0.8888888888888888,\"#fdca26\"],[1.0,\"#f0f921\"]]}],\"choropleth\":[{\"type\":\"choropleth\",\"colorbar\":{\"outlinewidth\":0,\"ticks\":\"\"}}],\"histogram2d\":[{\"type\":\"histogram2d\",\"colorbar\":{\"outlinewidth\":0,\"ticks\":\"\"},\"colorscale\":[[0.0,\"#0d0887\"],[0.1111111111111111,\"#46039f\"],[0.2222222222222222,\"#7201a8\"],[0.3333333333333333,\"#9c179e\"],[0.4444444444444444,\"#bd3786\"],[0.5555555555555556,\"#d8576b\"],[0.6666666666666666,\"#ed7953\"],[0.7777777777777778,\"#fb9f3a\"],[0.8888888888888888,\"#fdca26\"],[1.0,\"#f0f921\"]]}],\"heatmap\":[{\"type\":\"heatmap\",\"colorbar\":{\"outlinewidth\":0,\"ticks\":\"\"},\"colorscale\":[[0.0,\"#0d0887\"],[0.1111111111111111,\"#46039f\"],[0.2222222222222222,\"#7201a8\"],[0.3333333333333333,\"#9c179e\"],[0.4444444444444444,\"#bd3786\"],[0.5555555555555556,\"#d8576b\"],[0.6666666666666666,\"#ed7953\"],[0.7777777777777778,\"#fb9f3a\"],[0.8888888888888888,\"#fdca26\"],[1.0,\"#f0f921\"]]}],\"heatmapgl\":[{\"type\":\"heatmapgl\",\"colorbar\":{\"outlinewidth\":0,\"ticks\":\"\"},\"colorscale\":[[0.0,\"#0d0887\"],[0.1111111111111111,\"#46039f\"],[0.2222222222222222,\"#7201a8\"],[0.3333333333333333,\"#9c179e\"],[0.4444444444444444,\"#bd3786\"],[0.5555555555555556,\"#d8576b\"],[0.6666666666666666,\"#ed7953\"],[0.7777777777777778,\"#fb9f3a\"],[0.8888888888888888,\"#fdca26\"],[1.0,\"#f0f921\"]]}],\"contourcarpet\":[{\"type\":\"contourcarpet\",\"colorbar\":{\"outlinewidth\":0,\"ticks\":\"\"}}],\"contour\":[{\"type\":\"contour\",\"colorbar\":{\"outlinewidth\":0,\"ticks\":\"\"},\"colorscale\":[[0.0,\"#0d0887\"],[0.1111111111111111,\"#46039f\"],[0.2222222222222222,\"#7201a8\"],[0.3333333333333333,\"#9c179e\"],[0.4444444444444444,\"#bd3786\"],[0.5555555555555556,\"#d8576b\"],[0.6666666666666666,\"#ed7953\"],[0.7777777777777778,\"#fb9f3a\"],[0.8888888888888888,\"#fdca26\"],[1.0,\"#f0f921\"]]}],\"surface\":[{\"type\":\"surface\",\"colorbar\":{\"outlinewidth\":0,\"ticks\":\"\"},\"colorscale\":[[0.0,\"#0d0887\"],[0.1111111111111111,\"#46039f\"],[0.2222222222222222,\"#7201a8\"],[0.3333333333333333,\"#9c179e\"],[0.4444444444444444,\"#bd3786\"],[0.5555555555555556,\"#d8576b\"],[0.6666666666666666,\"#ed7953\"],[0.7777777777777778,\"#fb9f3a\"],[0.8888888888888888,\"#fdca26\"],[1.0,\"#f0f921\"]]}],\"mesh3d\":[{\"type\":\"mesh3d\",\"colorbar\":{\"outlinewidth\":0,\"ticks\":\"\"}}],\"scatter\":[{\"fillpattern\":{\"fillmode\":\"overlay\",\"size\":10,\"solidity\":0.2},\"type\":\"scatter\"}],\"parcoords\":[{\"type\":\"parcoords\",\"line\":{\"colorbar\":{\"outlinewidth\":0,\"ticks\":\"\"}}}],\"scatterpolargl\":[{\"type\":\"scatterpolargl\",\"marker\":{\"colorbar\":{\"outlinewidth\":0,\"ticks\":\"\"}}}],\"bar\":[{\"error_x\":{\"color\":\"#2a3f5f\"},\"error_y\":{\"color\":\"#2a3f5f\"},\"marker\":{\"line\":{\"color\":\"#E5ECF6\",\"width\":0.5},\"pattern\":{\"fillmode\":\"overlay\",\"size\":10,\"solidity\":0.2}},\"type\":\"bar\"}],\"scattergeo\":[{\"type\":\"scattergeo\",\"marker\":{\"colorbar\":{\"outlinewidth\":0,\"ticks\":\"\"}}}],\"scatterpolar\":[{\"type\":\"scatterpolar\",\"marker\":{\"colorbar\":{\"outlinewidth\":0,\"ticks\":\"\"}}}],\"histogram\":[{\"marker\":{\"pattern\":{\"fillmode\":\"overlay\",\"size\":10,\"solidity\":0.2}},\"type\":\"histogram\"}],\"scattergl\":[{\"type\":\"scattergl\",\"marker\":{\"colorbar\":{\"outlinewidth\":0,\"ticks\":\"\"}}}],\"scatter3d\":[{\"type\":\"scatter3d\",\"line\":{\"colorbar\":{\"outlinewidth\":0,\"ticks\":\"\"}},\"marker\":{\"colorbar\":{\"outlinewidth\":0,\"ticks\":\"\"}}}],\"scattermapbox\":[{\"type\":\"scattermapbox\",\"marker\":{\"colorbar\":{\"outlinewidth\":0,\"ticks\":\"\"}}}],\"scatterternary\":[{\"type\":\"scatterternary\",\"marker\":{\"colorbar\":{\"outlinewidth\":0,\"ticks\":\"\"}}}],\"scattercarpet\":[{\"type\":\"scattercarpet\",\"marker\":{\"colorbar\":{\"outlinewidth\":0,\"ticks\":\"\"}}}],\"carpet\":[{\"aaxis\":{\"endlinecolor\":\"#2a3f5f\",\"gridcolor\":\"white\",\"linecolor\":\"white\",\"minorgridcolor\":\"white\",\"startlinecolor\":\"#2a3f5f\"},\"baxis\":{\"endlinecolor\":\"#2a3f5f\",\"gridcolor\":\"white\",\"linecolor\":\"white\",\"minorgridcolor\":\"white\",\"startlinecolor\":\"#2a3f5f\"},\"type\":\"carpet\"}],\"table\":[{\"cells\":{\"fill\":{\"color\":\"#EBF0F8\"},\"line\":{\"color\":\"white\"}},\"header\":{\"fill\":{\"color\":\"#C8D4E3\"},\"line\":{\"color\":\"white\"}},\"type\":\"table\"}],\"barpolar\":[{\"marker\":{\"line\":{\"color\":\"#E5ECF6\",\"width\":0.5},\"pattern\":{\"fillmode\":\"overlay\",\"size\":10,\"solidity\":0.2}},\"type\":\"barpolar\"}],\"pie\":[{\"automargin\":true,\"type\":\"pie\"}]},\"layout\":{\"autotypenumbers\":\"strict\",\"colorway\":[\"#636efa\",\"#EF553B\",\"#00cc96\",\"#ab63fa\",\"#FFA15A\",\"#19d3f3\",\"#FF6692\",\"#B6E880\",\"#FF97FF\",\"#FECB52\"],\"font\":{\"color\":\"#2a3f5f\"},\"hovermode\":\"closest\",\"hoverlabel\":{\"align\":\"left\"},\"paper_bgcolor\":\"white\",\"plot_bgcolor\":\"#E5ECF6\",\"polar\":{\"bgcolor\":\"#E5ECF6\",\"angularaxis\":{\"gridcolor\":\"white\",\"linecolor\":\"white\",\"ticks\":\"\"},\"radialaxis\":{\"gridcolor\":\"white\",\"linecolor\":\"white\",\"ticks\":\"\"}},\"ternary\":{\"bgcolor\":\"#E5ECF6\",\"aaxis\":{\"gridcolor\":\"white\",\"linecolor\":\"white\",\"ticks\":\"\"},\"baxis\":{\"gridcolor\":\"white\",\"linecolor\":\"white\",\"ticks\":\"\"},\"caxis\":{\"gridcolor\":\"white\",\"linecolor\":\"white\",\"ticks\":\"\"}},\"coloraxis\":{\"colorbar\":{\"outlinewidth\":0,\"ticks\":\"\"}},\"colorscale\":{\"sequential\":[[0.0,\"#0d0887\"],[0.1111111111111111,\"#46039f\"],[0.2222222222222222,\"#7201a8\"],[0.3333333333333333,\"#9c179e\"],[0.4444444444444444,\"#bd3786\"],[0.5555555555555556,\"#d8576b\"],[0.6666666666666666,\"#ed7953\"],[0.7777777777777778,\"#fb9f3a\"],[0.8888888888888888,\"#fdca26\"],[1.0,\"#f0f921\"]],\"sequentialminus\":[[0.0,\"#0d0887\"],[0.1111111111111111,\"#46039f\"],[0.2222222222222222,\"#7201a8\"],[0.3333333333333333,\"#9c179e\"],[0.4444444444444444,\"#bd3786\"],[0.5555555555555556,\"#d8576b\"],[0.6666666666666666,\"#ed7953\"],[0.7777777777777778,\"#fb9f3a\"],[0.8888888888888888,\"#fdca26\"],[1.0,\"#f0f921\"]],\"diverging\":[[0,\"#8e0152\"],[0.1,\"#c51b7d\"],[0.2,\"#de77ae\"],[0.3,\"#f1b6da\"],[0.4,\"#fde0ef\"],[0.5,\"#f7f7f7\"],[0.6,\"#e6f5d0\"],[0.7,\"#b8e186\"],[0.8,\"#7fbc41\"],[0.9,\"#4d9221\"],[1,\"#276419\"]]},\"xaxis\":{\"gridcolor\":\"white\",\"linecolor\":\"white\",\"ticks\":\"\",\"title\":{\"standoff\":15},\"zerolinecolor\":\"white\",\"automargin\":true,\"zerolinewidth\":2},\"yaxis\":{\"gridcolor\":\"white\",\"linecolor\":\"white\",\"ticks\":\"\",\"title\":{\"standoff\":15},\"zerolinecolor\":\"white\",\"automargin\":true,\"zerolinewidth\":2},\"scene\":{\"xaxis\":{\"backgroundcolor\":\"#E5ECF6\",\"gridcolor\":\"white\",\"linecolor\":\"white\",\"showbackground\":true,\"ticks\":\"\",\"zerolinecolor\":\"white\",\"gridwidth\":2},\"yaxis\":{\"backgroundcolor\":\"#E5ECF6\",\"gridcolor\":\"white\",\"linecolor\":\"white\",\"showbackground\":true,\"ticks\":\"\",\"zerolinecolor\":\"white\",\"gridwidth\":2},\"zaxis\":{\"backgroundcolor\":\"#E5ECF6\",\"gridcolor\":\"white\",\"linecolor\":\"white\",\"showbackground\":true,\"ticks\":\"\",\"zerolinecolor\":\"white\",\"gridwidth\":2}},\"shapedefaults\":{\"line\":{\"color\":\"#2a3f5f\"}},\"annotationdefaults\":{\"arrowcolor\":\"#2a3f5f\",\"arrowhead\":0,\"arrowwidth\":1},\"geo\":{\"bgcolor\":\"white\",\"landcolor\":\"#E5ECF6\",\"subunitcolor\":\"white\",\"showland\":true,\"showlakes\":true,\"lakecolor\":\"white\"},\"title\":{\"x\":0.05},\"mapbox\":{\"style\":\"light\"}}},\"title\":{\"text\":\"Percentage of negative Porosity data points in each sensor data file\"}},                        {\"responsive\": true}                    ).then(function(){\n",
       "                            \n",
       "var gd = document.getElementById('b97b251b-efcc-43e0-b6d3-17ea0e4523c8');\n",
       "var x = new MutationObserver(function (mutations, observer) {{\n",
       "        var display = window.getComputedStyle(gd).display;\n",
       "        if (!display || display === 'none') {{\n",
       "            console.log([gd, 'removed!']);\n",
       "            Plotly.purge(gd);\n",
       "            observer.disconnect();\n",
       "        }}\n",
       "}});\n",
       "\n",
       "// Listen for the removal of the full notebook cells\n",
       "var notebookContainer = gd.closest('#notebook-container');\n",
       "if (notebookContainer) {{\n",
       "    x.observe(notebookContainer, {childList: true});\n",
       "}}\n",
       "\n",
       "// Listen for the clearing of the current output cell\n",
       "var outputEl = gd.closest('.output');\n",
       "if (outputEl) {{\n",
       "    x.observe(outputEl, {childList: true});\n",
       "}}\n",
       "\n",
       "                        })                };                });            </script>        </div>"
      ]
     },
     "metadata": {},
     "output_type": "display_data"
    }
   ],
   "source": [
    "negative_data = []\n",
    "for idx, sensor_data in enumerate(sensor_data_list):\n",
    "    condition = (sensor_data['Porosity'] < 0)\n",
    "    negative_data.append(len(sensor_data[condition]) / len(sensor_data))\n",
    "\n",
    "# Plot the number of negative data points\n",
    "fig = go.Figure(data=[go.Bar(x=sensor_data_files, y=negative_data)])\n",
    "fig.update_layout(title_text='Percentage of negative Porosity data points in each sensor data file')\n",
    "fig.show()\n"
   ]
  },
  {
   "cell_type": "code",
   "execution_count": 22,
   "metadata": {},
   "outputs": [
    {
     "data": {
      "text/plain": [
       "13449"
      ]
     },
<<<<<<< HEAD
     "execution_count": 14,
=======
     "execution_count": 22,
>>>>>>> main
     "metadata": {},
     "output_type": "execute_result"
    }
   ],
   "source": [
    "# Test how many data points left if we drop the negative data points\n",
    "total_data_points_after_drop = 0\n",
    "for idx, sensor_data in enumerate(sensor_data_list):\n",
    "    condition = (sensor_data['Hydrate Saturation'] >= 0)\n",
    "    sensor_data = sensor_data[condition]\n",
    "    total_data_points_after_drop += len(sensor_data)\n",
    "total_data_points_after_drop"
   ]
  },
  {
   "cell_type": "code",
<<<<<<< HEAD
   "execution_count": 15,
=======
   "execution_count": 23,
>>>>>>> main
   "metadata": {},
   "outputs": [
    {
     "name": "stdout",
     "output_type": "stream",
     "text": [
      "3821\n"
     ]
    }
   ],
   "source": [
    "# Check the not a NaN count of the other columns in the sensor data which has negative hydrate saturation\n",
    "\n",
    "# Count rows contains negative hydrate saturation and no NaN in total\n",
    "not_nan_count = 0\n",
    "for idx, sensor_data in enumerate(sensor_data_list):\n",
    "    condition = sensor_data['Hydrate Saturation'] < 0\n",
    "    not_nan_count += len(sensor_data[condition].dropna())\n",
    "print(not_nan_count)\n",
    "    "
   ]
  },
  {
   "cell_type": "code",
   "execution_count": 24,
   "metadata": {},
   "outputs": [],
   "source": [
    "for idx, sensor_data in enumerate(sensor_data_list):\n",
    "    sensor_data = sensor_data[sensor_data['Porosity'] <= 1.0]\n",
    "    sensor_data = sensor_data[sensor_data['Hydrate Saturation'] <= 1.0]\n",
    "    sensor_data_list[idx] = sensor_data\n",
    "    \n",
    "# Drop the rows containing values smaller than 0.0 except for the Depth column\n",
    "for idx, sensor_data in enumerate(sensor_data_list):\n",
    "    sensor_data = sensor_data[sensor_data['Porosity'] >= 0]\n",
    "    sensor_data = sensor_data[sensor_data['Hydrate Saturation'] >= 0]\n",
    "    sensor_data_list[idx] = sensor_data\n",
    "    "
   ]
  },
  {
   "cell_type": "code",
   "execution_count": 25,
   "metadata": {},
   "outputs": [
    {
     "data": {
      "image/png": "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",
      "text/plain": [
       "<Figure size 1200x600 with 2 Axes>"
      ]
     },
     "metadata": {},
     "output_type": "display_data"
    }
   ],
   "source": [
    "# Plot the distribution of the cleaned data\n",
    "fig, ax = plt.subplots(1, 2, figsize=(12, 6))\n",
    "sns.histplot(sensor_data_list[0]['Porosity'], kde=False, ax=ax[0])\n",
    "ax[0].set_title('Porosity Distribution')\n",
    "sns.histplot(sensor_data_list[0]['Hydrate Saturation'], kde=False, ax=ax[1])\n",
    "ax[1].set_title('Hydrate Saturation Distribution')\n",
    "plt.show()\n"
   ]
  },
  {
   "cell_type": "code",
   "execution_count": null,
   "metadata": {},
   "outputs": [],
   "source": []
  }
 ],
 "metadata": {
  "kernelspec": {
   "display_name": "base",
   "language": "python",
   "name": "python3"
  },
  "language_info": {
   "codemirror_mode": {
    "name": "ipython",
    "version": 3
   },
   "file_extension": ".py",
   "mimetype": "text/x-python",
   "name": "python",
   "nbconvert_exporter": "python",
   "pygments_lexer": "ipython3",
   "version": "3.12.3"
  }
 },
 "nbformat": 4,
 "nbformat_minor": 2
}
