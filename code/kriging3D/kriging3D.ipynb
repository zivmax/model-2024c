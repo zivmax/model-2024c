{
 "cells": [
  {
   "cell_type": "markdown",
   "metadata": {},
   "source": [
    "# Imports"
   ]
  },
  {
   "cell_type": "code",
   "execution_count": null,
   "metadata": {},
   "outputs": [],
   "source": [
    "import numpy as np\n",
    "import matplotlib.pyplot as plt\n",
    "import plotly.graph_objects as go\n",
    "import pandas as pd\n",
    "import pickle"
   ]
  },
  {
   "cell_type": "markdown",
   "metadata": {},
   "source": [
    "# Kriging 3D Interpolation"
   ]
  },
  {
   "cell_type": "markdown",
   "metadata": {},
   "source": [
    "### Define Functions"
   ]
  },
  {
   "cell_type": "code",
   "execution_count": null,
   "metadata": {},
   "outputs": [],
   "source": [
    "def plot_3D_mesh(t, grid_x, grid_y, grid_z, title: str, color_scale='Viridis'):\n",
    "    GZ, GY, GX = np.meshgrid(grid_z, grid_y, grid_x, indexing='ij')\n",
    "\n",
    "    fig = go.Figure(\n",
    "        data=[go.Volume(\n",
    "            x=GX.flatten(),\n",
    "            y=GY.flatten(),\n",
    "            z=GZ.flatten(),\n",
    "            value=t.flatten(),\n",
    "            isomax=t.max(),\n",
    "            isomin=t.min(),\n",
    "            opacity=0.5,  \n",
    "            surface_count=25,  # Adjust the number of isosurfaces\n",
    "            colorscale=color_scale \n",
    "        )])\n",
    "\n",
    "    # Update the layout of the plot\n",
    "    fig.update_layout(\n",
    "        height=600,\n",
    "        width=700,\n",
    "        title=title,\n",
    "        scene=dict(\n",
    "            xaxis_title='X',\n",
    "            yaxis_title='Y',\n",
    "            zaxis=dict(\n",
    "                title='Depth',\n",
    "                autorange='reversed'  # Automatically reverse the z-axis\n",
    "            )\n",
    "        )\n",
    "    )\n",
    "\n",
    "    # Show the plot\n",
    "    fig.show()"
   ]
  },
  {
   "cell_type": "code",
   "execution_count": null,
   "metadata": {},
   "outputs": [],
   "source": [
    "def load_data(name: str) -> pd.DataFrame:\n",
    "    with open(f'data/t_{name}.pkl', 'rb') as f:\n",
    "        interpolated_data = pickle.load(f)\n",
    "    with open(f'data/ss3d_{name}.pkl', 'rb') as f:\n",
    "        varience_data = pickle.load(f)\n",
    "    return interpolated_data, varience_data"
   ]
  },
  {
   "cell_type": "code",
   "execution_count": null,
   "metadata": {},
   "outputs": [],
   "source": [
    "def load_grid() -> np.ndarray:\n",
    "    with open(f'data/grid.pkl', 'rb') as f:\n",
    "        grid = pickle.load(f)\n",
    "    return grid"
   ]
  },
  {
   "cell_type": "markdown",
   "metadata": {},
   "source": [
    "### Load Data"
   ]
  },
  {
   "cell_type": "code",
   "execution_count": null,
   "metadata": {},
   "outputs": [],
   "source": [
    "grid = load_grid()\n",
    "t_poro, ss3d_poro = load_data('poro')\n",
    "t_hydr, ss3d_hydr = load_data('hydr')"
   ]
  },
  {
   "cell_type": "markdown",
   "metadata": {},
   "source": [
    "### Kriging Interpolation of Porosity"
   ]
  },
  {
   "cell_type": "code",
   "execution_count": null,
   "metadata": {},
   "outputs": [],
   "source": [
    "plot_3D_mesh(t_poro, *grid, \"Kriging Interpolation of Porosity\", \"Plasma\")"
   ]
  },
  {
   "cell_type": "code",
   "execution_count": null,
   "metadata": {},
   "outputs": [],
   "source": [
    "plot_3D_mesh(ss3d_poro, *grid, \"Kriging Varience of Porosity\")"
   ]
  },
  {
   "cell_type": "markdown",
   "metadata": {},
   "source": [
    "### Kriging Interpolation of Hydrate Saturation"
   ]
  },
  {
   "cell_type": "code",
   "execution_count": null,
   "metadata": {},
   "outputs": [],
   "source": [
    "plot_3D_mesh(t_hydr, *grid, \"Kriging Interpolation of Hydrate Saturation\", \"Plasma\")"
   ]
  },
  {
   "cell_type": "code",
   "execution_count": null,
   "metadata": {},
   "outputs": [],
   "source": [
    "plot_3D_mesh(ss3d_hydr, *grid, \"Kriging Varience of Hydrate Saturation\")"
   ]
  },
  {
   "cell_type": "markdown",
   "metadata": {},
   "source": [
    "# Resource Distribution"
   ]
  },
  {
   "cell_type": "code",
   "execution_count": null,
   "metadata": {},
   "outputs": [],
   "source": [
    "def estimate_resource(sensor_data: pd.Series) -> float:\n",
    "    \"\"\"Estimate the resource at a given location based on sensor data\"\"\"\n",
    "    # Get the Porosity and the Hydrate saturation\n",
    "    porosity = sensor_data['Porosity']\n",
    "    hydrate_saturation = sensor_data['Hydrate Saturation']\n",
    "\n",
    "    valid_volume = 1 # Assume the valid volume is 1 cubic meter\n",
    "    factor = 155 # Assume the factor is 155\n",
    "\n",
    "    # Calculate the resource estimate\n",
    "    return valid_volume * porosity * hydrate_saturation * factor"
   ]
  },
  {
   "cell_type": "code",
   "execution_count": null,
   "metadata": {},
   "outputs": [],
   "source": [
    "# Calculate the resource estimate for each point in the grid\n",
    "resource_estimate = np.zeros_like(t_poro)\n",
    "for i in range(t_poro.shape[0]):\n",
    "    for j in range(t_poro.shape[1]):\n",
    "        for k in range(t_poro.shape[2]):\n",
    "            sensor_data = pd.Series({\n",
    "                'Porosity': t_poro[i, j, k],\n",
    "                'Hydrate Saturation': t_hydr[i, j, k]\n",
    "            })\n",
    "            resource_estimate[i, j, k] = estimate_resource(sensor_data)"
   ]
  },
  {
   "cell_type": "code",
   "execution_count": null,
   "metadata": {},
   "outputs": [],
   "source": [
    "# Plot the resource estimate\n",
    "plot_3D_mesh(resource_estimate, *grid, \"Resource Estimate\", \"Plasma\")"
   ]
  },
  {
   "cell_type": "markdown",
   "metadata": {},
   "source": [
    "# Total Resources"
   ]
  },
  {
   "cell_type": "code",
   "execution_count": null,
   "metadata": {},
   "outputs": [],
   "source": [
    "from loadAndPreprocess import load_and_preprocess\n",
    "well_info, sensor_data_list = load_and_preprocess()\n",
    "\n",
    "# Remove the data point with NaN value\n",
    "well_info = well_info.dropna()\n",
    "for sensor_data in sensor_data_list:\n",
    "    sensor_data.dropna(inplace=True)\n",
    "    \n",
    "X = well_info['X'].values\n",
    "Y = well_info['Y'].values\n",
    "Z = [sensor_data['Depth'] for sensor_data in sensor_data_list]\n",
    "Z = np.concatenate(Z)\n",
    "\n",
    "l = (max(X) - min(X)) / len(grid[0])\n",
    "w = (max(Y) - min(Y)) / len(grid[1])\n",
    "h = (max(Z) - min(Z)) / len(grid[2])"
   ]
  },
  {
   "cell_type": "code",
   "execution_count": null,
   "metadata": {},
   "outputs": [],
   "source": [
    "# Calculate the sum of the total resource estimate\n",
    "total_resource_estimate = resource_estimate.sum() * l * w * h\n",
    "print(f\"Total Resource Estimate: {total_resource_estimate:.2f} cubic meters\")"
   ]
  }
 ],
 "metadata": {
  "kernelspec": {
   "display_name": "base",
   "language": "python",
   "name": "python3"
  },
  "language_info": {
   "codemirror_mode": {
    "name": "ipython",
    "version": 3
   },
   "file_extension": ".py",
   "mimetype": "text/x-python",
   "name": "python",
   "nbconvert_exporter": "python",
   "pygments_lexer": "ipython3",
   "version": "3.12.3"
  }
 },
 "nbformat": 4,
 "nbformat_minor": 2
}
