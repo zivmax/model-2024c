{
 "cells": [
  {
   "cell_type": "markdown",
   "metadata": {},
   "source": [
    "# Imports"
   ]
  },
  {
   "cell_type": "code",
   "execution_count": null,
   "metadata": {},
   "outputs": [],
   "source": [
    "import numpy as np\n",
    "import matplotlib.pyplot as plt\n",
    "import plotly.graph_objects as go\n",
    "import pandas as pd\n",
    "import pickle"
   ]
  },
  {
   "cell_type": "markdown",
   "metadata": {},
   "source": [
    "# Kriging 3D Interpolation"
   ]
  },
  {
   "cell_type": "markdown",
   "metadata": {},
   "source": [
    "### Define Functions"
   ]
  },
  {
   "cell_type": "code",
   "execution_count": null,
   "metadata": {},
   "outputs": [],
   "source": [
    "def plot_3D_mesh(t, grid_x, grid_y, grid_z, title: str, color_scale='Viridis'):\n",
    "    GZ, GY, GX = np.meshgrid(grid_z, grid_y, grid_x, indexing='ij')\n",
    "\n",
    "    fig = go.Figure(\n",
    "        data=[go.Volume(\n",
    "            x=GX.flatten(),\n",
    "            y=GY.flatten(),\n",
    "            z=GZ.flatten(),\n",
    "            value=t.flatten(),\n",
    "            isomax=t.max(),\n",
    "            isomin=t.min(),\n",
    "            opacity=0.5,  \n",
    "            surface_count=25,  # Adjust the number of isosurfaces\n",
    "            colorscale=color_scale \n",
    "        )])\n",
    "\n",
    "    # Update the layout of the plot\n",
    "    fig.update_layout(\n",
    "        height=600,\n",
    "        width=700,\n",
    "        title=title,\n",
    "        scene=dict(\n",
    "            xaxis_title='X',\n",
    "            yaxis_title='Y',\n",
    "            zaxis=dict(\n",
    "                title='Depth',\n",
    "                autorange='reversed'  # Automatically reverse the z-axis\n",
    "            )\n",
    "        )\n",
    "    )\n",
    "\n",
    "    # Show the plot\n",
    "    fig.show()"
   ]
  },
  {
   "cell_type": "code",
   "execution_count": null,
   "metadata": {},
   "outputs": [],
   "source": [
    "def load_data(name: str) -> pd.DataFrame:\n",
    "    with open(f'data/t_{name}.pkl', 'rb') as f:\n",
    "        interpolated_data = pickle.load(f)\n",
    "    with open(f'data/ss3d_{name}.pkl', 'rb') as f:\n",
    "        varience_data = pickle.load(f)\n",
    "    return interpolated_data, varience_data"
   ]
  },
  {
   "cell_type": "code",
   "execution_count": null,
   "metadata": {},
   "outputs": [],
   "source": [
    "def load_grid() -> np.ndarray:\n",
    "    with open(f'data/grid.pkl', 'rb') as f:\n",
    "        grid = pickle.load(f)\n",
    "    return grid"
   ]
  },
  {
   "cell_type": "markdown",
   "metadata": {},
   "source": [
    "### Load Data"
   ]
  },
  {
   "cell_type": "code",
   "execution_count": null,
   "metadata": {},
   "outputs": [],
   "source": [
    "grid = load_grid()\n",
    "t_poro, ss3d_poro = load_data('poro')\n",
    "t_hydr, ss3d_hydr = load_data('hydr')"
   ]
  },
  {
   "cell_type": "markdown",
   "metadata": {},
   "source": [
    "### Kriging Interpolation of Porosity"
   ]
  },
  {
   "cell_type": "code",
   "execution_count": null,
   "metadata": {},
   "outputs": [],
   "source": [
    "plot_3D_mesh(t_poro, *grid, \"Kriging Interpolation of Porosity\", \"Plasma\")"
   ]
  },
  {
   "cell_type": "code",
   "execution_count": null,
   "metadata": {},
   "outputs": [],
   "source": [
    "plot_3D_mesh(ss3d_poro, *grid, \"Kriging Varience of Porosity\")"
   ]
  },
  {
   "cell_type": "markdown",
   "metadata": {},
   "source": [
    "### Kriging Interpolation of Hydrate Saturation"
   ]
  },
  {
   "cell_type": "code",
   "execution_count": null,
   "metadata": {},
   "outputs": [],
   "source": [
    "plot_3D_mesh(t_hydr, *grid, \"Kriging Interpolation of Hydrate Saturation\", \"Plasma\")"
   ]
  },
  {
   "cell_type": "code",
   "execution_count": null,
   "metadata": {},
   "outputs": [],
   "source": [
    "plot_3D_mesh(ss3d_hydr, *grid, \"Kriging Varience of Hydrate Saturation\")"
   ]
  }
 ],
 "metadata": {
  "kernelspec": {
   "display_name": "base",
   "language": "python",
   "name": "python3"
  },
  "language_info": {
   "codemirror_mode": {
    "name": "ipython",
    "version": 3
   },
   "file_extension": ".py",
   "mimetype": "text/x-python",
   "name": "python",
   "nbconvert_exporter": "python",
   "pygments_lexer": "ipython3",
   "version": "3.10.10"
  }
 },
 "nbformat": 4,
 "nbformat_minor": 2
}
