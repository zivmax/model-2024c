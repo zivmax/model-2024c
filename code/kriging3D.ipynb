{
 "cells": [
  {
   "cell_type": "markdown",
   "metadata": {},
   "source": [
    "# Imports"
   ]
  },
  {
   "cell_type": "code",
   "execution_count": 7,
   "metadata": {},
   "outputs": [],
   "source": [
    "import numpy as np\n",
    "import matplotlib.pyplot as plt\n",
    "import plotly.graph_objects as go\n",
    "import pandas as pd"
   ]
  },
  {
   "cell_type": "markdown",
   "metadata": {},
   "source": [
    "# Load Data and Preprocessing"
   ]
  },
  {
   "cell_type": "code",
   "execution_count": 8,
   "metadata": {},
   "outputs": [],
   "source": [
    "from loadAndPreprocess import load_and_preprocess\n",
    "\n",
    "well_info, sensor_data_list = load_and_preprocess()"
   ]
  },
  {
   "cell_type": "markdown",
   "metadata": {},
   "source": [
    "# Kriging 3D Interpolation"
   ]
  },
  {
   "cell_type": "markdown",
   "metadata": {},
   "source": [
    "### Define Functions"
   ]
  },
  {
   "cell_type": "code",
   "execution_count": 9,
   "metadata": {},
   "outputs": [],
   "source": [
    "def compose_krige3D(name: str, sample_frac: float, step_sizes: tuple, variogram: str):\n",
    "    from pykrige.ok3d import OrdinaryKriging3D\n",
    "\n",
    "    # Make kriging interpolation for Porosity  individually\n",
    "    data_frames = []\n",
    "    for i, df in enumerate(sensor_data_list):\n",
    "        df['X'] = well_info.loc[i, 'X']\n",
    "        df['Y'] = well_info.loc[i, 'Y']\n",
    "        df['Well'] = well_info.loc[i, 'Well']\n",
    "        df['Total Resources'] = well_info.loc[i, 'Total Resources']\n",
    "        data_frames.append(df)\n",
    "\n",
    "    combined_data = pd.concat(data_frames, ignore_index=True)\n",
    "\n",
    "    sampled_data = combined_data.sample(frac=sample_frac, random_state=1)  # random_state for reproducibility\n",
    "\n",
    "    X = sampled_data['X'].values\n",
    "    Y = sampled_data['Y'].values\n",
    "    Z = sampled_data['Depth'].values\n",
    "    values = sampled_data[name].values\n",
    "\n",
    "    # Create the 3D Kriging model\n",
    "    ok3d = OrdinaryKriging3D(\n",
    "        X,\n",
    "        Y,\n",
    "        Z,\n",
    "        values,\n",
    "        variogram_model=variogram,  # You might need to experiment with different models\n",
    "        verbose=True,\n",
    "        enable_plotting=True,\n",
    "    )\n",
    "    \n",
    "    # Define grid points for interpolation\n",
    "    grid_x = np.arange(min(X)-200, max(X)+200, step_sizes[0])\n",
    "    grid_y = np.arange(min(Y)-200, max(Y)+200, step_sizes[1])\n",
    "    grid_z = np.arange(min(Z)-1, max(Z)+1, step_sizes[2])\n",
    "\n",
    "    return ok3d, (grid_x, grid_y, grid_z)"
   ]
  },
  {
   "cell_type": "code",
   "execution_count": 10,
   "metadata": {},
   "outputs": [],
   "source": [
    "def plot_3D_mesh(t, grid_x, grid_y, grid_z, title: str):\n",
    "    GZ, GY, GX = np.meshgrid(grid_z, grid_y, grid_x, indexing='ij')\n",
    "    print(GX.shape, GY.shape, GZ.shape)  # 应该输出 (12, 108, 88) 或类似，取决于具体的 grid_x, grid_y, grid_z\n",
    "\n",
    "    fig = go.Figure(\n",
    "        data=[go.Volume(\n",
    "            x=GX.flatten(),\n",
    "            y=GY.flatten(),\n",
    "            z=GZ.flatten(),\n",
    "            value=t.flatten(),\n",
    "            isomin=t.min(),\n",
    "            isomax=t.max(),\n",
    "            opacity=0.5,  # Adjust the opacity to your liking\n",
    "            surface_count=15,  # Adjust the number of isosurfaces\n",
    "        )])\n",
    "\n",
    "    # Update the layout of the plot\n",
    "    fig.update_layout(\n",
    "        title=title,\n",
    "        scene=dict(\n",
    "            xaxis_title='X',\n",
    "            yaxis_title='Y',\n",
    "            zaxis=dict(\n",
    "                title='Depth',\n",
    "                autorange='reversed'  # Automatically reverse the z-axis\n",
    "            )\n",
    "        )\n",
    "    )\n",
    "\n",
    "    # Show the plot\n",
    "    fig.show()"
   ]
  },
  {
   "cell_type": "markdown",
   "metadata": {},
   "source": [
    "### Kriging Interpolation of Porosity"
   ]
  },
  {
   "cell_type": "code",
   "execution_count": 11,
   "metadata": {},
   "outputs": [
    {
     "name": "stdout",
     "output_type": "stream",
     "text": [
      "Plotting Enabled\n",
      "\n",
      "Adjusting data for anisotropy...\n",
      "Initializing variogram model...\n"
     ]
    }
   ],
   "source": [
    "ok3d, grid = compose_krige3D(\"Porosity\", 1.0, (10, 10, 1), 'gaussian')"
   ]
  },
  {
   "cell_type": "code",
   "execution_count": null,
   "metadata": {},
   "outputs": [],
   "source": [
    "t_poro, ss3d_poro = ok3d.execute('grid', *grid)"
   ]
  },
  {
   "cell_type": "code",
   "execution_count": null,
   "metadata": {},
   "outputs": [],
   "source": [
    "plot_3D_mesh(t_poro, *grid, \"Kriging Interpolation of Porosity\")"
   ]
  },
  {
   "cell_type": "code",
   "execution_count": null,
   "metadata": {},
   "outputs": [],
   "source": [
    "plot_3D_mesh(ss3d_poro, *grid, \"Kriging Varience of Porosity\")"
   ]
  },
  {
   "cell_type": "markdown",
   "metadata": {},
   "source": [
    "### Kriging Interpolation of Hydrate Saturation"
   ]
  },
  {
   "cell_type": "code",
   "execution_count": null,
   "metadata": {},
   "outputs": [],
   "source": [
    "ok3d, grid = compose_krige3D(\"Hydrate Saturation\", 1.0, (10, 10, 1), 'linear')"
   ]
  },
  {
   "cell_type": "code",
   "execution_count": null,
   "metadata": {},
   "outputs": [],
   "source": [
    "t_hydr, ss3d_hydr = ok3d.execute('grid', *grid)"
   ]
  },
  {
   "cell_type": "code",
   "execution_count": null,
   "metadata": {},
   "outputs": [],
   "source": [
    "plot_3D_mesh(t_hydr, *grid, \"Kriging Interpolation of Hydrate Saturation\")"
   ]
  },
  {
   "cell_type": "code",
   "execution_count": null,
   "metadata": {},
   "outputs": [],
   "source": [
    "plot_3D_mesh(ss3d_hydr, *grid, \"Kriging Varience of Hydrate Saturation\")"
   ]
  }
 ],
 "metadata": {
  "kernelspec": {
   "display_name": "base",
   "language": "python",
   "name": "python3"
  },
  "language_info": {
   "codemirror_mode": {
    "name": "ipython",
    "version": 3
   },
   "file_extension": ".py",
   "mimetype": "text/x-python",
   "name": "python",
   "nbconvert_exporter": "python",
   "pygments_lexer": "ipython3",
   "version": "3.10.10"
  }
 },
 "nbformat": 4,
 "nbformat_minor": 2
}
