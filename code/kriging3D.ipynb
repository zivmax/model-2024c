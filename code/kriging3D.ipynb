{
 "cells": [
  {
   "cell_type": "markdown",
   "metadata": {},
   "source": [
    "# Load Data and Preprocessing"
   ]
  },
  {
   "cell_type": "code",
   "execution_count": 11,
   "metadata": {},
   "outputs": [
    {
     "name": "stdout",
     "output_type": "stream",
     "text": [
      "  Well      X      Y\n",
      "0  w01  34500  45000\n",
      "1  w02  36000  45050\n",
      "2  w03  37050  45020\n",
      "3  w04  37880  46000\n",
      "4  w05  35000  46030\n",
      "         Depth  Porosity  Hydrate Saturation\n",
      "112  1832.0004    0.5236              0.0237\n",
      "113  1832.1528    0.5208              0.0175\n",
      "114  1832.3052    0.5196              0.0000\n",
      "115  1832.4576    0.5156              0.0000\n",
      "116  1832.6100    0.4971              0.0000\n"
     ]
    }
   ],
   "source": [
    "import pandas as pd\n",
    "import os\n",
    "import plotly.graph_objects as go\n",
    "import numpy as np\n",
    "import matplotlib.pyplot as plt\n",
    "\n",
    "# Set the default DPI\n",
    "plt.rcParams['figure.dpi'] = 100  \n",
    "\n",
    "well_info = pd.read_csv('well-loc.tsv', sep='\\t')\n",
    "\n",
    "# Path to the sensor data directory\n",
    "sensor_data_path = 'sensor-data'\n",
    "\n",
    "# List all TSV files in the directory\n",
    "sensor_data_files = [f for f in os.listdir(sensor_data_path) if f.endswith('.tsv')]\n",
    "\n",
    "# Sort the sensor_data_files list\n",
    "sensor_data_files.sort(key= lambda x: int(x.split('.')[0]))\n",
    "\n",
    "# Load and concatenate all sensor data files into one DataFrame\n",
    "sensor_data_list = [pd.read_csv(os.path.join(sensor_data_path, file), sep='\\t',\n",
    "                                na_values=\"-9999\") for file in sensor_data_files]\n",
    "\n",
    "# Remove the data point with NaN value\n",
    "well_info = well_info.dropna()\n",
    "for sensor_data in sensor_data_list:\n",
    "    sensor_data.dropna(inplace=True)\n",
    "\n",
    "# Reset the index of the well_loc DataFrame to Well, X, Y\n",
    "well_info.rename(columns={'井': 'Well'}, inplace=True)\n",
    "\n",
    "# Reset the index of the sensor data DataFrame to Depth, Porosity, Hydrate Saturation\n",
    "for idx, _ in enumerate(sensor_data_list):\n",
    "\tsensor_data_list[idx].columns = ['Depth', 'Porosity', 'Hydrate Saturation']\n",
    "\n",
    "print(well_info.head())  # Display the first few rows to verify it's loaded correctly\n",
    "print(sensor_data_list[0].head())  # Display the first few rows to verify it's loaded correctly"
   ]
  },
  {
   "cell_type": "code",
   "execution_count": 12,
   "metadata": {},
   "outputs": [],
   "source": [
    "from sklearn.preprocessing import MinMaxScaler\n",
    "\n",
    "# Normalize the sensor data\n",
    "scaler = MinMaxScaler()\n",
    "for idx, sensor_data in enumerate(sensor_data_list):\n",
    "    sensor_data[['Porosity', 'Hydrate Saturation']] = scaler.fit_transform(sensor_data[['Porosity', 'Hydrate Saturation']])"
   ]
  },
  {
   "cell_type": "markdown",
   "metadata": {},
   "source": [
    "# Estimate Resource Distribution"
   ]
  },
  {
   "cell_type": "code",
   "execution_count": 13,
   "metadata": {},
   "outputs": [],
   "source": [
    "def estimate_resource(sensor_data: pd.Series) -> float:\n",
    "\t\"\"\"Estimate the resource at a given location based on sensor data\"\"\"\n",
    "\t# Get the Porosity and the Hydrate saturation\n",
    "\tporosity = sensor_data['Porosity']\n",
    "\thydrate_saturation = sensor_data['Hydrate Saturation']\n",
    "\n",
    "\tvalid_volume = 1 # Assume the valid volume is 1 cubic meter\n",
    "\tfactor = 155 # Assume the factor is 155\n",
    "\n",
    "\t# Calculate the resource estimate\n",
    "\treturn valid_volume * porosity * hydrate_saturation * factor"
   ]
  },
  {
   "cell_type": "code",
   "execution_count": 14,
   "metadata": {},
   "outputs": [
    {
     "data": {
      "text/html": [
       "<div>\n",
       "<style scoped>\n",
       "    .dataframe tbody tr th:only-of-type {\n",
       "        vertical-align: middle;\n",
       "    }\n",
       "\n",
       "    .dataframe tbody tr th {\n",
       "        vertical-align: top;\n",
       "    }\n",
       "\n",
       "    .dataframe thead th {\n",
       "        text-align: right;\n",
       "    }\n",
       "</style>\n",
       "<table border=\"1\" class=\"dataframe\">\n",
       "  <thead>\n",
       "    <tr style=\"text-align: right;\">\n",
       "      <th></th>\n",
       "      <th>Depth</th>\n",
       "      <th>Porosity</th>\n",
       "      <th>Hydrate Saturation</th>\n",
       "      <th>Estimated Resources</th>\n",
       "    </tr>\n",
       "  </thead>\n",
       "  <tbody>\n",
       "    <tr>\n",
       "      <th>112</th>\n",
       "      <td>1832.0004</td>\n",
       "      <td>0.619070</td>\n",
       "      <td>0.266592</td>\n",
       "      <td>25.581030</td>\n",
       "    </tr>\n",
       "    <tr>\n",
       "      <th>113</th>\n",
       "      <td>1832.1528</td>\n",
       "      <td>0.605918</td>\n",
       "      <td>0.196850</td>\n",
       "      <td>18.487664</td>\n",
       "    </tr>\n",
       "    <tr>\n",
       "      <th>114</th>\n",
       "      <td>1832.3052</td>\n",
       "      <td>0.600282</td>\n",
       "      <td>0.000000</td>\n",
       "      <td>0.000000</td>\n",
       "    </tr>\n",
       "    <tr>\n",
       "      <th>115</th>\n",
       "      <td>1832.4576</td>\n",
       "      <td>0.581494</td>\n",
       "      <td>0.000000</td>\n",
       "      <td>0.000000</td>\n",
       "    </tr>\n",
       "    <tr>\n",
       "      <th>116</th>\n",
       "      <td>1832.6100</td>\n",
       "      <td>0.494598</td>\n",
       "      <td>0.000000</td>\n",
       "      <td>0.000000</td>\n",
       "    </tr>\n",
       "    <tr>\n",
       "      <th>...</th>\n",
       "      <td>...</td>\n",
       "      <td>...</td>\n",
       "      <td>...</td>\n",
       "      <td>...</td>\n",
       "    </tr>\n",
       "    <tr>\n",
       "      <th>1716</th>\n",
       "      <td>2076.4500</td>\n",
       "      <td>0.268201</td>\n",
       "      <td>0.000000</td>\n",
       "      <td>0.000000</td>\n",
       "    </tr>\n",
       "    <tr>\n",
       "      <th>1717</th>\n",
       "      <td>2076.6024</td>\n",
       "      <td>0.393612</td>\n",
       "      <td>0.000000</td>\n",
       "      <td>0.000000</td>\n",
       "    </tr>\n",
       "    <tr>\n",
       "      <th>1718</th>\n",
       "      <td>2076.7548</td>\n",
       "      <td>0.337248</td>\n",
       "      <td>0.000000</td>\n",
       "      <td>0.000000</td>\n",
       "    </tr>\n",
       "    <tr>\n",
       "      <th>1719</th>\n",
       "      <td>2076.9072</td>\n",
       "      <td>0.357915</td>\n",
       "      <td>0.000000</td>\n",
       "      <td>0.000000</td>\n",
       "    </tr>\n",
       "    <tr>\n",
       "      <th>1720</th>\n",
       "      <td>2077.0596</td>\n",
       "      <td>0.354627</td>\n",
       "      <td>0.000000</td>\n",
       "      <td>0.000000</td>\n",
       "    </tr>\n",
       "  </tbody>\n",
       "</table>\n",
       "<p>1609 rows × 4 columns</p>\n",
       "</div>"
      ],
      "text/plain": [
       "          Depth  Porosity  Hydrate Saturation  Estimated Resources\n",
       "112   1832.0004  0.619070            0.266592            25.581030\n",
       "113   1832.1528  0.605918            0.196850            18.487664\n",
       "114   1832.3052  0.600282            0.000000             0.000000\n",
       "115   1832.4576  0.581494            0.000000             0.000000\n",
       "116   1832.6100  0.494598            0.000000             0.000000\n",
       "...         ...       ...                 ...                  ...\n",
       "1716  2076.4500  0.268201            0.000000             0.000000\n",
       "1717  2076.6024  0.393612            0.000000             0.000000\n",
       "1718  2076.7548  0.337248            0.000000             0.000000\n",
       "1719  2076.9072  0.357915            0.000000             0.000000\n",
       "1720  2077.0596  0.354627            0.000000             0.000000\n",
       "\n",
       "[1609 rows x 4 columns]"
      ]
     },
     "execution_count": 14,
     "metadata": {},
     "output_type": "execute_result"
    }
   ],
   "source": [
    "# Calculate the resource estimate for each sensor data in each depth\n",
    "for idx, sensor_data in enumerate(sensor_data_list):\n",
    "    sensor_data_list[idx]['Estimated Resources'] = sensor_data.apply(estimate_resource, axis=1)\n",
    "\n",
    "sensor_data_list[0]"
   ]
  },
  {
   "cell_type": "code",
   "execution_count": 21,
   "metadata": {},
   "outputs": [],
   "source": [
    "resource_sums = [df['Estimated Resources'].sum() for df in sensor_data_list]\n",
    "well_info['Total Resources'] = resource_sums"
   ]
  },
  {
   "cell_type": "markdown",
   "metadata": {},
   "source": [
    "# Kriging 3D Interpolation"
   ]
  },
  {
   "cell_type": "markdown",
   "metadata": {},
   "source": [
    "### Define Functions"
   ]
  },
  {
   "cell_type": "code",
   "execution_count": 23,
   "metadata": {},
   "outputs": [],
   "source": [
    "def compose_krige3D(name: str, sample_frac: float, step_sizes: tuple, variogram: str):\n",
    "    from pykrige.ok3d import OrdinaryKriging3D\n",
    "\n",
    "    # Make kriging interpolation for Porosity  individually\n",
    "    data_frames = []\n",
    "    for i, df in enumerate(sensor_data_list):\n",
    "        df['X'] = well_info.loc[i, 'X']\n",
    "        df['Y'] = well_info.loc[i, 'Y']\n",
    "        df['Well'] = well_info.loc[i, 'Well']\n",
    "        df['Total Resources'] = well_info.loc[i, 'Total Resources']\n",
    "        data_frames.append(df)\n",
    "\n",
    "    combined_data = pd.concat(data_frames, ignore_index=True)\n",
    "\n",
    "    sampled_data = combined_data.sample(frac=sample_frac, random_state=1)  # random_state for reproducibility\n",
    "\n",
    "    X = sampled_data['X'].values\n",
    "    Y = sampled_data['Y'].values\n",
    "    Z = sampled_data['Depth'].values\n",
    "    values = sampled_data[name].values\n",
    "\n",
    "    # Create the 3D Kriging model\n",
    "    ok3d = OrdinaryKriging3D(\n",
    "        X,\n",
    "        Y,\n",
    "        Z,\n",
    "        values,\n",
    "        variogram_model=variogram,  # You might need to experiment with different models\n",
    "        verbose=True,\n",
    "        enable_plotting=True,\n",
    "    )\n",
    "    \n",
    "    # Define grid points for interpolation\n",
    "    grid_x = np.arange(min(X)-200, max(X)+200, step_sizes[0])\n",
    "    grid_y = np.arange(min(Y)-200, max(Y)+200, step_sizes[1])\n",
    "    grid_z = np.arange(min(Z)-1, max(Z)+1, step_sizes[2])\n",
    "\n",
    "    return ok3d, (grid_x, grid_y, grid_z)"
   ]
  },
  {
   "cell_type": "code",
   "execution_count": 18,
   "metadata": {},
   "outputs": [],
   "source": [
    "def plot_3D_mesh(t, grid_x, grid_y, grid_z, title: str):\n",
    "    GZ, GY, GX = np.meshgrid(grid_z, grid_y, grid_x, indexing='ij')\n",
    "    print(GX.shape, GY.shape, GZ.shape)  # 应该输出 (12, 108, 88) 或类似，取决于具体的 grid_x, grid_y, grid_z\n",
    "\n",
    "    fig = go.Figure(\n",
    "        data=[go.Volume(\n",
    "            x=GX.flatten(),\n",
    "            y=GY.flatten(),\n",
    "            z=GZ.flatten(),\n",
    "            value=t.flatten(),\n",
    "            isomin=t.min(),\n",
    "            isomax=t.max(),\n",
    "            opacity=0.5,  # Adjust the opacity to your liking\n",
    "            surface_count=15,  # Adjust the number of isosurfaces\n",
    "        )])\n",
    "\n",
    "    # Update the layout of the plot\n",
    "    fig.update_layout(\n",
    "        title=title,\n",
    "        scene=dict(\n",
    "            xaxis_title='X',\n",
    "            yaxis_title='Y',\n",
    "            zaxis=dict(\n",
    "                title='Depth',\n",
    "                autorange='reversed'  # Automatically reverse the z-axis\n",
    "            )\n",
    "        )\n",
    "    )\n",
    "\n",
    "    # Show the plot\n",
    "    fig.show()"
   ]
  },
  {
   "cell_type": "markdown",
   "metadata": {},
   "source": [
    "### Kriging Interpolation of Total Resources"
   ]
  },
  {
   "cell_type": "code",
   "execution_count": 26,
   "metadata": {},
   "outputs": [
    {
     "name": "stdout",
     "output_type": "stream",
     "text": [
      "Plotting Enabled\n",
      "\n",
      "Adjusting data for anisotropy...\n",
      "Initializing variogram model...\n",
      "Using 'gaussian' Variogram Model\n",
      "Partial Sill: 261.8478391263554\n",
      "Full Sill: 601.9528437932421\n",
      "Range: 656.4333487739669\n",
      "Nugget: 340.1050046668867 \n",
      "\n"
     ]
    },
    {
     "data": {
      "image/png": "[encoded data removed]",
      "text/plain": [
       "<Figure size 640x480 with 1 Axes>"
      ]
     },
     "metadata": {},
     "output_type": "display_data"
    },
    {
     "name": "stdout",
     "output_type": "stream",
     "text": [
      "Calculating statistics on variogram model fit...\n"
     ]
    }
   ],
   "source": [
    "ok3d, grid = compose_krige3D(\"Estimated Resources\", 1.0, (10, 10, 1), 'gaussian')"
   ]
  },
  {
   "cell_type": "code",
   "execution_count": null,
   "metadata": {},
   "outputs": [],
   "source": [
    "t_res, ss3d_res = ok3d.execute('grid', *grid)"
   ]
  },
  {
   "cell_type": "code",
   "execution_count": null,
   "metadata": {},
   "outputs": [],
   "source": [
    "plot_3D_mesh(t_res, *grid, \"Kriging Interpolation of Total Resources\")\n",
    "plot_3D_mesh(ss3d_res, *grid, \"Kriging Varience of Total Resources\")"
   ]
  },
  {
   "cell_type": "markdown",
   "metadata": {},
   "source": [
    "### Kriging Interpolation of Porosity"
   ]
  },
  {
   "cell_type": "code",
   "execution_count": null,
   "metadata": {},
   "outputs": [],
   "source": [
    "ok3d, grid = compose_krige3D(\"Porosity\", 1.0, (10, 10, 1), 'linear')"
   ]
  },
  {
   "cell_type": "code",
   "execution_count": null,
   "metadata": {},
   "outputs": [],
   "source": [
    "t_poro, ss3d_poro = ok3d.execute('grid', *grid)"
   ]
  },
  {
   "cell_type": "code",
   "execution_count": null,
   "metadata": {},
   "outputs": [],
   "source": [
    "plot_3D_mesh(t_res, *grid, \"Kriging Interpolation of Porosity\")\n",
    "plot_3D_mesh(ss3d_poro, *grid, \"Kriging Varience of Porosity\")"
   ]
  },
  {
   "cell_type": "markdown",
   "metadata": {},
   "source": [
    "### Kriging Interpolation of Hydrate Saturation"
   ]
  },
  {
   "cell_type": "code",
   "execution_count": null,
   "metadata": {},
   "outputs": [],
   "source": [
    "ok3d, grid = compose_krige3D(\"Hydrate Saturation\", 1.0, (10, 10, 1), 'linear')"
   ]
  },
  {
   "cell_type": "code",
   "execution_count": null,
   "metadata": {},
   "outputs": [],
   "source": [
    "t_poro, ss3d_poro = ok3d.execute('grid', *grid)"
   ]
  },
  {
   "cell_type": "code",
   "execution_count": null,
   "metadata": {},
   "outputs": [],
   "source": [
    "plot_3D_mesh(t_res, *grid, \"Kriging Interpolation of Hydrate Saturation\")\n",
    "plot_3D_mesh(ss3d_poro, *grid, \"Kriging Varience of Hydrate Saturation\")"
   ]
  }
 ],
 "metadata": {
  "kernelspec": {
   "display_name": "base",
   "language": "python",
   "name": "python3"
  },
  "language_info": {
   "codemirror_mode": {
    "name": "ipython",
    "version": 3
   },
   "file_extension": ".py",
   "mimetype": "text/x-python",
   "name": "python",
   "nbconvert_exporter": "python",
   "pygments_lexer": "ipython3",
   "version": "3.10.10"
  }
 },
 "nbformat": 4,
 "nbformat_minor": 2
}
