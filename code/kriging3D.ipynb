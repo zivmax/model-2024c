{
 "cells": [
  {
   "cell_type": "markdown",
   "metadata": {},
   "source": [
    "# Imports"
   ]
  },
  {
   "cell_type": "code",
   "execution_count": 2,
   "metadata": {},
   "outputs": [],
   "source": [
    "import numpy as np\n",
    "import matplotlib.pyplot as plt\n",
    "import plotly.graph_objects as go\n",
    "import pandas as pd"
   ]
  },
  {
   "cell_type": "markdown",
   "metadata": {},
   "source": [
    "# Load Data and Preprocessing"
   ]
  },
  {
   "cell_type": "code",
   "execution_count": 3,
   "metadata": {},
   "outputs": [],
   "source": [
    "from loadAndPreprocess import load_and_preprocess\n",
    "\n",
    "'''\n",
    "well_info: Well, X, Y, Total Resources\n",
    "sensor_data: Depth, Porosity, Hydrate Saturation, Estimated Resources\n",
    "'''\n",
    "well_info, sensor_data_list = load_and_preprocess()\n",
    "\n",
    "# Remove the data point with NaN value\n",
    "well_info = well_info.dropna()\n",
    "for sensor_data in sensor_data_list:\n",
    "    sensor_data.dropna(inplace=True)"
   ]
  },
  {
   "cell_type": "markdown",
   "metadata": {},
   "source": [
    "# Kriging 3D Interpolation"
   ]
  },
  {
   "cell_type": "markdown",
   "metadata": {},
   "source": [
    "### Define Functions"
   ]
  },
  {
   "cell_type": "code",
   "execution_count": 4,
   "metadata": {},
   "outputs": [],
   "source": [
    "def compose_krige3D(name: str, sample_frac: float, step_sizes: tuple, variogram: str):\n",
    "    from pykrige.ok3d import OrdinaryKriging3D\n",
    "\n",
    "    # Make kriging interpolation for Porosity  individually\n",
    "    data_frames = []\n",
    "    for i, df in enumerate(sensor_data_list):\n",
    "        df['X'] = well_info.loc[i, 'X']\n",
    "        df['Y'] = well_info.loc[i, 'Y']\n",
    "        df['Well'] = well_info.loc[i, 'Well']\n",
    "        df['Total Resources'] = well_info.loc[i, 'Total Resources']\n",
    "        data_frames.append(df)\n",
    "\n",
    "    combined_data = pd.concat(data_frames, ignore_index=True)\n",
    "\n",
    "    sampled_data = combined_data.sample(frac=sample_frac, random_state=1)  # random_state for reproducibility\n",
    "\n",
    "    X = sampled_data['X'].values\n",
    "    Y = sampled_data['Y'].values\n",
    "    Z = sampled_data['Depth'].values\n",
    "    values = sampled_data[name].values\n",
    "\n",
    "    # Create the 3D Kriging model\n",
    "    ok3d = OrdinaryKriging3D(\n",
    "        X,\n",
    "        Y,\n",
    "        Z,\n",
    "        values,\n",
    "        variogram_model=variogram,  # You might need to experiment with different models\n",
    "        verbose=True,\n",
    "        enable_plotting=True,\n",
    "    )\n",
    "    \n",
    "    # Define grid points for interpolation\n",
    "    grid_x = np.arange(min(X)-200, max(X)+200, step_sizes[0])\n",
    "    grid_y = np.arange(min(Y)-200, max(Y)+200, step_sizes[1])\n",
    "    grid_z = np.arange(min(Z)-1, max(Z)+1, step_sizes[2])\n",
    "\n",
    "    return ok3d, (grid_x, grid_y, grid_z)"
   ]
  },
  {
   "cell_type": "code",
   "execution_count": 5,
   "metadata": {},
   "outputs": [],
   "source": [
    "def plot_3D_mesh(t, grid_x, grid_y, grid_z, title: str):\n",
    "    GZ, GY, GX = np.meshgrid(grid_z, grid_y, grid_x, indexing='ij')\n",
    "    print(GX.shape, GY.shape, GZ.shape)  # 应该输出 (12, 108, 88) 或类似，取决于具体的 grid_x, grid_y, grid_z\n",
    "\n",
    "    fig = go.Figure(\n",
    "        data=[go.Volume(\n",
    "            x=GX.flatten(),\n",
    "            y=GY.flatten(),\n",
    "            z=GZ.flatten(),\n",
    "            value=t.flatten(),\n",
    "            isomin=t.min(),\n",
    "            isomax=t.max(),\n",
    "            opacity=0.5,  # Adjust the opacity to your liking\n",
    "            surface_count=15,  # Adjust the number of isosurfaces\n",
    "        )])\n",
    "\n",
    "    # Update the layout of the plot\n",
    "    fig.update_layout(\n",
    "        title=title,\n",
    "        scene=dict(\n",
    "            xaxis_title='X',\n",
    "            yaxis_title='Y',\n",
    "            zaxis=dict(\n",
    "                title='Depth',\n",
    "                autorange='reversed'  # Automatically reverse the z-axis\n",
    "            )\n",
    "        )\n",
    "    )\n",
    "\n",
    "    # Show the plot\n",
    "    fig.show()"
   ]
  },
  {
   "cell_type": "markdown",
   "metadata": {},
   "source": [
    "### Kriging Interpolation of Porosity"
   ]
  },
  {
   "cell_type": "code",
   "execution_count": 13,
   "metadata": {},
   "outputs": [
    {
     "name": "stdout",
     "output_type": "stream",
     "text": [
      "Plotting Enabled\n",
      "\n",
      "Adjusting data for anisotropy...\n",
      "Initializing variogram model...\n",
      "Using 'hole-effect' Variogram Model\n",
      "Partial Sill: 0.0009267883660267612\n",
      "Full Sill: 0.00679103475176719\n",
      "Range: 1589.740318338062\n",
      "Nugget: 0.005864246385740428 \n",
      "\n"
     ]
    },
    {
     "data": {
      "image/png": "[encoded data removed]",
      "text/plain": [
       "<Figure size 640x480 with 1 Axes>"
      ]
     },
     "metadata": {},
     "output_type": "display_data"
    },
    {
     "name": "stdout",
     "output_type": "stream",
     "text": [
      "Calculating statistics on variogram model fit...\n",
      "Q1 = 0.0029445147838970025\n",
      "Q2 = 0.673665749215307\n",
      "cR = 0.004090828660354379 \n",
      "\n"
     ]
    }
   ],
   "source": [
    "ok3d, grid = compose_krige3D(\"Porosity\", 0.2, (10, 10, 1), 'hole-effect')"
   ]
  },
  {
   "cell_type": "code",
   "execution_count": null,
   "metadata": {},
   "outputs": [
    {
     "name": "stdout",
     "output_type": "stream",
     "text": [
      "Executing Ordinary Kriging...\n",
      "\n"
     ]
    },
    {
     "ename": "MemoryError",
     "evalue": "Unable to allocate 2.61 TiB for an array with shape (133531200, 2687) and data type float64",
     "output_type": "error",
     "traceback": [
      "\u001b[0;31m---------------------------------------------------------------------------\u001b[0m",
      "\u001b[0;31mMemoryError\u001b[0m                               Traceback (most recent call last)",
      "Cell \u001b[0;32mIn[6], line 1\u001b[0m\n\u001b[0;32m----> 1\u001b[0m t_poro, ss3d_poro \u001b[38;5;241m=\u001b[39m \u001b[43mok3d\u001b[49m\u001b[38;5;241;43m.\u001b[39;49m\u001b[43mexecute\u001b[49m\u001b[43m(\u001b[49m\u001b[38;5;124;43m'\u001b[39;49m\u001b[38;5;124;43mgrid\u001b[39;49m\u001b[38;5;124;43m'\u001b[39;49m\u001b[43m,\u001b[49m\u001b[43m \u001b[49m\u001b[38;5;241;43m*\u001b[39;49m\u001b[43mgrid\u001b[49m\u001b[43m)\u001b[49m\n",
      "File \u001b[0;32m/home/gpu/miniconda3/lib/python3.10/site-packages/pykrige/ok3d.py:899\u001b[0m, in \u001b[0;36mOrdinaryKriging3D.execute\u001b[0;34m(self, style, xpoints, ypoints, zpoints, mask, backend, n_closest_points)\u001b[0m\n\u001b[1;32m    888\u001b[0m xyz_points \u001b[38;5;241m=\u001b[39m np\u001b[38;5;241m.\u001b[39mconcatenate(\n\u001b[1;32m    889\u001b[0m     (zpts[:, np\u001b[38;5;241m.\u001b[39mnewaxis], ypts[:, np\u001b[38;5;241m.\u001b[39mnewaxis], xpts[:, np\u001b[38;5;241m.\u001b[39mnewaxis]), axis\u001b[38;5;241m=\u001b[39m\u001b[38;5;241m1\u001b[39m\n\u001b[1;32m    890\u001b[0m )\n\u001b[1;32m    891\u001b[0m xyz_data \u001b[38;5;241m=\u001b[39m np\u001b[38;5;241m.\u001b[39mconcatenate(\n\u001b[1;32m    892\u001b[0m     (\n\u001b[1;32m    893\u001b[0m         \u001b[38;5;28mself\u001b[39m\u001b[38;5;241m.\u001b[39mZ_ADJUSTED[:, np\u001b[38;5;241m.\u001b[39mnewaxis],\n\u001b[0;32m   (...)\u001b[0m\n\u001b[1;32m    897\u001b[0m     axis\u001b[38;5;241m=\u001b[39m\u001b[38;5;241m1\u001b[39m,\n\u001b[1;32m    898\u001b[0m )\n\u001b[0;32m--> 899\u001b[0m bd \u001b[38;5;241m=\u001b[39m \u001b[43mcdist\u001b[49m\u001b[43m(\u001b[49m\u001b[43mxyz_points\u001b[49m\u001b[43m,\u001b[49m\u001b[43m \u001b[49m\u001b[43mxyz_data\u001b[49m\u001b[43m,\u001b[49m\u001b[43m \u001b[49m\u001b[38;5;124;43m\"\u001b[39;49m\u001b[38;5;124;43meuclidean\u001b[39;49m\u001b[38;5;124;43m\"\u001b[39;49m\u001b[43m)\u001b[49m\n\u001b[1;32m    901\u001b[0m \u001b[38;5;28;01mif\u001b[39;00m n_closest_points \u001b[38;5;129;01mis\u001b[39;00m \u001b[38;5;129;01mnot\u001b[39;00m \u001b[38;5;28;01mNone\u001b[39;00m:\n\u001b[1;32m    902\u001b[0m     \u001b[38;5;28;01mfrom\u001b[39;00m \u001b[38;5;21;01mscipy\u001b[39;00m\u001b[38;5;21;01m.\u001b[39;00m\u001b[38;5;21;01mspatial\u001b[39;00m \u001b[38;5;28;01mimport\u001b[39;00m cKDTree\n",
      "File \u001b[0;32m/home/gpu/miniconda3/lib/python3.10/site-packages/scipy/spatial/distance.py:3006\u001b[0m, in \u001b[0;36mcdist\u001b[0;34m(XA, XB, metric, out, **kwargs)\u001b[0m\n\u001b[1;32m   3004\u001b[0m     cdist_fn \u001b[38;5;241m=\u001b[39m metric_info\u001b[38;5;241m.\u001b[39mcdist_func\n\u001b[1;32m   3005\u001b[0m     _extra_windows_error_checks(XA, out, (mA, mB), \u001b[38;5;241m*\u001b[39m\u001b[38;5;241m*\u001b[39mkwargs)\n\u001b[0;32m-> 3006\u001b[0m     \u001b[38;5;28;01mreturn\u001b[39;00m \u001b[43mcdist_fn\u001b[49m\u001b[43m(\u001b[49m\u001b[43mXA\u001b[49m\u001b[43m,\u001b[49m\u001b[43m \u001b[49m\u001b[43mXB\u001b[49m\u001b[43m,\u001b[49m\u001b[43m \u001b[49m\u001b[43mout\u001b[49m\u001b[38;5;241;43m=\u001b[39;49m\u001b[43mout\u001b[49m\u001b[43m,\u001b[49m\u001b[43m \u001b[49m\u001b[38;5;241;43m*\u001b[39;49m\u001b[38;5;241;43m*\u001b[39;49m\u001b[43mkwargs\u001b[49m\u001b[43m)\u001b[49m\n\u001b[1;32m   3007\u001b[0m \u001b[38;5;28;01melif\u001b[39;00m mstr\u001b[38;5;241m.\u001b[39mstartswith(\u001b[38;5;124m\"\u001b[39m\u001b[38;5;124mtest_\u001b[39m\u001b[38;5;124m\"\u001b[39m):\n\u001b[1;32m   3008\u001b[0m     metric_info \u001b[38;5;241m=\u001b[39m _TEST_METRICS\u001b[38;5;241m.\u001b[39mget(mstr, \u001b[38;5;28;01mNone\u001b[39;00m)\n",
      "\u001b[0;31mMemoryError\u001b[0m: Unable to allocate 2.61 TiB for an array with shape (133531200, 2687) and data type float64"
     ]
    }
   ],
   "source": [
    "t_poro, ss3d_poro = ok3d.execute('grid', *grid)"
   ]
  },
  {
   "cell_type": "code",
   "execution_count": null,
   "metadata": {},
   "outputs": [],
   "source": [
    "plot_3D_mesh(t_poro, *grid, \"Kriging Interpolation of Porosity\")"
   ]
  },
  {
   "cell_type": "code",
   "execution_count": null,
   "metadata": {},
   "outputs": [],
   "source": [
    "plot_3D_mesh(ss3d_poro, *grid, \"Kriging Varience of Porosity\")"
   ]
  },
  {
   "cell_type": "markdown",
   "metadata": {},
   "source": [
    "### Kriging Interpolation of Hydrate Saturation"
   ]
  },
  {
   "cell_type": "code",
   "execution_count": null,
   "metadata": {},
   "outputs": [],
   "source": [
    "ok3d, grid = compose_krige3D(\"Hydrate Saturation\", 0.2, (10, 10, 1), 'linear')"
   ]
  },
  {
   "cell_type": "code",
   "execution_count": null,
   "metadata": {},
   "outputs": [],
   "source": [
    "t_hydr, ss3d_hydr = ok3d.execute('grid', *grid)"
   ]
  },
  {
   "cell_type": "code",
   "execution_count": null,
   "metadata": {},
   "outputs": [],
   "source": [
    "plot_3D_mesh(t_hydr, *grid, \"Kriging Interpolation of Hydrate Saturation\")"
   ]
  },
  {
   "cell_type": "code",
   "execution_count": null,
   "metadata": {},
   "outputs": [],
   "source": [
    "plot_3D_mesh(ss3d_hydr, *grid, \"Kriging Varience of Hydrate Saturation\")"
   ]
  }
 ],
 "metadata": {
  "kernelspec": {
   "display_name": "base",
   "language": "python",
   "name": "python3"
  },
  "language_info": {
   "codemirror_mode": {
    "name": "ipython",
    "version": 3
   },
   "file_extension": ".py",
   "mimetype": "text/x-python",
   "name": "python",
   "nbconvert_exporter": "python",
   "pygments_lexer": "ipython3",
   "version": "3.10.10"
  }
 },
 "nbformat": 4,
 "nbformat_minor": 2
}
