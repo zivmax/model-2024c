{
 "cells": [
  {
   "cell_type": "markdown",
   "metadata": {},
   "source": [
    "# Load Data and Preprocessing"
   ]
  },
  {
   "cell_type": "code",
   "execution_count": null,
   "metadata": {},
   "outputs": [],
   "source": [
    "import pandas as pd\n",
    "import os\n",
    "import plotly.graph_objects as go\n",
    "import numpy as np\n",
    "import matplotlib.pyplot as plt\n",
    "\n",
    "# Set the default DPI\n",
    "plt.rcParams['figure.dpi'] = 100  \n",
    "\n",
    "well_info = pd.read_csv('well-loc.tsv', sep='\\t')\n",
    "\n",
    "# Path to the sensor data directory\n",
    "sensor_data_path = 'sensor-data'\n",
    "\n",
    "# List all TSV files in the directory\n",
    "sensor_data_files = [f for f in os.listdir(sensor_data_path) if f.endswith('.tsv')]\n",
    "\n",
    "# Sort the sensor_data_files list\n",
    "sensor_data_files.sort(key= lambda x: int(x.split('.')[0]))\n",
    "\n",
    "# Load and concatenate all sensor data files into one DataFrame\n",
    "sensor_data_list = [pd.read_csv(os.path.join(sensor_data_path, file), sep='\\t',\n",
    "                                na_values=\"-9999\") for file in sensor_data_files]\n",
    "\n",
    "# Remove the data point with NaN value\n",
    "well_info = well_info.dropna()\n",
    "for sensor_data in sensor_data_list:\n",
    "    sensor_data.dropna(inplace=True)\n",
    "\n",
    "# Reset the index of the well_loc DataFrame to Well, X, Y\n",
    "well_info.rename(columns={'井': 'Well'}, inplace=True)\n",
    "\n",
    "# Reset the index of the sensor data DataFrame to Depth, Porosity, Hydrate Saturation\n",
    "for idx, _ in enumerate(sensor_data_list):\n",
    "\tsensor_data_list[idx].columns = ['Depth', 'Porosity', 'Hydrate Saturation']\n",
    "\n",
    "print(well_info.head())  # Display the first few rows to verify it's loaded correctly\n",
    "print(sensor_data_list[0].head())  # Display the first few rows to verify it's loaded correctly"
   ]
  },
  {
   "cell_type": "code",
   "execution_count": null,
   "metadata": {},
   "outputs": [],
   "source": [
    "# Calculate the percentage of the data points contains the negative value in sensor data\n",
    "negative_data = []\n",
    "for idx, sensor_data in enumerate(sensor_data_list):\n",
    "    condition = (sensor_data['Porosity'] < 0) | (sensor_data['Hydrate Saturation'] < 0)\n",
    "    negative_data.append(len(sensor_data[condition]) / len(sensor_data))\n",
    "\n",
    "# Plot the number of negative data points\n",
    "fig = go.Figure(data=[go.Bar(x=sensor_data_files, y=negative_data)])\n",
    "fig.update_layout(title_text='Number of negative data points in each sensor data file')\n",
    "fig.show()\n"
   ]
  },
  {
   "cell_type": "code",
   "execution_count": null,
   "metadata": {},
   "outputs": [],
   "source": [
    "from sklearn.preprocessing import MinMaxScaler\n",
    "\n",
    "# Normalize the sensor data\n",
    "scaler = MinMaxScaler()\n",
    "for idx, sensor_data in enumerate(sensor_data_list):\n",
    "    sensor_data[['Porosity', 'Hydrate Saturation']] = scaler.fit_transform(sensor_data[['Porosity', 'Hydrate Saturation']])"
   ]
  },
  {
   "cell_type": "markdown",
   "metadata": {},
   "source": [
    "# Estimate Resource Distribution"
   ]
  },
  {
   "cell_type": "code",
   "execution_count": null,
   "metadata": {},
   "outputs": [],
   "source": [
    "def estimate_resource(sensor_data: pd.Series) -> float:\n",
    "\t\"\"\"Estimate the resource at a given location based on sensor data\"\"\"\n",
    "\t# Get the Porosity and the Hydrate saturation\n",
    "\tporosity = sensor_data['Porosity']\n",
    "\thydrate_saturation = sensor_data['Hydrate Saturation']\n",
    "\n",
    "\tvalid_volume = 1 # Assume the valid volume is 1 cubic meter\n",
    "\tfactor = 155 # Assume the factor is 155\n",
    "\n",
    "\t# Calculate the resource estimate\n",
    "\treturn valid_volume * porosity * hydrate_saturation * factor"
   ]
  },
  {
   "cell_type": "code",
   "execution_count": null,
   "metadata": {},
   "outputs": [],
   "source": [
    "esti_data_list: list[pd.DataFrame] = []\n",
    "\n",
    "# Calculate the resource estimate for each sensor data in each depth\n",
    "for sensor_data in sensor_data_list:\n",
    "    estimation = pd.DataFrame()\n",
    "    estimation['Estimated Resources'] = sensor_data.apply(estimate_resource, axis=1)\n",
    "    estimation['Depth'] = sensor_data['Depth']\n",
    "    esti_data_list.append(estimation)\n",
    "\n",
    "esti_data_list[0]"
   ]
  },
  {
   "cell_type": "markdown",
   "metadata": {},
   "source": [
    "# Kriging 3D Interpolation"
   ]
  },
  {
   "cell_type": "markdown",
   "metadata": {},
   "source": [
    "### Define Functions"
   ]
  },
  {
   "cell_type": "code",
   "execution_count": null,
   "metadata": {},
   "outputs": [],
   "source": [
    "def compose_krige3D(name: str, sample_frac: float, step_sizes: tuple, variogram: str):\n",
    "    from pykrige.ok3d import OrdinaryKriging3D\n",
    "\n",
    "    # Make kriging interpolation for Porosity  individually\n",
    "    data_frames = []\n",
    "    for i, df in enumerate(sensor_data_list):\n",
    "        df['X'] = well_info.loc[i, 'X']\n",
    "        df['Y'] = well_info.loc[i, 'Y']\n",
    "        df['Well'] = well_info.loc[i, 'Well']\n",
    "        df['Total Resources'] = well_info.loc[i, 'Total Resources']\n",
    "        data_frames.append(df)\n",
    "\n",
    "    combined_data = pd.concat(data_frames, ignore_index=True)\n",
    "\n",
    "    sampled_data = combined_data.sample(frac=sample_frac, random_state=1)  # random_state for reproducibility\n",
    "\n",
    "    X = sampled_data['X'].values\n",
    "    Y = sampled_data['Y'].values\n",
    "    Z = sampled_data['Depth'].values\n",
    "    values = sampled_data[name].values\n",
    "\n",
    "    # Create the 3D Kriging model\n",
    "    ok3d = OrdinaryKriging3D(\n",
    "        X,\n",
    "        Y,\n",
    "        Z,\n",
    "        values,\n",
    "        variogram_model=variogram,  # You might need to experiment with different models\n",
    "        verbose=True,\n",
    "        enable_plotting=True,\n",
    "    )\n",
    "    \n",
    "    # Define grid points for interpolation\n",
    "    grid_x = np.arange(min(X)-200, max(X)+200, step_sizes[0])\n",
    "    grid_y = np.arange(min(Y)-200, max(Y)+200, step_sizes[1])\n",
    "    grid_z = np.arange(min(Z)-1, max(Z)+1, step_sizes[2])\n",
    "\n",
    "    return ok3d, (grid_x, grid_y, grid_z)"
   ]
  },
  {
   "cell_type": "code",
   "execution_count": null,
   "metadata": {},
   "outputs": [],
   "source": [
    "def plot_3D_mesh(t, grid_x, grid_y, grid_z, title: str):\n",
    "    GZ, GY, GX = np.meshgrid(grid_z, grid_y, grid_x, indexing='ij')\n",
    "    print(GX.shape, GY.shape, GZ.shape)  # 应该输出 (12, 108, 88) 或类似，取决于具体的 grid_x, grid_y, grid_z\n",
    "\n",
    "    fig = go.Figure(\n",
    "        data=[go.Volume(\n",
    "            x=GX.flatten(),\n",
    "            y=GY.flatten(),\n",
    "            z=GZ.flatten(),\n",
    "            value=t.flatten(),\n",
    "            isomin=t.min(),\n",
    "            isomax=t.max(),\n",
    "            opacity=0.5,  # Adjust the opacity to your liking\n",
    "            surface_count=15,  # Adjust the number of isosurfaces\n",
    "        )])\n",
    "\n",
    "    # Update the layout of the plot\n",
    "    fig.update_layout(\n",
    "        title=title,\n",
    "        scene=dict(\n",
    "            xaxis_title='X',\n",
    "            yaxis_title='Y',\n",
    "            zaxis=dict(\n",
    "                title='Depth',\n",
    "                autorange='reversed'  # Automatically reverse the z-axis\n",
    "            )\n",
    "        )\n",
    "    )\n",
    "\n",
    "    # Show the plot\n",
    "    fig.show()"
   ]
  },
  {
   "cell_type": "markdown",
   "metadata": {},
   "source": [
    "### Kriging Interpolation of Total Resources"
   ]
  },
  {
   "cell_type": "code",
   "execution_count": null,
   "metadata": {},
   "outputs": [],
   "source": [
    "ok3d, grid = compose_krige3D(\"Total Resources\", 0.8, (10, 10, 1), 'linear')"
   ]
  },
  {
   "cell_type": "code",
   "execution_count": null,
   "metadata": {},
   "outputs": [],
   "source": [
    "t_res, ss3d_res = ok3d.execute('grid', *grid)"
   ]
  },
  {
   "cell_type": "code",
   "execution_count": null,
   "metadata": {},
   "outputs": [],
   "source": [
    "plot_3D_mesh(t_res, *grid, \"Kriging Interpolation of Total Resources\")\n",
    "plot_3D_mesh(ss3d_res, *grid, \"Kriging Varience of Total Resources\")"
   ]
  },
  {
   "cell_type": "markdown",
   "metadata": {},
   "source": [
    "### Kriging Interpolation of Porosity"
   ]
  },
  {
   "cell_type": "code",
   "execution_count": null,
   "metadata": {},
   "outputs": [],
   "source": [
    "ok3d, grid = compose_krige3D(\"Porosity\", 0.8, (10, 10, 1), 'linear')"
   ]
  },
  {
   "cell_type": "code",
   "execution_count": null,
   "metadata": {},
   "outputs": [],
   "source": [
    "t_poro, ss3d_poro = ok3d.execute('grid', *grid)"
   ]
  },
  {
   "cell_type": "code",
   "execution_count": null,
   "metadata": {},
   "outputs": [],
   "source": [
    "plot_3D_mesh(t_res, *grid, \"Kriging Interpolation of Porosity\")\n",
    "plot_3D_mesh(ss3d_poro, *grid, \"Kriging Varience of Porosity\")"
   ]
  }
 ],
 "metadata": {
  "language_info": {
   "name": "python"
  }
 },
 "nbformat": 4,
 "nbformat_minor": 2
}
