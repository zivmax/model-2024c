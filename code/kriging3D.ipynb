{
 "cells": [
  {
   "cell_type": "markdown",
   "metadata": {},
   "source": [
    "# Imports"
   ]
  },
  {
   "cell_type": "code",
   "execution_count": null,
   "metadata": {},
   "outputs": [],
   "source": [
    "import numpy as np\n",
    "import matplotlib.pyplot as plt\n",
    "import plotly.graph_objects as go\n",
    "import pandas as pd\n",
    "import pickle"
   ]
  },
  {
   "cell_type": "markdown",
   "metadata": {},
   "source": [
    "# Load Data and Preprocessing"
   ]
  },
  {
   "cell_type": "code",
   "execution_count": null,
   "metadata": {},
   "outputs": [],
   "source": [
    "from loadAndPreprocess import load_and_preprocess\n",
    "\n",
    "'''\n",
    "well_info: Well, X, Y, Total Resources\n",
    "sensor_data: Depth, Porosity, Hydrate Saturation, Estimated Resources\n",
    "'''\n",
    "well_info, sensor_data_list = load_and_preprocess()\n",
    "\n",
    "# Remove the data point with NaN value\n",
    "well_info = well_info.dropna()\n",
    "for sensor_data in sensor_data_list:\n",
    "    sensor_data.dropna(inplace=True)"
   ]
  },
  {
   "cell_type": "markdown",
   "metadata": {},
   "source": [
    "# Kriging 3D Interpolation"
   ]
  },
  {
   "cell_type": "markdown",
   "metadata": {},
   "source": [
    "### Define Functions"
   ]
  },
  {
   "cell_type": "code",
   "execution_count": null,
   "metadata": {},
   "outputs": [],
   "source": [
    "def plot_3D_mesh(t, grid_x, grid_y, grid_z, title: str, color_scale='Viridis'):\n",
    "    GZ, GY, GX = np.meshgrid(grid_z, grid_y, grid_x, indexing='ij')\n",
    "\n",
    "    fig = go.Figure(\n",
    "        data=[go.Volume(\n",
    "            x=GX.flatten(),\n",
    "            y=GY.flatten(),\n",
    "            z=GZ.flatten(),\n",
    "            value=t.flatten(),\n",
    "            isomax=t.max(),\n",
    "            isomin=t.min(),\n",
    "            opacity=0.5,  \n",
    "            surface_count=25,  # Adjust the number of isosurfaces\n",
    "            colorscale=color_scale \n",
    "        )])\n",
    "\n",
    "    # Update the layout of the plot\n",
    "    fig.update_layout(\n",
    "        height=600,\n",
    "        width=700,\n",
    "        title=title,\n",
    "        scene=dict(\n",
    "            xaxis_title='X',\n",
    "            yaxis_title='Y',\n",
    "            zaxis=dict(\n",
    "                title='Depth',\n",
    "                autorange='reversed'  # Automatically reverse the z-axis\n",
    "            )\n",
    "        )\n",
    "    )\n",
    "\n",
    "    # Show the plot\n",
    "    fig.show()"
   ]
  },
  {
   "cell_type": "markdown",
   "metadata": {},
   "source": [
    "### Define the Space to Interpolate"
   ]
  },
  {
   "cell_type": "code",
   "execution_count": null,
   "metadata": {},
   "outputs": [],
   "source": [
    "step_sizes = [60.0, 60.0, 6.0]\n",
    "\n",
    "X = well_info['X'].values\n",
    "Y = well_info['Y'].values\n",
    "Z = [sensor_data['Depth'] for sensor_data in sensor_data_list]\n",
    "Z = np.concatenate(Z)\n",
    "\n",
    "# Define grid points for interpolation\n",
    "grid_x = np.arange(min(X)-200, max(X)+200, step_sizes[0])\n",
    "grid_y = np.arange(min(Y)-200, max(Y)+200, step_sizes[1])\n",
    "grid_z = np.arange(min(Z)-10, max(Z)+10, step_sizes[2])\n",
    "\n",
    "grid = (grid_x, grid_y, grid_z)"
   ]
  },
  {
   "cell_type": "markdown",
   "metadata": {},
   "source": [
    "### Kriging Interpolation of Porosity"
   ]
  },
  {
   "cell_type": "code",
   "execution_count": null,
   "metadata": {},
   "outputs": [],
   "source": [
    "# Load the model\n",
    "with open('models/ok3d_poro.pkl', 'rb') as f:\n",
    "    ok3d_poro = pickle.load(f)"
   ]
  },
  {
   "cell_type": "code",
   "execution_count": null,
   "metadata": {},
   "outputs": [],
   "source": [
    "t_poro, ss3d_poro = ok3d_poro.execute('grid', *grid)"
   ]
  },
  {
   "cell_type": "code",
   "execution_count": null,
   "metadata": {},
   "outputs": [],
   "source": [
    "plot_3D_mesh(t_poro, *grid, \"Kriging Interpolation of Porosity\", \"Plasma\")"
   ]
  },
  {
   "cell_type": "code",
   "execution_count": null,
   "metadata": {},
   "outputs": [],
   "source": [
    "plot_3D_mesh(ss3d_poro, *grid, \"Kriging Varience of Porosity\")"
   ]
  },
  {
   "cell_type": "markdown",
   "metadata": {},
   "source": [
    "### Kriging Interpolation of Hydrate Saturation"
   ]
  },
  {
   "cell_type": "code",
   "execution_count": null,
   "metadata": {},
   "outputs": [],
   "source": [
    "# Load the model\n",
    "with open('models/ok3d_hydr.pkl', 'rb') as f:\n",
    "    ok3d_hydr = pickle.load(f)"
   ]
  },
  {
   "cell_type": "code",
   "execution_count": null,
   "metadata": {},
   "outputs": [],
   "source": [
    "t_hydr, ss3d_hydr = ok3d_hydr.execute('grid', *grid)"
   ]
  },
  {
   "cell_type": "code",
   "execution_count": null,
   "metadata": {},
   "outputs": [],
   "source": [
    "plot_3D_mesh(t_hydr, *grid, \"Kriging Interpolation of Hydrate Saturation\", \"Plasma\")"
   ]
  },
  {
   "cell_type": "code",
   "execution_count": null,
   "metadata": {},
   "outputs": [],
   "source": [
    "plot_3D_mesh(ss3d_hydr, *grid, \"Kriging Varience of Hydrate Saturation\")"
   ]
  }
 ],
 "metadata": {
  "kernelspec": {
   "display_name": "base",
   "language": "python",
   "name": "python3"
  },
  "language_info": {
   "codemirror_mode": {
    "name": "ipython",
    "version": 3
   },
   "file_extension": ".py",
   "mimetype": "text/x-python",
   "name": "python",
   "nbconvert_exporter": "python",
   "pygments_lexer": "ipython3",
   "version": "3.10.10"
  }
 },
 "nbformat": 4,
 "nbformat_minor": 2
}
