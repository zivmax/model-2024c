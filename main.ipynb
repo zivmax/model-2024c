{
 "cells": [
  {
   "cell_type": "code",
   "execution_count": 58,
   "metadata": {},
   "outputs": [
    {
     "name": "stdout",
     "output_type": "stream",
     "text": [
      "  Well      X      Y\n",
      "0  w01  34500  45000\n",
      "1  w02  36000  45050\n",
      "2  w03  37050  45020\n",
      "3  w04  37880  46000\n",
      "4  w05  35000  46030\n",
      "         Depth  Porosity  Hydrate Saturation\n",
      "352  1640.1288    0.5924           -0.566650\n",
      "353  1640.2812    0.5916           -0.545652\n",
      "354  1640.4336    0.5957           -0.567872\n",
      "355  1640.5860    0.5949           -0.573357\n",
      "356  1640.7384    0.6058           -0.535303\n"
     ]
    }
   ],
   "source": [
    "import pandas as pd\n",
    "import matplotlib as plt\n",
    "import seaborn as sns\n",
    "import os\n",
    "\n",
    "well_loc = pd.read_csv('well-loc.tsv', sep='\\t', na_values=\"-9999\")\n",
    "\n",
    "\n",
    "# Path to the sensor data directory\n",
    "sensor_data_path = 'sensor-data'\n",
    "\n",
    "# List all TSV files in the directory\n",
    "sensor_files = [f for f in os.listdir(sensor_data_path) if f.endswith('.tsv')]\n",
    "\n",
    "# Load and concatenate all sensor data files into one DataFrame\n",
    "sensor_data_list = [pd.read_csv(os.path.join(sensor_data_path, file), sep='\\t',\n",
    "                                na_values=\"-9999\") for file in sensor_files]\n",
    "\n",
    "# Remove the data point with NaN value\n",
    "well_loc = well_loc.dropna()\n",
    "for sensor_data in sensor_data_list:\n",
    "    sensor_data.dropna(inplace=True)\n",
    "\n",
    "\n",
    "# Reset the index of the well_loc DataFrame to Well, X, Y\n",
    "well_loc.rename(columns={'井': 'Well'}, inplace=True)\n",
    "\n",
    "# Reset the index of the sensor data DataFrame to Depth, Porosity, Hydrate Saturation\n",
    "for idx, _ in enumerate(sensor_data_list):\n",
    "\tsensor_data_list[idx].columns = ['Depth', 'Porosity', 'Hydrate Saturation']\n",
    "\n",
    "\n",
    "\n",
    "print(well_loc.head())  # Display the first few rows to verify it's loaded correctly\n",
    "print(sensor_data_list[0].head())  # Display the first few rows to verify it's loaded correctly"
   ]
  },
  {
   "cell_type": "code",
   "execution_count": null,
   "metadata": {},
   "outputs": [],
   "source": [
    "# Impl"
   ]
  },
  {
   "cell_type": "code",
   "execution_count": 59,
   "metadata": {},
   "outputs": [],
   "source": [
    "def estimate_resource(sensor_data: pd.Series):\n",
    "\t\"\"\"Estimate the resource at a given location based on sensor data\"\"\"\n",
    "\t# Get the Porosity and the Hydrate saturation\n",
    "\tporosity = sensor_data['Porosity']\n",
    "\thydrate_saturation = sensor_data['Hydrate Saturation']\n",
    "\n",
    "\tvalid_volume = 1 # Assume the valid volume is 1 cubic meter\n",
    "\tfactor = 155 # Assume the factor is 155\n",
    "\n",
    "\t# Calculate the resource estimate\n",
    "\treturn valid_volume * porosity * hydrate_saturation * factor"
   ]
  },
  {
   "cell_type": "code",
   "execution_count": 60,
   "metadata": {},
   "outputs": [
    {
     "name": "stdout",
     "output_type": "stream",
     "text": [
      "     Estimated Resources      Depth\n",
      "352           -52.030927  1640.1288\n",
      "353           -50.035170  1640.2812\n",
      "354           -52.433572  1640.4336\n",
      "355           -52.868953  1640.5860\n",
      "356           -50.264416  1640.7384\n"
     ]
    }
   ],
   "source": [
    "esti_data_list = []\n",
    "\n",
    "# Calculate the resource estimate for each sensor data in each depth\n",
    "for sensor_data in sensor_data_list:\n",
    "\testimation = pd.DataFrame()\n",
    "\testimation['Estimated Resources'] = sensor_data.apply(estimate_resource, axis=1)\n",
    "\testimation['Depth'] = sensor_data['Depth']\n",
    "\testi_data_list.append(estimation)\n",
    "\n",
    "print(esti_data_list[0].head())  # Display the first few rows to verify the resource estimate is calculated correctly"
   ]
  }
 ],
 "metadata": {
  "kernelspec": {
   "display_name": "base",
   "language": "python",
   "name": "python3"
  },
  "language_info": {
   "codemirror_mode": {
    "name": "ipython",
    "version": 3
   },
   "file_extension": ".py",
   "mimetype": "text/x-python",
   "name": "python",
   "nbconvert_exporter": "python",
   "pygments_lexer": "ipython3",
   "version": "3.10.13"
  }
 },
 "nbformat": 4,
 "nbformat_minor": 2
}
